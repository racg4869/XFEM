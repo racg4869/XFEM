{
 "cells": [
  {
   "cell_type": "code",
   "execution_count": 1,
   "metadata": {},
   "outputs": [],
   "source": [
    "import numpy as np\n",
    "import scipy as sp\n",
    "from mpl_toolkits import mplot3d\n",
    "import matplotlib.pyplot as plt\n",
    "import heapq\n",
    "from itertools import product\n",
    "from functools import partial\n",
    "import logging\n",
    "import sympy as sym\n",
    "smx,smy,smz=sym.symbols('x y z')"
   ]
  },
  {
   "cell_type": "code",
   "execution_count": 2,
   "metadata": {},
   "outputs": [],
   "source": [
    "class GridHex:\n",
    "    \"\"\"\n",
    "    >>> GridHex(np.linspce(0,1,11)) # for 1D\n",
    "    >>> GridHex(np.linspce(0,1,11),np.linspce(0,1,21)) # for 2D\n",
    "    >>> GridHex(np.linspce(0,1,11),np.linspce(0,1,21),np.linspce(0,1,31)) #for 3D\n",
    "    \"\"\"\n",
    "    def __init__(self,*seeds,chs=2): \n",
    "        self.ndim=len(seeds)\n",
    "        self.shape=tuple(len(seeds[axis]) for axis in range(self.ndim))\n",
    "        self.seeds=[seeds[axis] for axis in range(self.ndim)]\n",
    "        \n",
    "        self.XYZs=np.meshgrid(*seeds,indexing='ij') # little different to meshgrid\n",
    "        self.X,self.Y,self.Z=[self.XYZs[i] if self.ndim>i else None for i in range(3)]\n",
    "        self.xs,self.ys,self.zs=[seeds[i] if self.ndim>i else None for i in range(3)]\n",
    "        \n",
    "        self.chs=chs\n",
    "        self.funcs={\n",
    "            0: self.upwindENO2,\n",
    "            1: self.upwind,\n",
    "            2: self.upwindENO2,\n",
    "            3: self.upwindENO3,\n",
    "        }\n",
    "\n",
    "    def mesh_derivate(self):\n",
    "        X,Y=self.X,self.Y\n",
    "        m,n=np.shape(X)\n",
    "        #print(m,n)\n",
    "        dNjdxi=np.zeros((m-1,n-1,4,2,4))\n",
    "        weights=np.zeros((m-1,n-1,4))\n",
    "        for i in range(m-1):\n",
    "            for j in range(n-1):\n",
    "                nodes=((i,j),(i,j+1),(i+1,j+1),(i+1,j))\n",
    "                coords=[(X[k,l],Y[k,l]) for (k,l) in nodes]\n",
    "                dNjdris=isoparametric2d(coords)\n",
    "                Js=dNjdris@np.array(coords)\n",
    "                for k in range(4):\n",
    "                    ni,nj=nodes[k]\n",
    "                    J=Js[k,:,:]\n",
    "                    dNjdxi[i,j,k,:,:]=np.linalg.inv(J)@(dNjdris[k,:,:])\n",
    "                    weights[i,j,k]=1./np.linalg.det(J)\n",
    "        return dNjdxi,weights\n",
    "        \n",
    "    def grad(self,Z):\n",
    "        xs,ys=self.xs,self.ys\n",
    "        fy,fx=np.gradient(Z,ys,xs)\n",
    "        return np.array([fx,fy])\n",
    "    \n",
    "    def grad1(self,Z,mesh_der=None):\n",
    "        \"\"\"\n",
    "        与np.gradient性能有较大差距，但是结果与其类似，不建议使用\n",
    "        \"\"\"\n",
    "        X,Y=self.X,self.Y\n",
    "        M,N=np.shape(X)\n",
    "        der,wgh=np.zeros((2,M,N)),np.zeros((M,N))\n",
    "\n",
    "        dNjdxis,weights=mesh_derivate(xx,yy) if mesh_der is None else mesh_der\n",
    "\n",
    "        for i in range(M-1):\n",
    "            for j in range(N-1):\n",
    "                nodes=((i,j),(i,j+1),(i+1,j+1),(i+1,j))\n",
    "                fs=[Z[k,l] for k,l in nodes]\n",
    "                for k in range(4):\n",
    "                    ni,nj=nodes[k]\n",
    "                    dNjdxi=dNjdxis[i,j,k,:,:]\n",
    "                    w=weights[i,j,k]\n",
    "                    der[:,ni,nj]+=w*(dNjdxi@fs)\n",
    "                    wgh[ni,nj]+=w\n",
    "        der=der/wgh\n",
    "        return der,wgh\n",
    "    \n",
    "    def plot(self,Z,title=''):\n",
    "        if self.ndim==1:\n",
    "            plt.plot(self.X,Z)\n",
    "        elif self.ndim==2:\n",
    "            plt.contourf(self.X,self.Y,Z)\n",
    "            plt.colorbar()\n",
    "        elif self.ndim==3:\n",
    "            raise NotImplementedError(\"Unsupport 3D plot Now! \")\n",
    "            pass\n",
    "        plt.title(title)\n",
    "        return \n",
    "    \n",
    "    def __call__(self,axis,Z):\n",
    "        return self.funcs[self.chs](axis,Z)\n",
    "        \n",
    "    def upwind(self,axis,Z):\n",
    "        \"\"\"\n",
    "        used in upwind scheme.\n",
    "        At each grid point, define φx− as D−φ and φx+ as D+φ. \n",
    "        If u_i > 0, approximate φx with φ−x . \n",
    "        If u_i < 0, approximate φx with φ+x .\n",
    "        \"\"\"\n",
    "        xys=self.seeds\n",
    "        triml1=tuple((slice(None) if i!=axis else slice(1,None) for i in range(ndim)))\n",
    "        trimr1=tuple((slice(None) if i!=axis else slice(0,-1) for i in range(ndim)))        \n",
    "        extd=tuple((None if i!=axis else slice(None) for i in range(ndim)))\n",
    "        \n",
    "        gc=GhostCell(stencil=1)\n",
    "        dxy1=gc.periodic(axis,np.diff(xys[axis])[extd])\n",
    "        \n",
    "        D0=gc.periodic(axis,Z)\n",
    "        D1=np.diff(D0,axis=axis)/dxy1\n",
    "\n",
    "        Dlft,Drht=D1[trimr1],D1[triml1]\n",
    "\n",
    "        return Dlft,Drht\n",
    "    \n",
    "    def upwindENO2(self,axis,Z,subcellfix=False):\n",
    "        \"\"\"\n",
    "        Give second order approximation for One-Sided Derivatives φx− and φx+ \n",
    "        there are two possible second order approximations to both the left and right, \n",
    "        and  chooses the least oscillatory one according to the \n",
    "        \n",
    "        Refer to:\n",
    "            1. Osher S, Fedkiw R, Piechor K. Level set methods and dynamic implicit surfaces[J]. Appl. Mech. Rev., 2004, 57(3): B15-B15.\n",
    "                Chapter 3.3 Hamilton-Jacobi ENO\n",
    "            2. Mitchell I M. A toolbox of level set methods[J]. UBC Department of Computer Science Technical Report TR-2007-11, 2007.\n",
    "                upwindFirstENO2.m\n",
    "                \n",
    "        Parameters\n",
    "        __________\n",
    "        axis : the dimension axis index; 0 means axis 0 , 1 means axis 1\n",
    "        Z   : function values matrix\n",
    "\n",
    "        \"\"\"\n",
    "        xys,ndim=self.seeds,self.ndim\n",
    "        \n",
    "        triml1=tuple((slice(None) if i!=axis else slice(1,None) for i in range(ndim)))\n",
    "        triml2=tuple((slice(None) if i!=axis else slice(2,None) for i in range(ndim)))\n",
    "        trimr1=tuple((slice(None) if i!=axis else slice(0,-1) for i in range(ndim)))\n",
    "        trimr2=tuple((slice(None) if i!=axis else slice(0,-2) for i in range(ndim)))\n",
    "        trimlr1=tuple((slice(None) if i!=axis else slice(1,-1) for i in range(ndim)))\n",
    "        extd=tuple((None if i!=axis else slice(None) for i in range(ndim)))\n",
    "        \n",
    "        gc2=GhostCell(stencil=2)\n",
    "        dxy1=gc2.zeroOrderExtrapolation(axis,np.diff(xys[axis])[extd])\n",
    "        D0=gc2.zeroOrderExtrapolation(axis,Z)#gc2.periodic(axis,Z)\n",
    "        D1=np.diff(D0,axis=axis)/dxy1\n",
    "        D2=(D1[triml1]-D1[trimr1])/(dxy1[triml1]+dxy1[trimr1]) # N+2\n",
    "        \n",
    "        D1,dxy1=D1[trimlr1],dxy1[trimlr1] # N+1\n",
    "        D2abs=np.abs(D2) \n",
    "        \n",
    "        # when using second order Newton polynomial interpolation\n",
    "        #  φ− can be defined from two cases : (i-2,i-1,i) or (i-1,i,i+1)\n",
    "        #  φ+ can be defined from two cases : (i-1,i,i+1) or (i,i+1,i+2)\n",
    "        #  According to Ref.1, Choose the one with smaller absolute value which can avoid interpolating near large variations such as discontinuities or steep gradients\n",
    "        Dlft=D1[trimr1]+dxy1[trimr1]*np.where(D2abs[trimr2]<D2abs[trimlr1],D2[trimr2],D2[trimlr1])\n",
    "        Drht=D1[triml1]-dxy1[triml1]*np.where(D2abs[trimlr1]<D2abs[triml2],D2[trimlr1],D2[triml2])\n",
    "        return Dlft,Drht\n",
    "    \n",
    "    def upwindENO3(self,axis,Z):\n",
    "        raise NotImplementedError('Uowind ENO 3 not implemented error!')\n",
    "    \n",
    "    def finite_difference(self,axis,Z,index):\n",
    "        \"\"\"\n",
    "        return the first order and second order finite difference of the index of `Z` in the direction of `axis`\n",
    "        \"\"\"\n",
    "        pass\n",
    "    def coord(self,ptindex):\n",
    "        return [seed[ind] for seed,ind in zip(self.seeds,ptindex)]\n",
    "    \n",
    "class GhostCell:\n",
    "    \"\"\"\n",
    "    Chapter 7 Boundary Conditions and Ghost Cells from \n",
    "        LeVeque R J. Finite volume methods for hyperbolic problems[M]. Cambridge university press, 2002.\n",
    "        \n",
    "        https://github.com/clawpack/classic/blob/master/src/1d/bc1.f\n",
    "    >>> X=np.np.linspace(0,23,24).reshape((2,3,4))\n",
    "    >>> GhostCell(2).zeroOrderExtrapolation(1,X)\n",
    "    \"\"\"\n",
    "    def __init__(self,stencil=1,scale=1.0):\n",
    "        self.stencil=stencil\n",
    "        self.scale=scale\n",
    "        \n",
    "    def periodic(self,axis,X):\n",
    "        stencil=self.stencil\n",
    "        slc1=tuple(slice(None) if i!=axis else slice(-stencil,None) for i in range(X.ndim))\n",
    "        slc2=tuple(slice(None) if i!=axis else slice(stencil) for i in range(X.ndim))\n",
    "        return np.concatenate((X[slc1]*self.scale,X,X[slc2]*self.scale),axis=axis)\n",
    "    \n",
    "    def zeroOrderExtrapolation(self,axis,X):\n",
    "        stencil=self.stencil\n",
    "        slc1=tuple(slice(None) if i!=axis else slice(0,1) for i in range(X.ndim))\n",
    "        slc2=tuple(slice(None) if i!=axis else slice(-1,None) for i in range(X.ndim))\n",
    "        \n",
    "        X0=np.repeat(X[slc1],stencil,axis=axis)*self.scale\n",
    "        X1=np.repeat(X[slc2],stencil,axis=axis)*self.scale\n",
    "        \n",
    "        #print(X0.shape,X1.shape,X.shape)\n",
    "        return np.concatenate((X0,X,X1),axis=axis)"
   ]
  },
  {
   "cell_type": "code",
   "execution_count": 422,
   "metadata": {},
   "outputs": [],
   "source": [
    "VoxelPointOrder={\n",
    "    1:[(0,),(1,)],\n",
    "    2:[(0,0),(0,1),(1,0),(1,1)],\n",
    "    3:[(0, 0, 0),(0, 0, 1),(0, 1, 0),(0, 1, 1),\n",
    "       (1, 0, 0),(1, 0, 1),(1, 1, 0),(1, 1, 1)],\n",
    "}\n",
    "VoxelPointOrder={\n",
    "    1:[(0,),(1,)],\n",
    "    # Figure 3.6.1 in Numerical recips\n",
    "    2:[(0,0),(1,0),(1,1),(0,1)], \n",
    "    # \n",
    "    3:[(0,0,0),(1,0,0),(1,1,0),(0,1,0),\n",
    "       (0,0,1),(1,0,1),(1,1,1),(0,1,1),],\n",
    "}\n",
    "\n",
    "p=lambda x,k: 0 if k<0 else x**k\n",
    "\n",
    "X1=np.zeros((4,4))\n",
    "for k,(x,) in enumerate(VoxelPointOrder[1]):\n",
    "    X1[k,:]=np.array([p(x,i) for i in range(4)])\n",
    "    X1[k+2,:]=np.array([i*p(x,i-1) for i in range(4)])\n",
    "W1=np.linalg.inv(X1)\n",
    "\n",
    "X2=np.zeros((16,16))\n",
    "for k,(x,y) in enumerate(VoxelPointOrder[2]):\n",
    "    X2[k,:]=np.array([p(x,i)*p(y,j) for i,j in product(range(4),range(4))])\n",
    "    X2[k+4,:]=np.array([i*p(x,i-1)*p(y,j) for i,j in product(range(4),range(4))])\n",
    "    X2[k+8,:]=np.array([j*p(x,i)*p(y,j-1) for i,j in product(range(4),range(4))])\n",
    "    X2[k+12,:]=np.array([i*j*p(x,i-1)*p(y,j-1) for i,j in product(range(4),range(4))])\n",
    "W2=np.linalg.inv(X2) \n",
    "\n",
    "X3=np.zeros((64,64))\n",
    "for n,(x,y,z) in enumerate(VoxelPointOrder[3]):\n",
    "    X3[n,:]   =np.array([p(x,i)*p(y,j)*p(z,k) for i,j,k in product(range(4),range(4),range(4))])\n",
    "    X3[n+8,:] =np.array([i*p(x,i-1)*p(y,j)*p(z,k) for i,j,k in product(range(4),range(4),range(4))])\n",
    "    X3[n+16,:]=np.array([j*p(x,i)*p(y,j-1)*p(z,k) for i,j,k in product(range(4),range(4),range(4))])\n",
    "    X3[n+24,:]=np.array([k*p(x,i)*p(y,j)*p(z,k-1) for i,j,k in product(range(4),range(4),range(4))])\n",
    "    X3[n+32,:]=np.array([k*j*p(x,i)*p(y,j-1)*p(z,k-1) for i,j,k in product(range(4),range(4),range(4))])    \n",
    "    X3[n+40,:]=np.array([i*k*p(x,i-1)*p(y,j)*p(z,k-1) for i,j,k in product(range(4),range(4),range(4))])\n",
    "    X3[n+48,:]=np.array([i*j*p(x,i-1)*p(y,j-1)*p(z,k) for i,j,k in product(range(4),range(4),range(4))])\n",
    "    X3[n+56,:]=np.array([i*j*k*p(x,i-1)*p(y,j-1)*p(z,k-1) for i,j,k in product(range(4),range(4),range(4))])\n",
    "W3=np.linalg.inv(X3)\n",
    "np.savetxt('W1_4x4.txt',W1.flatten('F').astype(np.int),fmt='%d', delimiter=',',newline='\\n')\n",
    "np.savetxt('W2_16x16.txt',W2.flatten('F').astype(np.int),fmt='%d', delimiter=',',newline='\\n')\n",
    "np.savetxt('W3_64x64.txt',W3.flatten('F').astype(np.int),fmt='%d', delimiter=',',newline='\\n')\n",
    "#W1.flatten(order='F'),W2.flatten(order='F'),W3.flatten(order='F')\n",
    "\n",
    "def cucof(ys,y1s,ds,W=None):\n",
    "    \"\"\"\n",
    "    ys,y1s : the value of f,f_x in grid points (0,0),(0,1),(1,0),(1,1)\n",
    "    d1 : the length of the 1th and 2th dimension\n",
    "    \"\"\"\n",
    "    d1=ds[0]\n",
    "    x=np.concatenate([ys,y1s*d1])\n",
    "    c=np.dot(W,x).reshape((4,),order='C')\n",
    "    return c\n",
    "cucof=partial(cucof,W=W1)\n",
    "def cuint(c,seeds,xs):\n",
    "    x=xs[0]\n",
    "    d1=seeds[0][1]-seeds[0][0]\n",
    "    t=(x-seeds[0][0])/d1\n",
    "    y=((c[3]*t+c[2])*t+c[1])*t+c[0]\n",
    "    y1=(3*c[3]*t+2*c[2])*t+c[1]\n",
    "    return y,(y1/d1,)\n",
    "\n",
    "# Press W H, Teukolsky S A, Flannery B P, et al. Numerical recipes in Fortran 77: volume 1, volume 1 of Fortran numerical recipes: the art of scientific computing[M]. Cambridge university press, 1992.\n",
    "def bcucof(ys,y1s,y2s,y12s,ds,W=None):\n",
    "    \"\"\"\n",
    "    ys,y1s,y2s,y12s : the value of f,f_x,f_y,f_xy in grid points (0,0),(0,1),(1,0),(1,1)\n",
    "    d1,d2 : the length of the 1th and 2th dimension\n",
    "    \"\"\"\n",
    "    d1,d2=ds\n",
    "    x=np.concatenate([ys,y1s*d1,y2s*d2,y12s*(d1*d2)])\n",
    "    c=np.dot(W,x).reshape((4,4),order='C')\n",
    "    return c\n",
    "bcucof=partial(bcucof,W=W2)\n",
    "\n",
    "def bcuint(c,seeds,xs):\n",
    "    d1,d2=[seed[1]-seed[0] for seed in seeds]\n",
    "    t,u=[(xs[i]-seeds[i][0])/(seeds[i][1]-seeds[i][0]) for i in range(2)]\n",
    "\n",
    "    y,y1,y2=0.,0.,0.\n",
    "    for i in range(3,-1,-1):\n",
    "        y=t*y+((c[i,3]*u+c[i,2])*u+c[i,1])*u+c[i,0]\n",
    "        y1=u*y1+(3*c[3,i]*t+2*c[2,i])*t+c[1,i]\n",
    "        y2=t*y2+(3*c[i,3]*u+2*c[i,2])*u+c[i,1]\n",
    "    return y,(y1/d1,y2/d2)\n",
    "\n",
    "def tricucof(ys,y1s,y2s,y3s,y23s,y13s,y12s,y123s,ds,W=None):\n",
    "    d1,d2,d3=ds\n",
    "    x=np.concatenate([ys,y1s*d1,y2s*d2,y3s*d3,\n",
    "                      y23s*(d2*d3),y13s*(d1*d3),y12s*(d1*d2),\n",
    "                      y123s*(d1*d2*d3)])\n",
    "    c=np.dot(W,x).reshape((4,4,4),order='C')\n",
    "    return c\n",
    "tricucof=partial(tricucof,W=W3)\n",
    "\n",
    "def tricuint(c,seeds,xs):\n",
    "    \"\"\"\n",
    "    seeds: tuple of lower bound and upper bound of axis\n",
    "        ((x1l,x1u),(x2l,x2u),(x3l,x3u))\n",
    "    \"\"\"\n",
    "    d1,d2,d3=[seeds[i][1]-seeds[i][0] for i in range(3)]\n",
    "    r,s,t=[(xs[i]-seeds[i][0])/(seeds[i][1]-seeds[i][0]) for i in range(3)]\n",
    "    #print(c)\n",
    "    \n",
    "    y,y1,y2,y3=0.,0.,0.,0.\n",
    "    for i in range(3,-1,-1):\n",
    "        inc,inc1,inc2,inc3=0.,0.,0.,0.\n",
    "        for j in range(3,-1,-1):\n",
    "            inc=t*inc+((c[i,3,j]*s+c[i,2,j])*s+c[i,1,j])*s+c[i,0,j]\n",
    "            inc1=s*inc1+(3*c[3,j,i]*r+2*c[2,j,i])*r+c[1,j,i]\n",
    "            inc2=t*inc2+(3*c[i,3,j]*s+2*c[i,2,j])*s+c[i,1,j]\n",
    "            inc3=r*inc3+(3*c[j,i,3]*t+2*c[j,i,2])*t+c[j,i,1]\n",
    "        y=r*y+inc\n",
    "        y1=t*y1+inc1\n",
    "        y2=r*y2+inc2\n",
    "        y3=s*y3+inc3\n",
    "    return y,(y1/d1,y2/d2,y3/d3)\n",
    "\n",
    "class GridHex:\n",
    "    \"\"\"\n",
    "    >>> GridHex(np.linspce(0,1,11)) # for 1D\n",
    "    >>> GridHex(np.linspce(0,1,11),np.linspce(0,1,21)) # for 2D\n",
    "    >>> GridHex(np.linspce(0,1,11),np.linspce(0,1,21),np.linspce(0,1,31)) #for 3D\n",
    "    \"\"\"\n",
    "    def __init__(self,*seeds,chs=2): \n",
    "        self.ndim=len(seeds)\n",
    "        self.shape=tuple(len(seeds[axis]) for axis in range(self.ndim))\n",
    "        self.seeds=[seeds[axis] for axis in range(self.ndim)]\n",
    "        \n",
    "        self.XYZs=np.meshgrid(*seeds,indexing='ij') # little different to meshgrid\n",
    "        self.X,self.Y,self.Z=[self.XYZs[i] if self.ndim>i else None for i in range(3)]\n",
    "        self.xs,self.ys,self.zs=[seeds[i] if self.ndim>i else None for i in range(3)]\n",
    "        \n",
    "        self.chs=chs\n",
    "        self.funcs={\n",
    "            0: self.upwindENO2,\n",
    "            1: self.upwind,\n",
    "            2: self.upwindENO2,\n",
    "            3: self.upwindENO3,\n",
    "        }\n",
    "\n",
    "    def mesh_derivate(self):\n",
    "        X,Y=self.X,self.Y\n",
    "        m,n=np.shape(X)\n",
    "        #print(m,n)\n",
    "        dNjdxi=np.zeros((m-1,n-1,4,2,4))\n",
    "        weights=np.zeros((m-1,n-1,4))\n",
    "        for i in range(m-1):\n",
    "            for j in range(n-1):\n",
    "                nodes=((i,j),(i,j+1),(i+1,j+1),(i+1,j))\n",
    "                coords=[(X[k,l],Y[k,l]) for (k,l) in nodes]\n",
    "                dNjdris=isoparametric2d(coords)\n",
    "                Js=dNjdris@np.array(coords)\n",
    "                for k in range(4):\n",
    "                    ni,nj=nodes[k]\n",
    "                    J=Js[k,:,:]\n",
    "                    dNjdxi[i,j,k,:,:]=np.linalg.inv(J)@(dNjdris[k,:,:])\n",
    "                    weights[i,j,k]=1./np.linalg.det(J)\n",
    "        return dNjdxi,weights\n",
    "        \n",
    "    def grad(self,Z):\n",
    "        xs,ys=self.xs,self.ys\n",
    "        fy,fx=np.gradient(Z,ys,xs)\n",
    "        return np.array([fx,fy])\n",
    "    \n",
    "    def grad1(self,Z,mesh_der=None):\n",
    "        \"\"\"\n",
    "        与np.gradient性能有较大差距，但是结果与其类似，不建议使用\n",
    "        \"\"\"\n",
    "        X,Y=self.X,self.Y\n",
    "        M,N=np.shape(X)\n",
    "        der,wgh=np.zeros((2,M,N)),np.zeros((M,N))\n",
    "\n",
    "        dNjdxis,weights=mesh_derivate(xx,yy) if mesh_der is None else mesh_der\n",
    "\n",
    "        for i in range(M-1):\n",
    "            for j in range(N-1):\n",
    "                nodes=((i,j),(i,j+1),(i+1,j+1),(i+1,j))\n",
    "                fs=[Z[k,l] for k,l in nodes]\n",
    "                for k in range(4):\n",
    "                    ni,nj=nodes[k]\n",
    "                    dNjdxi=dNjdxis[i,j,k,:,:]\n",
    "                    w=weights[i,j,k]\n",
    "                    der[:,ni,nj]+=w*(dNjdxi@fs)\n",
    "                    wgh[ni,nj]+=w\n",
    "        der=der/wgh\n",
    "        return der,wgh\n",
    "    \n",
    "    def plot(self,Z,title=''):\n",
    "        if self.ndim==1:\n",
    "            plt.plot(self.X,Z)\n",
    "        elif self.ndim==2:\n",
    "            plt.contourf(self.X,self.Y,Z)\n",
    "            plt.colorbar()\n",
    "        elif self.ndim==3:\n",
    "            raise NotImplementedError(\"Unsupport 3D plot Now! \")\n",
    "            pass\n",
    "        plt.title(title)\n",
    "        return \n",
    "    \n",
    "    def __call__(self,axis,Z):\n",
    "        return self.funcs[self.chs](axis,Z)\n",
    "        \n",
    "    def upwind(self,axis,Z):\n",
    "        \"\"\"\n",
    "        used in upwind scheme.\n",
    "        At each grid point, define φx− as D−φ and φx+ as D+φ. \n",
    "        If u_i > 0, approximate φx with φ−x . \n",
    "        If u_i < 0, approximate φx with φ+x .\n",
    "        \"\"\"\n",
    "        xys=self.seeds\n",
    "        triml1=tuple((slice(None) if i!=axis else slice(1,None) for i in range(ndim)))\n",
    "        trimr1=tuple((slice(None) if i!=axis else slice(0,-1) for i in range(ndim)))        \n",
    "        extd=tuple((None if i!=axis else slice(None) for i in range(ndim)))\n",
    "        \n",
    "        gc=GhostCell(stencil=1)\n",
    "        dxy1=gc.periodic(axis,np.diff(xys[axis])[extd])\n",
    "        \n",
    "        D0=gc.periodic(axis,Z)\n",
    "        D1=np.diff(D0,axis=axis)/dxy1\n",
    "\n",
    "        Dlft,Drht=D1[trimr1],D1[triml1]\n",
    "\n",
    "        return Dlft,Drht\n",
    "    \n",
    "    def upwindENO2(self,axis,Z,subcellfix=False):\n",
    "        \"\"\"\n",
    "        Give second order approximation for One-Sided Derivatives φx− and φx+ \n",
    "        there are two possible second order approximations to both the left and right, \n",
    "        and  chooses the least oscillatory one according to the \n",
    "        \n",
    "        Refer to:\n",
    "            1. Osher S, Fedkiw R, Piechor K. Level set methods and dynamic implicit surfaces[J]. Appl. Mech. Rev., 2004, 57(3): B15-B15.\n",
    "                Chapter 3.3 Hamilton-Jacobi ENO\n",
    "            2. Mitchell I M. A toolbox of level set methods[J]. UBC Department of Computer Science Technical Report TR-2007-11, 2007.\n",
    "                upwindFirstENO2.m\n",
    "                \n",
    "        Parameters\n",
    "        __________\n",
    "        axis : the dimension axis index; 0 means axis 0 , 1 means axis 1\n",
    "        Z   : function values matrix\n",
    "\n",
    "        \"\"\"\n",
    "        xys,ndim=self.seeds,self.ndim\n",
    "        \n",
    "        triml1=tuple((slice(None) if i!=axis else slice(1,None) for i in range(ndim)))\n",
    "        triml2=tuple((slice(None) if i!=axis else slice(2,None) for i in range(ndim)))\n",
    "        trimr1=tuple((slice(None) if i!=axis else slice(0,-1) for i in range(ndim)))\n",
    "        trimr2=tuple((slice(None) if i!=axis else slice(0,-2) for i in range(ndim)))\n",
    "        trimlr1=tuple((slice(None) if i!=axis else slice(1,-1) for i in range(ndim)))\n",
    "        extd=tuple((None if i!=axis else slice(None) for i in range(ndim)))\n",
    "        \n",
    "        gc2=GhostCell(stencil=2)\n",
    "        dxy1=gc2.zeroOrderExtrapolation(axis,np.diff(xys[axis])[extd])\n",
    "        D0=gc2.zeroOrderExtrapolation(axis,Z)#gc2.periodic(axis,Z)\n",
    "        D1=np.diff(D0,axis=axis)/dxy1\n",
    "        D2=(D1[triml1]-D1[trimr1])/(dxy1[triml1]+dxy1[trimr1]) # N+2\n",
    "        \n",
    "        D1,dxy1=D1[trimlr1],dxy1[trimlr1] # N+1\n",
    "        D2abs=np.abs(D2) \n",
    "        \n",
    "        # when using second order Newton polynomial interpolation\n",
    "        #  φ− can be defined from two cases : (i-2,i-1,i) or (i-1,i,i+1)\n",
    "        #  φ+ can be defined from two cases : (i-1,i,i+1) or (i,i+1,i+2)\n",
    "        #  According to Ref.1, Choose the one with smaller absolute value which can avoid interpolating near large variations such as discontinuities or steep gradients\n",
    "        Dlft=D1[trimr1]+dxy1[trimr1]*np.where(D2abs[trimr2]<D2abs[trimlr1],D2[trimr2],D2[trimlr1])\n",
    "        Drht=D1[triml1]-dxy1[triml1]*np.where(D2abs[trimlr1]<D2abs[triml2],D2[trimlr1],D2[triml2])\n",
    "        return Dlft,Drht\n",
    "    \n",
    "    def upwindENO3(self,axis,Z):\n",
    "        raise NotImplementedError('Uowind ENO 3 not implemented error!')\n",
    "    \n",
    "    def finite_difference(self,axis,Z,index):\n",
    "        \"\"\"\n",
    "        return the first order and second order finite difference of the index of `Z` in the direction of `axis`\n",
    "        \"\"\"\n",
    "        pass\n",
    "    \n",
    "    \n",
    "    def isSignChange(self,vindex,X):\n",
    "        \"\"\"\n",
    "        whether if there is sign change in the voxcel\n",
    "        \"\"\"\n",
    "        #考虑浮点数误差\n",
    "        vals=X[tuple(slice(ind,ind+2) for ind in vindex)].flatten()\n",
    "        return np.abs(np.mean(np.where(np.abs(vals)>1e-13,\n",
    "                                       np.sign(vals),0)\n",
    "                             ))!=1\n",
    "    def isPoint(self,ptindex):\n",
    "        \"\"\"\n",
    "        返回节点是否是内部节点\n",
    "        \"\"\"\n",
    "        return all(0<=ind<l for l,ind in zip(self.shape,ptindex))\n",
    "\n",
    "    def coord(self,ptindex):\n",
    "        return [seed[ind] for seed,ind in zip(self.seeds,ptindex)]\n",
    "\n",
    "    def neighbours(self,index):\n",
    "        \"\"\"\n",
    "        返回邻接节点的索引列表\n",
    "        \"\"\"\n",
    "        ndim=self.ndim\n",
    "        return [tuple((index[k]+j*(k==i) for k in range(ndim))) \n",
    "                        for i in range(ndim) for j in (-1,1) \n",
    "                        if 0<=index[i]+j<self.shape[i]]\n",
    "\n",
    "    def adjacent(self,ptindex,axis,N=1):\n",
    "        \"\"\"\n",
    "        返回 沿axis方向左右两侧与节点index相邻的N个节点的列表的列表\n",
    "        \n",
    "        \"\"\"\n",
    "        ndim=self.ndim\n",
    "        \n",
    "        pts=[[tuple([ptindex[k]-i*(k==axis) for k in range(ndim)]) for i in range(1,N+1)],\n",
    "             [tuple([ptindex[k]+i*(k==axis) for k in range(ndim)]) for i in range(1,N+1)]]\n",
    "        return pts\n",
    "\n",
    "    def delta(self,index,axis):\n",
    "        \"\"\"\n",
    "        计算节点index 沿着axis方向的长度\n",
    "        \"\"\"\n",
    "        seed=self.seeds[axis]\n",
    "        ind=index[axis] #min(max(index[axis],0),self.grid.X.shape[axis]-2)\n",
    "        if (ind>=0) and (ind<=len(seed)-2):\n",
    "            return seed[ind+1]-seed[axis][ind]\n",
    "        else:\n",
    "            return (seed[-1]-seed[0])*1E4\n",
    "\n",
    "    def voxelPoints(self,vindex):\n",
    "        \"\"\"\n",
    "        return a list of index of the grid points of voxel `vindex`\n",
    "        \"\"\"\n",
    "        ndim=self.ndim\n",
    "        return [tuple(vindex[i]+pt[i] for i in range(ndim)) \n",
    "                    for pt in VoxelPointOrder[ndim] ]\n",
    "    \n",
    "    def voxelBound(self,vindex):\n",
    "        return [(seed[ind],seed[ind+1]) for seed,ind in zip(self.seeds,vindex)]\n",
    "    \n",
    "    def voxelValues(self,vindex,X):\n",
    "        \"\"\"\n",
    "        return multi dimension array of values \n",
    "        \"\"\"\n",
    "        return X[tuple(slice(ind,ind+2) for ind in vindex)]\n",
    "    \n",
    "    def triVoxelValues(self,vindex,X):\n",
    "        return np.array([X[ptindex] for ptindex in self.voxelPoints(vindex)])\n",
    "    \n",
    "    def flatten(self,X):\n",
    "        \"\"\"\n",
    "        flatten a multi dimension array `X` in the order defined in `VoxelPointOder`\n",
    "        \"\"\"\n",
    "        return np.array([X[pt] for pt in VoxelPointOrder[self.ndim]])\n",
    "    \n",
    "    def gradient(self,X,index):\n",
    "        seeds=self.seeds\n",
    "        g=np.zeros((self.ndim,))\n",
    "        for axis in range(self.ndim):\n",
    "            seed=seeds[axis]\n",
    "            ind=index[axis]\n",
    "            f0=X[index]\n",
    "            if ind==0:\n",
    "                dx2=seed[ind+1]-seed[ind]\n",
    "                fr=X[tuple(index[i]+1*(i==axis) for i in range(self.ndim))]\n",
    "                d=(fr-f0)/dx2\n",
    "            elif ind==self.shape[axis]-1:\n",
    "                dx1=seed[ind]-seed[ind-1]\n",
    "                fl=X[tuple(index[i]-1*(i==axis) for i in range(self.ndim))]\n",
    "                d=(f0-fl)/dx1\n",
    "            else:\n",
    "                dx1=seed[ind]-seed[ind-1]\n",
    "                fl=X[tuple(index[i]-1*(i==axis) for i in range(self.ndim))]\n",
    "                dx2=seed[ind+1]-seed[ind]\n",
    "                fr=X[tuple(index[i]+1*(i==axis) for i in range(self.ndim))]\n",
    "                d=-(dx2)/(dx1*(dx1 + dx2))*fl+(dx2 - dx1)/(dx1 * dx2)*f0+dx1 / (dx2 * (dx1 + dx2))*fr\n",
    "            g[axis]=d\n",
    "        return g\n",
    "    def cubicCoff(self,vindex,X):\n",
    "        \"\"\"\n",
    "        Using Bicubic or Tricubic Interpolation to Calculate The distance of nodes in those elements which the zero level set crosses \n",
    "        1. Chopp D L. Some improvements of the fast marching method[J]. SIAM Journal on Scientific Computing, 2001, 23(1): 230-244.\n",
    "            Section 3.2\n",
    "        2. Sukumar N, Chopp D L, Béchet E, et al. Three‐dimensional non‐planar crack growth by a coupled extended finite element and fast marching method[J]. International journal for numerical methods in engineering, 2008, 76(5): 727-748.\n",
    "            Section 3.1.1 \n",
    "        \"\"\"\n",
    "        grid=self\n",
    "        ndim=grid.ndim\n",
    "        oneOrder=lambda dx1,dx2: (-(dx2)/(dx1 * (dx1 + dx2)),(dx2 - dx1) / (dx1 * dx2),dx1 / (dx2 * (dx1 + dx2)))\n",
    "        \n",
    "        if ndim==1:\n",
    "            # ys,y1s\n",
    "            vals=np.array([X[i] for i in \n",
    "                           (max(0,min(j,grid.shape[0]-1)) for j in range(vindex[0]-1,vindex[0]+3))])\n",
    "            ds=np.array([grid.seeds[0][j+1]-grid.seeds[0][j] for j in \n",
    "                         (max(0,min(i,grid.shape[0]-2)) for i in range(vindex[0]-1,vindex[0]+2))])\n",
    "            ys=vals[1:3]\n",
    "            y1s=np.zeros((2,))\n",
    "            for i in range(1,3):\n",
    "                a,b,c=oneOrder(ds[i-1],ds[i])\n",
    "                y1s[i-1]=a*vals[i-1]+b*vals[i]+c*vals[i+1]\n",
    "            return cucof(ys,y1s,[grid.seeds[i][vindex[i]+1]-grid.seeds[i][vindex[i]] for i in range(ndim)])\n",
    "        elif ndim==2:\n",
    "            #ys,y1s,y2s,y12s\n",
    "            vals,ds=np.zeros((4,4)),np.zeros((2,3))\n",
    "            ys=np.zeros((2,2))\n",
    "            y1s,y2s=np.zeros((2,2)),np.zeros((2,2))\n",
    "            y12s=np.zeros((2,2))\n",
    "            \n",
    "            for i in range(4):\n",
    "                ind1=min(max(vindex[0]-1+i,0),grid.shape[0]-1)\n",
    "                for j in range(4):\n",
    "                    ind2=min(max(vindex[1]-1+j,0),grid.shape[1]-1)\n",
    "                    vals[i,j]=X[ind1,ind2]\n",
    "            for axis in range(2):\n",
    "                for j in range(3):\n",
    "                    ind=vindex[axis]-1+j\n",
    "                    if ind<0 or ind>grid.shape[axis]-2:\n",
    "                        ds[axis,j]=10000*(grid.seeds[axis][-1]-grid.seeds[axis][0])\n",
    "                    else:\n",
    "                        ds[axis,j]=grid.seeds[axis][ind+1]-grid.seeds[axis][ind]\n",
    "            for i in range(1,3):\n",
    "                dx1,dx0=ds[0,i],ds[0,i-1]\n",
    "                for j in range(1,3):\n",
    "                    dy1,dy0=ds[1,j],ds[1,j-1]\n",
    "                    ys[i-1,j-1]=vals[i,j]\n",
    "                    \n",
    "                    a,b,c=oneOrder(dx0,dx1)\n",
    "                    y1s[i-1,j-1]=a*vals[i-1,j]+b*vals[i,j]+c*vals[i+1,j]\n",
    "                    a,b,c=oneOrder(dy0,dy1)\n",
    "                    y2s[i-1,j-1]=a*vals[i,j-1]+b*vals[i,j]+c*vals[i,j+1]\n",
    "                    \n",
    "                    y12s[i-1,j-1]=(vals[i+1,j+1]-vals[i+1,j-1]-vals[i-1,j+1]+vals[i-1,j-1])/((dx0+dx1)*(dy1+dy0))\n",
    "                    \n",
    "            return bcucof(self.flatten(ys),self.flatten(y1s),self.flatten(y2s),self.flatten(y12s),\n",
    "                         [grid.seeds[i][vindex[i]+1]-grid.seeds[i][vindex[i]] for i in range(ndim)])\n",
    "        elif ndim==3:\n",
    "            #ys,y1s,y2s,y3s,y12ss,y13s,y23s,y123s\n",
    "            ys=np.zeros((2,2,2))\n",
    "            y1s,y2s,y3s=np.zeros((2,2,2)),np.zeros((2,2,2)),np.zeros((2,2,2))\n",
    "            y23s,y13s,y12s=np.zeros((2,2,2)),np.zeros((2,2,2)),np.zeros((2,2,2))\n",
    "            y123s=np.zeros((2,2,2))\n",
    "            \n",
    "            vals=np.zeros((4,4,4))\n",
    "            for idx in product(*[range(4) for i in range(ndim)]):\n",
    "                vals[idx]=X[tuple(min(max(vindex[i]-1+idx[i],0),grid.shape[i]-1) for i in range(ndim))]\n",
    "            \n",
    "            ax_dx=[[],]*ndim\n",
    "            for axis in range(ndim):\n",
    "                ind=vindex[axis]\n",
    "                for i in range(-1,2):\n",
    "                    ind1=ind+i\n",
    "                    if ind1<0 or ind1>grid.shape[axis]-2:\n",
    "                        lth=10000*(grid.seeds[axis][-1]-grid.seeds[axis][1])\n",
    "                    else:\n",
    "                        lth=grid.seeds[axis][ind1+1]-grid.seeds[axis][ind1]\n",
    "                    ax_dx[axis].append(lth)\n",
    "                ax_dx[axis]=np.array(ax_dx[axis])\n",
    "            \n",
    "            for idx in product(*[range(2) for i in range(ndim)]):\n",
    "                i,j,k=tuple(idx[l]+1 for l in range(ndim))\n",
    "                ys[idx]=vals[i,j,k]\n",
    "                ds=[(ax_dx[axis][idx[axis]],ax_dx[axis][idx[axis]+1]) for axis in range(ndim)]\n",
    "                \n",
    "                a,b,c=oneOrder(*ds[0])\n",
    "                y1s[idx]=a*vals[i-1,j,k]+b*vals[i,j,k]+c*vals[i+1,j,k]\n",
    "                a,b,c=oneOrder(*ds[1])\n",
    "                y2s[idx]=a*vals[i,j-1,k]+b*vals[i,j,k]+c*vals[i,j+1,k]\n",
    "                a,b,c=oneOrder(*ds[2])\n",
    "                y3s[idx]=a*vals[i,j,k-1]+b*vals[i,j,k]+c*vals[i,j,k+1]\n",
    "                \n",
    "                a=(ds[1][0]+ds[1][1])*(ds[2][0]+ds[2][1])\n",
    "                y23s[idx]=(vals[i,j+1,k+1]+vals[i,j-1,k-1]-vals[i,j+1,k-1]-vals[i,j-1,k+1])/a\n",
    "                a=(ds[0][0]+ds[0][1])*(ds[2][0]+ds[2][1])\n",
    "                y13s[idx]=(vals[i+1,j,k+1]+vals[i-1,j,k-1]-vals[i+1,j,k-1]-vals[i-1,j,k+1])/a\n",
    "                a=(ds[1][0]+ds[1][1])*(ds[0][0]+ds[0][1])\n",
    "                y12s[idx]=(vals[i+1,j+1,k]+vals[i-1,j-1,k]-vals[i-1,j+1,k]-vals[i+1,j-1,k])/a   \n",
    "                \n",
    "                a=(ds[0][0]+ds[0][1])*(ds[1][0]+ds[1][1])*(ds[2][0]+ds[2][1])\n",
    "                y123s[idx]=((vals[i+1,j+1,k+1]+vals[i-1,j-1,k+1]-vals[i-1,j+1,k+1]-vals[i+1,j-1,k+1])-\n",
    "                            (vals[i+1,j+1,k-1]+vals[i-1,j-1,k-1]-vals[i-1,j+1,k-1]-vals[i+1,j-1,k-1]))/a \n",
    "            return tricucof(self.flatten(ys),\n",
    "                    self.flatten(y1s),self.flatten(y2s),self.flatten(y3s),\n",
    "                    self.flatten(y23s),self.flatten(y13s),self.flatten(y12s),\n",
    "                    self.flatten(y123s),\n",
    "                    [grid.seeds[i][vindex[i]+1]-grid.seeds[i][vindex[i]] for i in range(ndim)])\n",
    "        else:\n",
    "            raise NotImplementedError('Cubic Interpolation for %d D Not Sumpport Now'%(ndim))\n",
    "\n",
    "    def cubicInterpolation(self,cof,vindex,xs):\n",
    "        \"\"\"\n",
    "        计算vindex中 xs对应的值和导数\n",
    "        \"\"\"\n",
    "        ndim=self.ndim\n",
    "        seeds=[(seed[ind],seed[ind+1]) for seed,ind in zip(self.seeds,vindex)]\n",
    "        #seeds=[(self.seeds[i][vindex[i]],self.seeds[i][vindex[i]+1]) for i in range(ndim)]\n",
    "        if ndim==1:\n",
    "            return cuint(cof,seeds,xs)\n",
    "        elif ndim==2:\n",
    "            return bcuint(cof,seeds,xs)\n",
    "        elif ndim==3:\n",
    "            return tricuint(cof,seeds,xs)\n",
    "        else:\n",
    "            raise NotImplementedError('Cubic Interpolation for %d D Not Sumpport Now'%(ndim))        \n",
    "    \n",
    "class GhostCell:\n",
    "    \"\"\"\n",
    "    Chapter 7 Boundary Conditions and Ghost Cells from \n",
    "        LeVeque R J. Finite volume methods for hyperbolic problems[M]. Cambridge university press, 2002.\n",
    "        \n",
    "        https://github.com/clawpack/classic/blob/master/src/1d/bc1.f\n",
    "    >>> X=np.np.linspace(0,23,24).reshape((2,3,4))\n",
    "    >>> GhostCell(2).zeroOrderExtrapolation(1,X)\n",
    "    \"\"\"\n",
    "    def __init__(self,stencil=1,scale=1.0):\n",
    "        self.stencil=stencil\n",
    "        self.scale=scale\n",
    "        \n",
    "    def periodic(self,axis,X):\n",
    "        stencil=self.stencil\n",
    "        slc1=tuple(slice(None) if i!=axis else slice(-stencil,None) for i in range(X.ndim))\n",
    "        slc2=tuple(slice(None) if i!=axis else slice(stencil) for i in range(X.ndim))\n",
    "        return np.concatenate((X[slc1]*self.scale,X,X[slc2]*self.scale),axis=axis)\n",
    "    \n",
    "    def zeroOrderExtrapolation(self,axis,X):\n",
    "        stencil=self.stencil\n",
    "        slc1=tuple(slice(None) if i!=axis else slice(0,1) for i in range(X.ndim))\n",
    "        slc2=tuple(slice(None) if i!=axis else slice(-1,None) for i in range(X.ndim))\n",
    "        \n",
    "        X0=np.repeat(X[slc1],stencil,axis=axis)*self.scale\n",
    "        X1=np.repeat(X[slc2],stencil,axis=axis)*self.scale\n",
    "        \n",
    "        #print(X0.shape,X1.shape,X.shape)\n",
    "        return np.concatenate((X0,X,X1),axis=axis)"
   ]
  },
  {
   "cell_type": "code",
   "execution_count": 423,
   "metadata": {},
   "outputs": [],
   "source": [
    "gd2=GridHex(np.linspace(-1,1,101),np.linspace(-1,1,101))\n",
    "Z=gd2.X**2+gd2.Y**3"
   ]
  },
  {
   "cell_type": "code",
   "execution_count": null,
   "metadata": {},
   "outputs": [],
   "source": [
    "for i in range(0,10,2):\n",
    "    for j in range(0,10,2):\n",
    "        print(gd2.seeds[0][i]*2,3*gd2.seeds[1][j]**2,gd2.gradient(Z,(i,j)))"
   ]
  },
  {
   "cell_type": "code",
   "execution_count": 419,
   "metadata": {},
   "outputs": [
    {
     "data": {
      "text/plain": [
       "2.8811999999999998"
      ]
     },
     "execution_count": 419,
     "metadata": {},
     "output_type": "execute_result"
    }
   ],
   "source": [
    "3*gd2.Y[(2,1)]**2"
   ]
  },
  {
   "cell_type": "code",
   "execution_count": 420,
   "metadata": {},
   "outputs": [
    {
     "data": {
      "text/plain": [
       "2.8816"
      ]
     },
     "execution_count": 420,
     "metadata": {},
     "output_type": "execute_result"
    }
   ],
   "source": [
    "(0.036864+0.0784)/0.02/2"
   ]
  },
  {
   "cell_type": "code",
   "execution_count": 417,
   "metadata": {},
   "outputs": [
    {
     "data": {
      "text/plain": [
       "array([[-0.0396  ,  0.019208,  0.075664],\n",
       "       [-0.0784  , -0.019592,  0.036864],\n",
       "       [-0.1164  , -0.057592, -0.001136]])"
      ]
     },
     "execution_count": 417,
     "metadata": {},
     "output_type": "execute_result"
    }
   ],
   "source": [
    "Z[1:4,0:3]"
   ]
  },
  {
   "cell_type": "code",
   "execution_count": 406,
   "metadata": {},
   "outputs": [
    {
     "data": {
      "text/plain": [
       "(array([[-1.  , -1.  ],\n",
       "        [-0.98, -0.98]]), array([[-1.  , -0.98],\n",
       "        [-1.  , -0.98]]))"
      ]
     },
     "execution_count": 406,
     "metadata": {},
     "output_type": "execute_result"
    }
   ],
   "source": [
    "gd2.X[:2,:2],gd2.Y[:2,:2]"
   ]
  },
  {
   "cell_type": "markdown",
   "metadata": {},
   "source": [
    "### 一维三次插值"
   ]
  },
  {
   "cell_type": "code",
   "execution_count": 5,
   "metadata": {},
   "outputs": [
    {
     "data": {
      "text/plain": [
       "array([ 1.,  0., -3.,  2.,  0.,  0.,  3., -2.,  0.,  1., -2.,  1.,  0.,\n",
       "        0., -1.,  1.])"
      ]
     },
     "execution_count": 5,
     "metadata": {},
     "output_type": "execute_result"
    }
   ],
   "source": [
    "W1.flatten('F')"
   ]
  },
  {
   "cell_type": "code",
   "execution_count": 6,
   "metadata": {},
   "outputs": [],
   "source": [
    "f=smx**3\n",
    "#f1,f2,f3,f12,f13,f23,f123\n",
    "fs=f,f.diff(smx)\n",
    "seeds=((0.,1.),)\n",
    "\n",
    "vals=list(zip(*[[expr.evalf(subs={'x':x}) for expr in fs] for x in seeds[0]]))\n",
    "cof=cucof(*[np.array(val) for val in vals],(seeds[0][1]-seeds[0][0],))"
   ]
  },
  {
   "cell_type": "code",
   "execution_count": 7,
   "metadata": {},
   "outputs": [
    {
     "data": {
      "text/plain": [
       "[(0, (0,)),\n",
       " (0.00100000000000000, (0.0300000000000000,)),\n",
       " (0.00800000000000000, (0.120000000000000,)),\n",
       " (0.0270000000000000, (0.270000000000000,)),\n",
       " (0.0640000000000000, (0.480000000000000,)),\n",
       " (0.125000000000000, (0.750000000000000,)),\n",
       " (0.216000000000000, (1.08000000000000,)),\n",
       " (0.343000000000000, (1.47000000000000,)),\n",
       " (0.512000000000000, (1.92000000000000,)),\n",
       " (0.729000000000000, (2.43000000000000,)),\n",
       " (1.00000000000000, (3.00000000000000,))]"
      ]
     },
     "execution_count": 7,
     "metadata": {},
     "output_type": "execute_result"
    }
   ],
   "source": [
    "xs=np.linspace(0,1,11)\n",
    "[cuint(cof,seeds,(x,)) for x in xs]"
   ]
  },
  {
   "cell_type": "code",
   "execution_count": 8,
   "metadata": {},
   "outputs": [
    {
     "data": {
      "text/plain": [
       "[<matplotlib.lines.Line2D at 0x1bb06bffac8>]"
      ]
     },
     "execution_count": 8,
     "metadata": {},
     "output_type": "execute_result"
    },
    {
     "data": {
      "image/png": "[encoded data removed]",
      "text/plain": [
       "<Figure size 432x288 with 1 Axes>"
      ]
     },
     "metadata": {
      "needs_background": "light"
     },
     "output_type": "display_data"
    }
   ],
   "source": [
    "xs=np.linspace(0,1,11)\n",
    "plt.plot(xs,[cuint(cof,seeds,(x,))[0] for x in xs])\n",
    "plt.plot(xs,[fs[0].evalf(subs={'x':x}) for x in xs])\n",
    "plt.plot(xs,[fs[1].evalf(subs={'x':x}) for x in xs])"
   ]
  },
  {
   "cell_type": "markdown",
   "metadata": {},
   "source": [
    "### 二维三次插值"
   ]
  },
  {
   "cell_type": "code",
   "execution_count": 9,
   "metadata": {},
   "outputs": [
    {
     "data": {
      "text/plain": [
       "array([ 1.,  0., -3.,  2.,  0.,  0., -0.,  0., -3.,  0.,  9., -6.,  2.,  0., -6.,  4.,  0.,  0.,  3., -2.,  0.,  0., -0.,  0.,  0.,  0., -9.,  6., -0.,  0.,  6., -4.,  0.,  0., -0.,  0.,  0.,  0., -0.,  0.,  3.,  0., -9.,  6., -2.,  0.,  6., -4.,  0.,  0., -0.,  0.,  0.,  0., -0.,  0.,  0.,  0.,  9., -6., -0.,  0., -6.,  4.,  0.,  0., -0.,  0.,  1.,  0., -3.,  2., -2.,  0.,  6., -4.,  1.,  0., -3.,  2.,  0.,  0., -0.,  0.,  0.,  0.,  3., -2.,  0.,  0., -6.,  4., -0.,  0.,  3., -2.,  0.,  0., -0.,  0.,  0.,  0., -0.,  0., -1.,  0.,  3., -2.,  1.,  0., -3.,  2.,  0.,  0., -0.,  0.,  0.,  0., -0.,  0.,  0.,  0., -3.,  2., -0.,  0.,  3., -2.,  0.,  1., -2.,  1.,  0.,  0., -0.,  0.,  0., -3.,  6., -3., -0.,  2., -4.,  2.,  0.,  0., -1.,  1.,  0.,  0., -0.,  0.,  0.,  0.,  3., -3., -0.,  0., -2.,  2.,  0.,  0., -0.,  0.,  0.,  0., -0.,  0.,  0.,  3., -6.,  3., -0., -2.,  4., -2.,  0.,  0., -0.,  0.,  0.,  0., -0.,  0.,  0.,  0., -3.,  3., -0.,  0.,  2., -2.,  0.,  0., -0.,  0.,  0.,  1., -2.,  1.,  0., -2.,  4., -2., -0.,  1., -2.,  1.,  0.,  0., -0.,  0.,  0.,  0., -1.,  1.,  0.,  0.,  2., -2., -0.,  0., -1.,  1.,  0.,  0., -0.,  0.,  0.,  0., -0.,  0.,  0., -1.,  2., -1., -0.,  1., -2.,  1.,  0.,  0., -0.,  0.,  0.,  0., -0.,  0.,  0.,  0.,  1., -1., -0.,  0., -1.,  1.])"
      ]
     },
     "execution_count": 9,
     "metadata": {},
     "output_type": "execute_result"
    }
   ],
   "source": [
    "np.set_printoptions(linewidth=np.nan)\n",
    "np.savetxt('W2_16x16.txt',W2.flatten('F').astype(np.int),fmt='%d', delimiter=',',newline='\\n')\n",
    "W2.flatten('F')"
   ]
  },
  {
   "cell_type": "code",
   "execution_count": 10,
   "metadata": {},
   "outputs": [],
   "source": [
    "f=sym.exp(smx**4+smy**4)\n",
    "#f1,f2,f3,f12,f13,f23,f123\n",
    "fs=f,f.diff(smx),f.diff(smy),f.diff(smx,smy)\n",
    "seeds=((0.,1.),(0.,1.))\n",
    "\n",
    "vals=list(zip(*[[expr.evalf(subs={'x':x,'y':y}) for expr in fs] for x,y in product(*seeds)]))\n",
    "cof=bcucof(*[np.array(val) for val in vals],[seed[1]-seed[0] for seed in seeds])"
   ]
  },
  {
   "cell_type": "code",
   "execution_count": 11,
   "metadata": {},
   "outputs": [
    {
     "name": "stdout",
     "output_type": "stream",
     "text": [
      "(0.0, 0.0):0;nan;nan;\n",
      "(0.0, 0.5):-0.530293468593262;nan;-1.26464973037750;\n",
      "(0.0, 1.0):1.63371290349908e-16;nan;1.63371290349908e-16;\n",
      "(0.5, 0.0):-0.530293468593262;-1.26464973037750;nan;\n",
      "(0.5, 0.5):-0.779375774353850;-1.12430770689333;-1.12430770689333;\n",
      "(0.5, 1.0):-0.530293468593260;-1.26464973037748;-0.530293468593261;\n",
      "(1.0, 0.0):1.63371290349908e-16;1.63371290349908e-16;nan;\n",
      "(1.0, 0.5):-0.530293468593260;-0.530293468593261;-1.26464973037748;\n",
      "(1.0, 1.0):3.24545070585861e-15;1.80302816992145e-15;1.80302816992145e-15;\n"
     ]
    }
   ],
   "source": [
    "for coord in product(*[np.linspace(seed[0],seed[1],3) for seed in seeds]):\n",
    "    print(coord,end=':')\n",
    "    y,y1s=bcuint(cof,seeds,coord)\n",
    "    for x,y in zip([y,*y1s],\n",
    "                   [expr.evalf(subs={'x':coord[0],'y':coord[1]}) for expr in fs[:4]]):\n",
    "        print((x-y)/y,end=';')\n",
    "    print('')    "
   ]
  },
  {
   "cell_type": "markdown",
   "metadata": {},
   "source": [
    "### 三维三次插值"
   ]
  },
  {
   "cell_type": "code",
   "execution_count": 12,
   "metadata": {},
   "outputs": [
    {
     "data": {
      "text/plain": [
       "array([ 1.,  0., -3., ...,  0., -1.,  1.])"
      ]
     },
     "execution_count": 12,
     "metadata": {},
     "output_type": "execute_result"
    }
   ],
   "source": [
    "np.set_printoptions(linewidth=np.nan)\n",
    "np.savetxt('W3_64x64.txt',W3.flatten('F').astype(np.int),fmt='%d', delimiter=',',newline='\\n')\n",
    "W3.flatten('F')"
   ]
  },
  {
   "cell_type": "code",
   "execution_count": 13,
   "metadata": {},
   "outputs": [
    {
     "name": "stdout",
     "output_type": "stream",
     "text": [
      "5.000 -0.400;5.000 0.000;5.000 0.000;\n",
      "5.000 0.825;5.000 0.000;25.312 -0.802;\n",
      "5.000 5.800;5.000 0.000;80.000 -0.938;\n",
      "5.000 0.825;25.312 -0.802;5.000 4.050;\n",
      "5.000 2.050;25.312 -0.802;25.312 -0.002;\n",
      "5.000 7.025;25.312 -0.802;80.000 -0.684;\n",
      "5.000 5.800;80.000 -0.938;5.000 15.000;\n",
      "5.000 7.025;80.000 -0.938;25.312 2.160;\n",
      "5.000 12.000;80.000 -0.938;80.000 0.000;\n",
      "25.312 -0.640;5.000 4.050;5.000 0.000;\n",
      "25.312 -0.398;5.000 4.050;25.312 -0.802;\n",
      "25.312 0.585;5.000 4.050;80.000 -0.938;\n",
      "25.312 -0.398;25.312 -0.002;5.000 4.050;\n",
      "25.312 -0.156;25.312 -0.002;25.312 -0.002;\n",
      "25.312 0.827;25.312 -0.002;80.000 -0.684;\n",
      "25.312 0.585;80.000 -0.684;5.000 15.000;\n",
      "25.312 0.827;80.000 -0.684;25.312 2.160;\n",
      "25.312 1.810;80.000 -0.684;80.000 0.000;\n",
      "80.000 -0.575;5.000 15.000;5.000 0.000;\n",
      "80.000 -0.498;5.000 15.000;25.312 -0.802;\n",
      "80.000 -0.188;5.000 15.000;80.000 -0.938;\n",
      "80.000 -0.498;25.312 2.160;5.000 4.050;\n",
      "80.000 -0.422;25.312 2.160;25.312 -0.002;\n",
      "80.000 -0.111;25.312 2.160;80.000 -0.684;\n",
      "80.000 -0.188;80.000 0.000;5.000 15.000;\n",
      "80.000 -0.111;80.000 0.000;25.312 2.160;\n",
      "80.000 0.200;80.000 0.000;80.000 0.000;\n"
     ]
    }
   ],
   "source": [
    "f=smx**5+smy**5+smz**5\n",
    "#f1,f2,f3,f12,f13,f23,f123\n",
    "fs=f,f.diff(smx),f.diff(smy),f.diff(smz),f.diff(smy,smz),f.diff(smx,smz),f.diff(smx,smy),f.diff(smx,smy,smz)\n",
    "\n",
    "seeds=((1.,2.),(1.,2.),(1.,2.))\n",
    "vals=list(zip(*[[expr.evalf(subs={'x':x,'y':y,'z':z}) for expr in fs] for x,y,z in product(*seeds)]))\n",
    "cof=tricucof(*[np.array(val) for val in vals],[seeds[i][1]-seeds[i][0] for i in range(3)])\n",
    "for coord in product(*[np.linspace(seeds[i][0],seeds[i][1],3) for i in range(3)]):\n",
    "    y,y1s=tricuint(cof,seeds,coord)\n",
    "    for x,y in zip([y,*y1s],\n",
    "                   [expr.evalf(subs={'x':coord[0],'y':coord[1],'z':coord[2]}) for expr in fs[1:4]]):\n",
    "        print('%.3f %.3f'%(y,(x-y)/y),end=';')\n",
    "    print('')"
   ]
  },
  {
   "cell_type": "markdown",
   "metadata": {},
   "source": [
    "# Fast Marching Method\n"
   ]
  },
  {
   "cell_type": "code",
   "execution_count": 14,
   "metadata": {},
   "outputs": [],
   "source": [
    "fmmlogger=logging.getLogger(\"FastMarching\")\n",
    "fmmlogger.setLevel(logging.DEBUG)\n",
    "ch = logging.StreamHandler()\n",
    "ch.setLevel(logging.DEBUG)\n",
    "ch.setFormatter(logging.Formatter('%(asctime)s - %(name)s - %(levelname)s - %(message)s'))\n",
    "fmmlogger.handlers.clear()\n",
    "fmmlogger.addHandler(ch)"
   ]
  },
  {
   "cell_type": "code",
   "execution_count": null,
   "metadata": {},
   "outputs": [],
   "source": []
  },
  {
   "cell_type": "code",
   "execution_count": 557,
   "metadata": {},
   "outputs": [],
   "source": [
    "class FastMarching:\n",
    "    \"\"\"\n",
    "    1. Bærentzen J A. On the implementation of fast marching methods for 3D lattices[J]. 2001.\n",
    "    2. Sukumar N, Chopp D L, Moran B. Extended finite element method and fast marching method for three-dimensional fatigue crack propagation[J]. Engineering Fracture Mechanics, 2003, 70(1): 29-48.\n",
    "    3. Sethian J A. Fast marching methods[J]. SIAM review, 1999, 41(2): 199-235.    \n",
    "    4. Sukumar N, Chopp D L, Bechet E, et al. Three‐dimensional non‐planar crack growth by a coupled extended finite element and fast marching method[J]. International Journal for Numerical Methods in Engineering, 2008, 76(5): 727-748.\n",
    "    5. Chopp D L. Some improvements of the fast marching method[J]. SIAM Journal on Scientific Computing, 2001, 23(1): 230-244.\n",
    "        Give the detail for 2D case\n",
    "    6. Shi J, Chopp D, Lua J, et al. Abaqus implementation of extended finite element method using a level set representation for three-dimensional fatigue crack growth and life predictions[J]. Engineering Fracture Mechanics, 2010, 77(14): 2840-2863.\n",
    "        Give the detail for 3D case\n",
    "    7. Adalsteinsson D , Sethian J A . The Fast Construction of Extension Velocities in Level Set Methods[J]. Journal of Computational Physics, 1999, 148(1):2-22.\n",
    "    \n",
    "    Fast Marching Method\n",
    "        Ref 1 give the detail about \n",
    "\n",
    "    Reinitialization\n",
    "\n",
    "    Velocity Extension\n",
    "        Ref.4 Section 3.1.2\n",
    "        Ref.5 Section 3.3\n",
    "     the front velocity data are provided as a list of sample coordinates, `xl` , \n",
    "     and the corresponding front velocity vector, `Fl`.\n",
    "     search for the two sample coordinates xl1 and xl2 closest to x,\n",
    "          F_{ijk} =(1−\\alpha)F_{l1} +\\alpha F_{l2 }\n",
    "    \n",
    "    \"\"\"\n",
    "    def __init__(self,grid,T0,status,V=None,Fext=[]):\n",
    "        self.logger=logging.getLogger(\"FastMarching\")\n",
    "        \n",
    "        self.grid=grid\n",
    "        self.T0=T0\n",
    "        self.T=np.where(status==1,T0,np.inf) #np.sign(T0)*\n",
    "        \n",
    "        # Velocity \n",
    "        self.V=V\n",
    "        # Extend Field\n",
    "        self.Fext=Fext\n",
    "\n",
    "        # status of each grid points : \n",
    "        #   -1 for Distant : also know as Far, far from the initial interface to be possible candidates for \n",
    "        #   0 for Tentaive : also know as Narrow Band, all potential candidates to be the next mesh point to be added to the set A\n",
    "        #   1 for Accepted : also know as Frozen, All the mesh points are considered computed and are always closer to the initial interface than any of the remaining mesh points\n",
    "        self.Status=status\n",
    "        \n",
    "        # all potential candidates to be the next mesh point to be added to the set A\n",
    "        #  kept sorted in a heap sort\n",
    "        self.Tentative=[]\n",
    "        heapq.heapify(self.Tentative)\n",
    "        \n",
    "        self.initialize()\n",
    "            \n",
    "    def velocity(self,index):\n",
    "        if self.V is None:\n",
    "            raise NotImplementedError('No Velocity !')\n",
    "        else:\n",
    "            return self.V if np.isscalar(self.V) else self.V[index]\n",
    "\n",
    "    def initialize(self):\n",
    "        for index in np.argwhere(self.Status==1):\n",
    "            index=tuple(index)\n",
    "            self.updateNeibour(index)\n",
    "    \n",
    "    def loop(self,vstop=np.infty):\n",
    "        \"\"\"\n",
    "        loop update procedure until reach `vstop`\n",
    "        \"\"\"\n",
    "        while(len(self.Tentative)>0):\n",
    "            _,(v,index)=heapq.heappop(self.Tentative)\n",
    "            if self.Status[index]==0:\n",
    "                # 由于无法更新非Heap中元素的值，Tentative中存在过期的元素\n",
    "                if v>vstop:\n",
    "                    break\n",
    "                self.n2k(index,v)\n",
    "                self.updateNeibour(index)\n",
    "    \n",
    "    def updateNeibour(self,index):\n",
    "        \"\"\"\n",
    "        updat each  neighbour of `index`\n",
    "        \"\"\"\n",
    "        for neib in self.grid.neighbours(index):\n",
    "            status=self.Status[neib]\n",
    "            if status<1:\n",
    "                # Narrow band  or Far\n",
    "                t=self.compute(neib)\n",
    "                if np.isnan(t):\n",
    "                    self.logger.warning('nan get in compute distance of index=%s'%(repr(neib)))\n",
    "                elif abs(t)<abs(self.T[neib]):\n",
    "                    self.f2n(neib,t)\n",
    "\n",
    "    def n2k(self,ptindex,v):\n",
    "        self.logger.info('n2k: index=%s,coords=%s,t=%f'%(ptindex,self.grid.coord(ptindex),v))\n",
    "        self.Status[ptindex]=1\n",
    "        self.T[ptindex]=v\n",
    "        self.updateNeibour(ptindex)\n",
    "    \n",
    "    def f2n(self,ptindex,v):\n",
    "        self.logger.info('f2n: index=%s,coords=%s,t=%f,old t=%f'%(repr(ptindex),self.grid.coord(ptindex),v,self.T[ptindex]))\n",
    "        self.Status[ptindex]=0\n",
    "        self.T[ptindex]=v\n",
    "        heapq.heappush(self.Tentative,(abs(v),(v,ptindex)))\n",
    "\n",
    "    def compute(self,index):\n",
    "        \"\"\"\n",
    "        compute the distance of the voxel \n",
    "        Ref.1. Appendix A: Pseudo Code\n",
    "        Ref.2. Section 3: Fast Marching Method (7a),(7b)\n",
    "        Ref.3. Section 5:  Higher-Accuracy Fast Marching Methods\n",
    "        \"\"\"\n",
    "        grid=self.grid\n",
    "        ndim=grid.ndim\n",
    "        \n",
    "        if self.Status[index]==1:\n",
    "            return \n",
    "        \n",
    "        quadratic=[-1/self.velocity(index),0,0] # c,b,a for ax^2+bx+c=0\n",
    "        \n",
    "        # list of (+1 for right -1 for left, phi_1, delta_x)\n",
    "        dervCoffs,(tmin,tmax)=self.dervCoff(index)\n",
    "        \"\"\"\n",
    "        \"\"\"\n",
    "        neibs=[tuple((index[j]+ dervCoffs[axis][0]*(j==axis) for j in range(ndim))) \n",
    "                         for axis in range(ndim) if dervCoffs[axis][0]!=0]\n",
    "        neibCoffs=[self.dervCoff(neib)[0] for neib in neibs]\n",
    "        for axis in range(ndim):\n",
    "            if dervCoffs[axis][0]!=0:\n",
    "                dirct,k,b,d1,d2=dervCoffs[axis]\n",
    "                quadratic[2]=quadratic[2]+k**2\n",
    "                quadratic[1]=quadratic[1]+2*k*b\n",
    "                quadratic[0]=quadratic[0]+b**2\n",
    "            else:\n",
    "                pass\n",
    "                # !!!! very important !!! improve the accuracy\n",
    "                md=max((cof[axis][1]*self.T[neib]+cof[axis][2])**2 for neib,cof in zip(neibs,neibCoffs))\n",
    "                self.logger.info(\"difference in axis=%d using %f: neibs=%s;neib coffs=%s;\"%(axis,md,repr(neibs),repr(neibCoffs)))\n",
    "                quadratic[0]=quadratic[0]+md\n",
    "            \n",
    "        if quadratic[2]!=0:\n",
    "            c,b,a=quadratic\n",
    "            sgn=0 if abs((tmin+tmax)/2)<1e-10 else np.sign((tmin+tmax)/2)\n",
    "            if b**2-4*a*c<-1e-8:\n",
    "                t= max((-b/k+sgn*abs(1/k) for (dirct,k,b,d1,d2) in dervCoffs if dirct!=0),key=lambda x:abs(x))\n",
    "            elif abs(b**2-4*a*c)<1e-8:\n",
    "                t=-b/(2*a)\n",
    "            else:\n",
    "                q=0.5*(-b-(1 if b>=0 else -1)*np.sqrt(b**2-4*a*c))\n",
    "                t1,t2=max(q/a,c/q),min(q/a,c/q)\n",
    "                if abs(abs(t1)-abs(t2))<1e-10:\n",
    "                    t=sgn*abs(t1)\n",
    "                else:\n",
    "                    if t1*t2>0:\n",
    "                        t=t1 if abs(t1)>abs(t2) else t2  # 选择绝对值大的那个作为解\n",
    "                    else:\n",
    "                        if np.sign(t1)==sgn:\n",
    "                            t=t1\n",
    "                        elif np.sign(t2)==sgn:\n",
    "                            t=t2\n",
    "                        else:\n",
    "                            self.logger.error(\"index=%s,a=%f,b=%f,c=%f,tmin=%f,tmax=%f,t1=%f,t2=%f\"%(repr(index),a,b,c,tmin,tmax,t1,t2))\n",
    "                            raise ValueError('compute invalid point index=%s'%repr(index))\n",
    "            \n",
    "            self.logger.debug(\"index=%s,derivate=%s,a=%f,b=%f,c=%f,tmin=%f,tmax=%f,t=%f\"%(repr(index),repr(dervCoffs),\n",
    "                                a,b,c,tmin,tmax,t))\n",
    "\n",
    "            # extend the velocity in the front \n",
    "            for i in range(len(self.Fext)):\n",
    "                k,b=0.,0.\n",
    "                for axis in range(ndim):\n",
    "                    dirct,kj,bj,d1,d2=dervCoffs[axis]\n",
    "                    derv=(kj*t+bj)\n",
    "                    if dirct!=0:\n",
    "                        v=self.Fext[i][tuple((index[j]+dirct*(j==axis) for j in range(ndim)))]\n",
    "                        k=k-derv/(dirct*d1)\n",
    "                        b=b+derv*v/(dirct*d1)\n",
    "                self.logger.debug(\"index=%s,d1=%f,k=%f,b=%f,Fext=%f\"%(repr(index),d1,k,b,-b/k))\n",
    "                self.Fext[i][index]=-b/k\n",
    "            return t\n",
    "        else:\n",
    "            self.logger.debug(\"index=%s,neibs=%s,equation=%s,quadratic=%s\"%(repr(index),repr(neibs),repr(dervCoffs),repr(quadratic)))\n",
    "            raise ValueError('compute invalid point index=%s'%repr(index))\n",
    "    \n",
    "    def dervCoff(self,index,order=1):\n",
    "        \"\"\"\n",
    "        返回当前节点index 计算不同方向偏导的差分格式中的系数\n",
    "        \"\"\"\n",
    "        grid=self.grid\n",
    "        ndim=grid.ndim\n",
    "        coffes=[]\n",
    "\n",
    "        coords=grid.coord(index)\n",
    "        amin,amax=0.0,0.0\n",
    "        for axis in range(ndim):\n",
    "            dirct,k,b,d1,d2=0,0,0,np.infty,np.infty\n",
    "            0<=index[axis]+k<grid.shape[axis]\n",
    "            for j in (-1,1):\n",
    "                neib=tuple((index[k]+j*(k==axis) for k in range(ndim)))\n",
    "                kj,bj,dx1,dx2=0.,np.infty,0.,np.infty\n",
    "                if (0<=index[axis]+j<grid.shape[axis]) and self.Status[neib]==1:\n",
    "                    coords1,t1=self.pointInfo(neib)\n",
    "                    dx1=abs(coords1[axis]-coords[axis])\n",
    "                    kj,bj=-1/(j*dx1),t1/(j*dx1)\n",
    "                    amin=min(amin,t1)\n",
    "                    amax=max(amax,t1)\n",
    "                    if order==2:\n",
    "                        neib2=tuple((index[k]+2*j*(k==axis) for k in range(ndim)))\n",
    "                        if (0<=index[axis]+2*j<grid.shape[axis]) and self.Status[neib2]==1:\n",
    "                            coords2,t2=self.pointInfo(neib2)\n",
    "                            dx2=abs(coords2[axis]-coords1[axis])\n",
    "                            kj=kj-1/(j*(dx1+dx2))\n",
    "                            bj=bj+t1/(j*dx2)-(dx1/dx2)*(t2/(j*dx1+j*dx2))\n",
    "                    if (dirct==0) or (bj/kj)>(b/k):\n",
    "                        dirct,k,b,d1,d2=j,kj,bj,dx1,dx2            \n",
    "            coffes.append([dirct,k,b,d1,d2])\n",
    "        return coffes,(amin,amax)\n",
    "        \n",
    "    def pointInfo(self,ptindex):\n",
    "        \"\"\"\n",
    "        返回节点index的坐标和T值\n",
    "        如果节点在外部，则返回边界点的坐标和位置\n",
    "        \"\"\"\n",
    "        #index=tuple(min(max(n,0),self.grid.X.shape[i]-1) for i,n in enumerate(index))\n",
    "        return self.grid.coord(ptindex),self.T[ptindex]\n",
    "\n",
    "class ReinitializeFMM(FastMarching):\n",
    "    \"\"\"\n",
    "    1. Chopp D L. Some improvements of the fast marching method[J]. SIAM Journal on Scientific Computing, 2001, 23(1): 230-244.\n",
    "        Give the detail for 2D case\n",
    "    2. Shi J, Chopp D, Lua J, et al. Abaqus implementation of extended finite element method using a level set representation for three-dimensional fatigue crack growth and life predictions[J]. Engineering Fracture Mechanics, 2010, 77(14): 2840-2863.\n",
    "        Give the detail for 3D case\n",
    "    3. Sukumar N, Chopp D L, Béchet E, et al. Three‐dimensional non‐planar crack growth by a coupled extended finite element and fast marching method[J]. International journal for numerical methods in engineering, 2008, 76(5): 727-748.\n",
    "    4. Adalsteinsson D , Sethian J A . The Fast Construction of Extension Velocities in Level Set Methods[J]. Journal of Computational Physics, 1999, 148(1):2-22.\n",
    "    \n",
    "    Reinitialization \n",
    "        \n",
    "    Tip Velocity Extension\n",
    "        Ref.1 Section 3.3\n",
    "        Ref.3 Section 3.1.2\n",
    "        Ref.4 \n",
    "     the front velocity data are provided as a list of sample coordinates, Xl , and the corresponding front velocity vector, Fl.\n",
    "      search for the two sample coordinates xl1 and xl2 closest to x,\n",
    "          F_{ijk} =(1−\\alpha)F_{l1} +\\alpha F_{l2 }    \n",
    "    \"\"\"\n",
    "    def __init__(self,grid,X,extend=None):\n",
    "        if extend is None:\n",
    "            xl,Fl=[],[]\n",
    "        else:\n",
    "            xl,Fl=extend['xl'],extend['Fl']\n",
    "        self.logger=logging.getLogger('Reinitialization')\n",
    "        status,X,Fext=self.frontInitialize(grid,X,xl,Fl)\n",
    "\n",
    "        super().__init__(grid,X,status,V=1.0,Fext=Fext)\n",
    "        \n",
    "    def frontInitialize(self,grid,T0,xl=[],Fl=[]):\n",
    "        \"\"\"\n",
    "        reconstruct process provides local tricubic approximation \n",
    "        of the initial conditions on grid points near the crack front\n",
    "        \"\"\"\n",
    "        ndim=grid.ndim\n",
    "        \n",
    "        status=np.full_like(T0,-1)\n",
    "        T=np.full(grid.shape,np.inf)\n",
    "\n",
    "        extend=len(Fl)>0\n",
    "        Fext=[np.full(grid.shape,np.inf) for _ in range(len(Fl))]\n",
    "\n",
    "        for vindex in product(*(range(grid.shape[i]-1) for i in range(ndim))):\n",
    "            if np.any(np.isinf(T0[tuple(slice(ind,ind+2) for ind in vindex)])):\n",
    "                continue\n",
    "            if grid.isSignChange(vindex,T0):\n",
    "                # sign changed\n",
    "                cof=grid.cubicCoff(vindex,T0)\n",
    "                for point in grid.voxelPoints(vindex):\n",
    "                    status[point]=1\n",
    "                    d=self.cubicDistance(grid,T0,vindex,cof,grid.coord(point))\n",
    "                    #print(point,d,T0[point],T[point])\n",
    "                    T[point]=np.sign(T0[point])*min(d,np.abs(T[point]))\n",
    "                    if extend:\n",
    "                        # Ref.4 Eq.20\n",
    "                        x=grid.coord(point)\n",
    "                        i1,x1,d1=None,None,np.infty\n",
    "                        i2,x2,d2=None,None,np.infty\n",
    "                        for i,pt in enumerate(xl):\n",
    "                            d=sum(((x[j]-pt[j])**2 for j in range(len(x))))**0.5\n",
    "                            if d<d1:\n",
    "                                i2,x2,d2=i1,x1,d1\n",
    "                                i1,x1,d1=i,pt,d\n",
    "                            elif d<d2:\n",
    "                                i2,x2,d2=i,pt,d\n",
    "                        \n",
    "                        a=sum(((x[j]-x1[j])**2 for j in range(len(x))))\n",
    "                        b=sum(((x[j]-x2[j])**2 for j in range(len(x))))\n",
    "                        c=sum(((x[j]-x1[j])*(x[j]-x2[j]) for j in range(len(x))))\n",
    "                        # (1-alpha)*x1+alpha*x2 is the closet \n",
    "                        alpha=min(1,max(0,(a-c)/(a+b-2*c)))\n",
    "                        for i in range(len(Fext)):\n",
    "                            Fext[i][point]=(1-alpha)*Fl[i][i1]+alpha*Fl[i][i2]\n",
    "                        self.logger.debug(\"point=%s,x=%s,x1=%s,x2=%s,alpha=%f,a=%f,b=%f,c=%f\"%(repr(point),repr(x),repr(x1),repr(x2),alpha,a,b,c))\n",
    "        return status,T,Fext\n",
    "\n",
    "    def cubicDistance(self,grid,T0,vindex,cof,xs):\n",
    "        \"\"\"\n",
    "        Ref.1 Section 3.2\n",
    "        \"\"\"\n",
    "        ndim=grid.ndim\n",
    "        \n",
    "        x0,x=np.array(xs),np.array(xs)\n",
    "        bnds=grid.voxelBound(vindex)\n",
    "        vol=np.prod([bnd[1]-bnd[0] for bnd in bnds])\n",
    "        \n",
    "        cnt=0\n",
    "        while True:\n",
    "            # 是否在外部\n",
    "            inside,index1=True,[]\n",
    "            for i in range(ndim):\n",
    "                inc=0 \n",
    "                if x[i]<bnds[i][0]-1e-10:\n",
    "                    inc,inside=-1,False\n",
    "                elif x[i]>bnds[i][1]+1e-10:\n",
    "                    inc,inside=1,False\n",
    "                index1.append(vindex[i]+inc)\n",
    "            \n",
    "            if inside:\n",
    "                f,derv=grid.cubicInterpolation(cof,vindex,x)\n",
    "            else:\n",
    "                cof1=grid.cubicCoff(index1,T0)\n",
    "                f,derv=grid.cubicInterpolation(cof1,index1,x)\n",
    "            derv=np.array(derv)\n",
    "            sqr=np.linalg.norm(derv)**2\n",
    "            \n",
    "            dlt1=-f/sqr*derv\n",
    "            dlt2=(x0-x)-np.dot(x0-x,derv)/sqr*derv\n",
    "            #print(x0,x,f,derv,dlt1,dlt2)\n",
    "            \n",
    "            x=x+dlt1+dlt2\n",
    "            cnt=cnt+1\n",
    "            if(np.linalg.norm(dlt1+dlt2)<(1e-3*vol)):\n",
    "                return np.linalg.norm(x-x0)\n",
    "            if cnt>20:\n",
    "                self.logger.warning('cubic distance while loop than 100 times %s -> %s'%(x0,x))\n",
    "                return np.linalg.norm(x-x0)\n",
    "    \n",
    "class ReorthFMM(FastMarching):\n",
    "    \"\"\"\n",
    "    $$\n",
    "    \\nabla \\phi \\dot \\nabla F=0\n",
    "    $$\n",
    "    can be used to \n",
    "     1. extended velocity `F` on the grid points near the crack front into the rest of the domain\n",
    "        in such a way that F is constant in the direction normal to the interface\n",
    "     2. \n",
    "    \"\"\"\n",
    "    def __init__(self,grid,phi,F0,status):\n",
    "        super().__init__(grid,F0)\n",
    "        \n",
    "        \n",
    "    def compute(self,ptindex):\n",
    "        pass\n",
    "    \n",
    "class CrackEvolution(FastMarching):\n",
    "    \"\"\"\n",
    "    \n",
    "    \"\"\"\n",
    "    def __init__(self,grid,phi0,psi0):\n",
    "        self.Phi=np.zeros_like(grid.X)\n",
    "        self.Psi=np.zeros_like(grid.X)\n",
    "        \n",
    "        # Evaluate the front speed F at n discrete points on the front.  \n",
    "        # determine the speed on grid point near front according to \n",
    "    def initialize(self):\n",
    "        \"\"\"\n",
    "        1.  Initialize all the points adjacent to the initial interface with an initial value, put those points in A. \n",
    "        2.  All points X i,j,k not ∈ A,but are adjacent to a point in A are given initial estimates for X i,j,k by solving Equation (3) \n",
    "            for the given configuration of neighboring points in A. These points are tentative points and put in the set T.\n",
    "        3, All remaining points are placed in D and given initial value of ? i,j,k =+∞.\n",
    "        \"\"\"\n",
    "    def estimate(self):\n",
    "        \"\"\"\n",
    "         estimate of phi for points in T\n",
    "        \"\"\"\n",
    "\n",
    "class ExtendingVelocity(FastMarching):\n",
    "    \"\"\"\n",
    "    1. Chopp D L. Some improvements of the fast marching method[J]. SIAM Journal on Scientific Computing, 2001, 23(1): 230-244.\n",
    "        Give the detail for 2D case\n",
    "    2. Shi J, Chopp D, Lua J, et al. Abaqus implementation of extended finite element method using a level set representation for three-dimensional fatigue crack growth and life predictions[J]. Engineering Fracture Mechanics, 2010, 77(14): 2840-2863.\n",
    "        Give the detail for 3D case\n",
    "    3. Sukumar N, Chopp D L, Béchet E, et al. Three‐dimensional non‐planar crack growth by a coupled extended finite element and fast marching method[J]. International journal for numerical methods in engineering, 2008, 76(5): 727-748.    \n",
    "    4. Adalsteinsson D , Sethian J A . The Fast Construction of Extension Velocities in Level Set Methods[J]. Journal of Computational Physics, 1999, 148(1):2-22.\n",
    "    \n",
    "    Ref.1 Section 3.3\n",
    "    Ref.3 Section 3.1.2\n",
    "    \n",
    "     the front velocity data are provided as a list of sample coordinates, Xl , and the corresponding front velocity vector, Fl.\n",
    "      search for the two sample coordinates xl1 and xl2 closest to x,\n",
    "          F_{ijk} =(1−\\alpha)F_{l1} +\\alpha F_{l2 }\n",
    "    \"\"\"\n",
    "    def __init__(self,grid,phi,xl,Fl):\n",
    "        self.grid=grid\n",
    "        self.phi=phi"
   ]
  },
  {
   "cell_type": "markdown",
   "metadata": {},
   "source": [
    "### 1D FMM"
   ]
  },
  {
   "cell_type": "code",
   "execution_count": 16,
   "metadata": {},
   "outputs": [],
   "source": [
    "ch.setLevel(logging.WARN)"
   ]
  },
  {
   "cell_type": "code",
   "execution_count": 187,
   "metadata": {},
   "outputs": [],
   "source": [
    "grid1D=GridHex(np.linspace(-1,1,101))\n",
    "y=grid1D.X**2-0.25\n",
    "reinit1D=ReinitializeFMM(grid1D,y,extend={\"xl\":[(-0.5,),(0.5,)],\"Fl\":[[-1,1],]})"
   ]
  },
  {
   "cell_type": "code",
   "execution_count": 188,
   "metadata": {},
   "outputs": [
    {
     "data": {
      "text/plain": [
       "(-1.1, 1.1, -1.1, 1.1)"
      ]
     },
     "execution_count": 188,
     "metadata": {},
     "output_type": "execute_result"
    },
    {
     "data": {
      "image/png": "[encoded data removed]",
      "text/plain": [
       "<Figure size 1008x1008 with 4 Axes>"
      ]
     },
     "metadata": {
      "needs_background": "light"
     },
     "output_type": "display_data"
    }
   ],
   "source": [
    "plt.figure(figsize=(14,14))\n",
    "plt.subplot(2,2,1)\n",
    "grid1D.plot(reinit1D.T)\n",
    "plt.xlabel('x')\n",
    "plt.ylabel('$\\phi$')\n",
    "plt.title('Initial $\\phi$',fontsize=16)\n",
    "plt.axis('equal')\n",
    "plt.subplot(2,2,2)\n",
    "grid1D.plot(reinit1D.Fext[0])\n",
    "plt.title('Initial $F$',fontsize=16)\n",
    "plt.axis('equal')\n",
    "\n",
    "reinit1D.loop(vstop=0.5)\n",
    "\n",
    "plt.subplot(2,2,3)\n",
    "grid1D.plot(reinit1D.T)\n",
    "plt.xlabel('x')\n",
    "plt.ylabel('$\\phi$')\n",
    "plt.title('End',fontsize=16)\n",
    "plt.axis('equal')\n",
    "plt.subplot(2,2,4)\n",
    "grid1D.plot(reinit1D.Fext[0])\n",
    "plt.title('$F$',fontsize=16)\n",
    "plt.axis('equal')"
   ]
  },
  {
   "cell_type": "markdown",
   "metadata": {},
   "source": [
    "### 2D FMM"
   ]
  },
  {
   "cell_type": "code",
   "execution_count": 29,
   "metadata": {},
   "outputs": [],
   "source": [
    "ch.setLevel(logging.WARN)"
   ]
  },
  {
   "cell_type": "code",
   "execution_count": 189,
   "metadata": {},
   "outputs": [
    {
     "name": "stderr",
     "output_type": "stream",
     "text": [
      "C:\\Programs\\Anaconda3\\lib\\site-packages\\ipykernel_launcher.py:292: RuntimeWarning: invalid value encountered in double_scalars\n"
     ]
    }
   ],
   "source": [
    "grid2D=GridHex(np.linspace(-1,1,101),np.linspace(-1,1,101))\n",
    "phi=grid2D.X**2+grid2D.Y**2-0.25\n",
    "xl=[(0.5*np.cos(theta),0.5*np.sin(theta)) for theta in np.linspace(0,2*np.pi,101)]\n",
    "Fl=[[x for x,y in xl],[y for x,y in xl]]\n",
    "reinit2D=ReinitializeFMM(grid2D,phi,extend={\"xl\":xl,\"Fl\":Fl})\n",
    "#reinit2D.Fext=[reinit2D.grid.X.copy(),reinit2D.grid.Y.copy()]"
   ]
  },
  {
   "cell_type": "code",
   "execution_count": 190,
   "metadata": {
    "scrolled": false
   },
   "outputs": [
    {
     "data": {
      "text/plain": [
       "(-1.0, 1.0, -1.0, 1.0)"
      ]
     },
     "execution_count": 190,
     "metadata": {},
     "output_type": "execute_result"
    },
    {
     "data": {
      "image/png": "[encoded data removed]",
      "text/plain": [
       "<Figure size 1080x864 with 8 Axes>"
      ]
     },
     "metadata": {
      "needs_background": "light"
     },
     "output_type": "display_data"
    }
   ],
   "source": [
    "plt.figure(figsize=(15,12))\n",
    "plt.suptitle('Initial',fontsize=16)\n",
    "plt.subplot(2,2,1)\n",
    "grid2D.plot(reinit2D.T0)\n",
    "plt.title('T0',fontsize=16)\n",
    "plt.axis('equal')\n",
    "plt.subplot(2,2,2)\n",
    "grid2D.plot(reinit2D.T)\n",
    "plt.title('T',fontsize=16)\n",
    "plt.axis('equal')\n",
    "plt.subplot(2,2,3)\n",
    "grid2D.plot(reinit2D.Fext[0])\n",
    "plt.title('Fext[0]',fontsize=16)\n",
    "plt.axis('equal')\n",
    "plt.subplot(2,2,4)\n",
    "grid2D.plot(reinit2D.Fext[1])\n",
    "plt.title('Fext[1]',fontsize=16)\n",
    "plt.axis('equal')"
   ]
  },
  {
   "cell_type": "code",
   "execution_count": 191,
   "metadata": {},
   "outputs": [
    {
     "name": "stdout",
     "output_type": "stream",
     "text": [
      "Wall time: 14.2 s\n"
     ]
    }
   ],
   "source": [
    "%time reinit2D.loop(vstop=1.0)"
   ]
  },
  {
   "cell_type": "code",
   "execution_count": 192,
   "metadata": {
    "scrolled": false
   },
   "outputs": [
    {
     "data": {
      "text/plain": [
       "(-1.0, 1.0, -1.0, 1.0)"
      ]
     },
     "execution_count": 192,
     "metadata": {},
     "output_type": "execute_result"
    },
    {
     "data": {
      "image/png": "[encoded data removed]",
      "text/plain": [
       "<Figure size 1080x864 with 8 Axes>"
      ]
     },
     "metadata": {
      "needs_background": "light"
     },
     "output_type": "display_data"
    }
   ],
   "source": [
    "plt.figure(figsize=(15,12))\n",
    "plt.suptitle('End',fontsize=16)\n",
    "plt.subplot(2,2,1)\n",
    "grid2D.plot(reinit2D.T0)\n",
    "plt.title('T0',fontsize=16)\n",
    "plt.axis('equal')\n",
    "plt.subplot(2,2,2)\n",
    "grid2D.plot(reinit2D.T)\n",
    "plt.title('T',fontsize=16)\n",
    "plt.axis('equal')\n",
    "plt.subplot(2,2,3)\n",
    "grid2D.plot(reinit2D.Fext[0])\n",
    "plt.title('Fext[0]',fontsize=16)\n",
    "plt.axis('equal')\n",
    "plt.subplot(2,2,4)\n",
    "grid2D.plot(reinit2D.Fext[1])\n",
    "plt.title('Fext[1]',fontsize=16)\n",
    "plt.axis('equal')"
   ]
  },
  {
   "cell_type": "code",
   "execution_count": 194,
   "metadata": {},
   "outputs": [
    {
     "name": "stderr",
     "output_type": "stream",
     "text": [
      "C:\\Programs\\Anaconda3\\lib\\site-packages\\ipykernel_launcher.py:11: RuntimeWarning: divide by zero encountered in true_divide\n",
      "  # This is added back by InteractiveShellApp.init_path()\n",
      "C:\\Programs\\Anaconda3\\lib\\site-packages\\ipykernel_launcher.py:11: RuntimeWarning: invalid value encountered in true_divide\n",
      "  # This is added back by InteractiveShellApp.init_path()\n"
     ]
    },
    {
     "data": {
      "text/plain": [
       "0.9144046374270391"
      ]
     },
     "execution_count": 194,
     "metadata": {},
     "output_type": "execute_result"
    },
    {
     "data": {
      "image/png": "[encoded data removed]",
      "text/plain": [
       "<Figure size 864x432 with 4 Axes>"
      ]
     },
     "metadata": {
      "needs_background": "light"
     },
     "output_type": "display_data"
    }
   ],
   "source": [
    "#reinit2D.loop(vstop=0.2)\n",
    "plt.figure(figsize=(12,6))\n",
    "\n",
    "plt.suptitle('Error',fontsize=16)\n",
    "Z=reinit2D.T\n",
    "Z0=np.sqrt(reinit2D.grid.X**2+reinit2D.grid.Y**2)-np.sqrt(0.25)\n",
    "plt.subplot(1,2,1)\n",
    "grid2D.plot(np.where(reinit2D.Status>=0,Z-Z0,np.inf),title='Absolute Error of Fast Marching Method')\n",
    "plt.axis('equal')\n",
    "plt.subplot(1,2,2)\n",
    "grid2D.plot(np.where(reinit2D.Status>=0,np.abs((Z-Z0)/Z0),np.inf),title='Relative Error of Fast Marching Method')\n",
    "plt.axis('equal')\n",
    "np.amax(Z[reinit2D.Status==1])"
   ]
  },
  {
   "cell_type": "code",
   "execution_count": null,
   "metadata": {
    "scrolled": true
   },
   "outputs": [],
   "source": []
  },
  {
   "cell_type": "markdown",
   "metadata": {},
   "source": [
    "### 3D FMM"
   ]
  },
  {
   "cell_type": "code",
   "execution_count": 600,
   "metadata": {},
   "outputs": [
    {
     "name": "stdout",
     "output_type": "stream",
     "text": [
      "[-0.25 -0.14 -0.18 -0.07 -0.16 -0.05 -0.09  0.02]\n",
      "[0.40000000000000013, 0.30000000000000004, 0.5] (-0.2499999999999999, (0.8000000000000003, 0.6000000000000008, 0.9999999999999999))\n",
      "[0.40000000000000013, 0.30000000000000004, 0.6000000000000001] (-0.13999999999999974, (0.8000000000000003, 0.6000000000000008, 1.2000000000000026))\n",
      "[0.40000000000000013, 0.40000000000000013, 0.5] (-0.17999999999999972, (0.8000000000000003, 0.8000000000000003, 1.0000000000000009))\n",
      "[0.40000000000000013, 0.40000000000000013, 0.6000000000000001] (-0.06999999999999978, (0.8000000000000003, 0.7999999999999967, 1.1999999999999988))\n",
      "[0.5, 0.30000000000000004, 0.5] (-0.15999999999999992, (1.0000000000000002, 0.6000000000000008, 1.0000000000000009))\n",
      "[0.5, 0.30000000000000004, 0.6000000000000001] (-0.05000000000000002, (0.999999999999995, 0.6000000000000011, 1.199999999999997))\n",
      "[0.5, 0.40000000000000013, 0.5] (-0.08999999999999994, (0.9999999999999978, 0.7999999999999984, 1.0000000000000004))\n",
      "[0.5, 0.40000000000000013, 0.6000000000000001] (0.01999999999999888, (0.9999999999999695, 0.7999999999999762, 1.1999999999999724))\n"
     ]
    }
   ],
   "source": [
    "grid3D=GridHex(np.linspace(-1,1,21),np.linspace(-1,1,21),np.linspace(-1,1,21))\n",
    "phi=grid3D.X**2+grid3D.Y**2+grid3D.Z**2-3*0.5**2\n",
    "reinit3D=ReinitializeFMM(grid3D,phi)"
   ]
  },
  {
   "cell_type": "code",
   "execution_count": null,
   "metadata": {},
   "outputs": [],
   "source": []
  },
  {
   "cell_type": "markdown",
   "metadata": {},
   "source": [
    "### 裂纹扩展"
   ]
  },
  {
   "cell_type": "code",
   "execution_count": 238,
   "metadata": {},
   "outputs": [],
   "source": [
    "fmmlogger.handlers[0].setLevel(logging.WARN)"
   ]
  },
  {
   "cell_type": "code",
   "execution_count": 330,
   "metadata": {},
   "outputs": [],
   "source": [
    "Nx,Ny=101,101\n",
    "grid=GridHex(np.linspace(-1,1,Nx),np.linspace(-1,1,Ny))\n",
    "index=(0,0)\n",
    "X=np.full_like(grid.X,np.inf)\n",
    "status=np.full((Nx,Ny),-1,dtype=np.int8)\n",
    "\n",
    "theta=np.pi/4\n",
    "cet=np.array([(seed[ind]+seed[ind+1])/2 for seed,ind in zip(grid.seeds,index)])\n",
    "for i,j in product(*[range(4) for _ in range(2)]):\n",
    "    ind1,ind2=index[0]+i,index[1]+j\n",
    "    status[ind1,ind2]=1\n",
    "    crd=np.array([seed[ind] for seed,ind in zip(grid.seeds,(ind1,ind2))])\n",
    "    X[ind1,ind2]=np.dot(crd-cet,np.array([np.cos(theta),np.sin(theta)]))\n",
    "\n",
    "fmm=ReinitializeFMM(grid,X)"
   ]
  },
  {
   "cell_type": "code",
   "execution_count": 267,
   "metadata": {},
   "outputs": [],
   "source": [
    "fmm.loop(vstop=1.0)"
   ]
  },
  {
   "cell_type": "code",
   "execution_count": 268,
   "metadata": {
    "scrolled": true
   },
   "outputs": [
    {
     "data": {
      "text/plain": [
       "(-1.0, 1.0, -1.0, 1.0)"
      ]
     },
     "execution_count": 268,
     "metadata": {},
     "output_type": "execute_result"
    },
    {
     "data": {
      "image/png": "[encoded data removed]",
      "text/plain": [
       "<Figure size 432x288 with 2 Axes>"
      ]
     },
     "metadata": {
      "needs_background": "light"
     },
     "output_type": "display_data"
    }
   ],
   "source": [
    "#plt.figure(figsize=(5,5))\n",
    "grid.plot(fmm.T)\n",
    "plt.axis('equal')"
   ]
  },
  {
   "cell_type": "code",
   "execution_count": 242,
   "metadata": {
    "scrolled": true
   },
   "outputs": [
    {
     "data": {
      "text/plain": [
       "array([[-0.01414214,  0.        ,  0.01407126,  0.02814217],\n",
       "       [ 0.        ,  0.01414213,  0.02828427,  0.04235518],\n",
       "       [ 0.01407126,  0.02828427,  0.04242641,  0.05653288],\n",
       "       [ 0.02814217,  0.04235518,  0.05653288,  0.07067502]])"
      ]
     },
     "execution_count": 242,
     "metadata": {},
     "output_type": "execute_result"
    }
   ],
   "source": [
    "fmm.T[:4,:4]"
   ]
  },
  {
   "cell_type": "code",
   "execution_count": 243,
   "metadata": {},
   "outputs": [
    {
     "data": {
      "text/plain": [
       "73"
      ]
     },
     "execution_count": 243,
     "metadata": {},
     "output_type": "execute_result"
    }
   ],
   "source": [
    "np.sum(fmm.Status==0)"
   ]
  },
  {
   "cell_type": "markdown",
   "metadata": {},
   "source": [
    "### 直裂纹"
   ]
  },
  {
   "cell_type": "code",
   "execution_count": 325,
   "metadata": {},
   "outputs": [],
   "source": [
    "fmmlogger.handlers[0].setLevel(logging.WARN)"
   ]
  },
  {
   "cell_type": "code",
   "execution_count": 337,
   "metadata": {},
   "outputs": [],
   "source": [
    "grid=GridHex(np.linspace(-1,1,11),np.linspace(-1,1,11))\n",
    "exact=grid.Y-0.3\n",
    "accept=np.logical_and(np.abs(exact)<=(2*2/(11-1)+1e-6),grid.X<0.3)\n",
    "fmm=FastMarching(grid,np.where(accept,exact,np.infty),status=accept,V=1.0)"
   ]
  },
  {
   "cell_type": "code",
   "execution_count": 338,
   "metadata": {},
   "outputs": [
    {
     "data": {
      "text/plain": [
       "(-1.0, 1.0, -1.0, 1.0)"
      ]
     },
     "execution_count": 338,
     "metadata": {},
     "output_type": "execute_result"
    },
    {
     "data": {
      "image/png": "[encoded data removed]",
      "text/plain": [
       "<Figure size 432x288 with 2 Axes>"
      ]
     },
     "metadata": {
      "needs_background": "light"
     },
     "output_type": "display_data"
    }
   ],
   "source": [
    "fmm.grid.plot(fmm.T)\n",
    "plt.axis('equal')"
   ]
  },
  {
   "cell_type": "code",
   "execution_count": 324,
   "metadata": {},
   "outputs": [
    {
     "data": {
      "text/plain": [
       "([[-1, 5.000000000000001, 0.49999999999999917, 0.19999999999999996, inf],\n",
       "  [0, 0, 0, inf, inf]],\n",
       " (-0.09999999999999981, 0.0))"
      ]
     },
     "execution_count": 324,
     "metadata": {},
     "output_type": "execute_result"
    }
   ],
   "source": [
    "fmm.dervCoff((7,6))"
   ]
  },
  {
   "cell_type": "code",
   "execution_count": 340,
   "metadata": {},
   "outputs": [],
   "source": [
    "fmm.loop(vstop=1.0)"
   ]
  },
  {
   "cell_type": "code",
   "execution_count": 341,
   "metadata": {},
   "outputs": [
    {
     "data": {
      "text/plain": [
       "(-1.0, 1.0, -1.0, 1.0)"
      ]
     },
     "execution_count": 341,
     "metadata": {},
     "output_type": "execute_result"
    },
    {
     "data": {
      "image/png": "[encoded data removed]",
      "text/plain": [
       "<Figure size 432x288 with 2 Axes>"
      ]
     },
     "metadata": {
      "needs_background": "light"
     },
     "output_type": "display_data"
    }
   ],
   "source": [
    "fmm.grid.plot(fmm.T)\n",
    "plt.axis('equal')"
   ]
  },
  {
   "cell_type": "markdown",
   "metadata": {},
   "source": [
    "### 圆裂纹"
   ]
  },
  {
   "cell_type": "code",
   "execution_count": 178,
   "metadata": {},
   "outputs": [],
   "source": [
    "grid=GridHex(np.linspace(-1,1,101),np.linspace(-1,1,101))\n",
    "exact=np.sqrt(grid.X**2+grid.Y**2)-0.5\n",
    "accept=exact<=0.15\n",
    "T=np.where(accept,exact,np.infty)\n",
    "status=np.where(accept,1,-1)\n",
    "fmm=FastMarching(grid,T,status=status)"
   ]
  },
  {
   "cell_type": "code",
   "execution_count": 179,
   "metadata": {},
   "outputs": [],
   "source": [
    "fmm.loop(vstop=0.3)"
   ]
  },
  {
   "cell_type": "code",
   "execution_count": 182,
   "metadata": {},
   "outputs": [
    {
     "data": {
      "text/plain": [
       "(-1.0, 1.0, -1.0, 1.0)"
      ]
     },
     "execution_count": 182,
     "metadata": {},
     "output_type": "execute_result"
    },
    {
     "data": {
      "image/png": "[encoded data removed]",
      "text/plain": [
       "<Figure size 432x288 with 2 Axes>"
      ]
     },
     "metadata": {
      "needs_background": "light"
     },
     "output_type": "display_data"
    }
   ],
   "source": [
    "fmm.grid.plot(fmm.T-exact)\n",
    "plt.axis('equal')"
   ]
  },
  {
   "cell_type": "markdown",
   "metadata": {},
   "source": [
    "### 折线裂纹"
   ]
  },
  {
   "cell_type": "code",
   "execution_count": 686,
   "metadata": {},
   "outputs": [],
   "source": [
    "fmmlogger.handlers[0].setLevel(logging.WARN)"
   ]
  },
  {
   "cell_type": "code",
   "execution_count": null,
   "metadata": {},
   "outputs": [],
   "source": [
    "4181"
   ]
  },
  {
   "cell_type": "code",
   "execution_count": 341,
   "metadata": {},
   "outputs": [
    {
     "name": "stderr",
     "output_type": "stream",
     "text": [
      "2020-04-21 23:00:43,413 - FastMarching - WARNING - cubic distance while loop than 100 times [-0.2 -0.2] -> [-0.09479925  0.02862071]\n"
     ]
    }
   ],
   "source": [
    "grid=GridHex(np.linspace(-1,1,11),np.linspace(-1,1,11))\n",
    "phi,psi=np.where(grid.X<=-0.1,(grid.X+grid.Y+0.1)/np.sqrt(2),grid.Y),grid.X\n",
    "accept=np.abs(phi)<0.2\n",
    "fmm=ReinitializeFMM(grid,phi)"
   ]
  },
  {
   "cell_type": "code",
   "execution_count": 342,
   "metadata": {},
   "outputs": [
    {
     "name": "stdout",
     "output_type": "stream",
     "text": [
      "Wall time: 91.9 ms\n"
     ]
    }
   ],
   "source": [
    "%time fmm.loop(vstop=1.0)"
   ]
  },
  {
   "cell_type": "code",
   "execution_count": 340,
   "metadata": {},
   "outputs": [
    {
     "data": {
      "text/plain": [
       "-1.3637320019866095"
      ]
     },
     "execution_count": 340,
     "metadata": {},
     "output_type": "execute_result"
    }
   ],
   "source": [
    "np.amin(fmm.T)"
   ]
  },
  {
   "cell_type": "code",
   "execution_count": 343,
   "metadata": {},
   "outputs": [
    {
     "data": {
      "image/png": "[encoded data removed]",
      "text/plain": [
       "<Figure size 432x288 with 2 Axes>"
      ]
     },
     "metadata": {
      "needs_background": "light"
     },
     "output_type": "display_data"
    }
   ],
   "source": [
    "grid.plot(fmm.T)"
   ]
  },
  {
   "cell_type": "code",
   "execution_count": null,
   "metadata": {},
   "outputs": [],
   "source": [
    "fmm3D_logger=logging.getLogger('FMM3D')\n",
    "fmm3D_logger.setLevel(logging.DEBUG)\n",
    "ch = logging.StreamHandler()\n",
    "ch.setLevel(logging.WARN)\n",
    "ch.setFormatter(logging.Formatter('%(asctime)s - %(name)s - %(levelname)s - %(message)s'))\n",
    "fmm3D_logger.handlers.clear()\n",
    "fmm3D_logger.addHandler(ch)"
   ]
  },
  {
   "cell_type": "code",
   "execution_count": 566,
   "metadata": {},
   "outputs": [
    {
     "data": {
      "text/plain": [
       "[<StreamHandler stderr (WARNING)>]"
      ]
     },
     "execution_count": 566,
     "metadata": {},
     "output_type": "execute_result"
    }
   ],
   "source": [
    "logging.getLogger(\"FMM3D\").handlers"
   ]
  },
  {
   "cell_type": "code",
   "execution_count": null,
   "metadata": {},
   "outputs": [],
   "source": [
    "# -*- coding: UTF-8 -*-\n",
    "\n",
    "import numpy as np\n",
    "from mpl_toolkits import mplot3d\n",
    "import matplotlib.pyplot as plt\n",
    "from itertools import product\n",
    "import logging\n",
    "\n",
    "#from FastMarching import FastMarching,ReinitializeFMM\n",
    "\n",
    "fmm3D_logger=logging.getLogger('FMM3D')\n",
    "fmm3D_logger.setLevel(logging.DEBUG)\n",
    "ch = logging.StreamHandler()\n",
    "ch.setLevel(logging.WARN)\n",
    "ch.setFormatter(logging.Formatter('%(asctime)s - %(name)s - %(levelname)s - %(message)s'))\n",
    "fmm3D_logger.handlers.clear()\n",
    "fmm3D_logger.addHandler(ch)"
   ]
  },
  {
   "cell_type": "code",
   "execution_count": 571,
   "metadata": {},
   "outputs": [],
   "source": [
    "class Crack3D_FMM:\n",
    "    \"\"\"\n",
    "    1. Bærentzen J A. On the implementation of fast marching methods for 3D lattices[J]. 2001.\n",
    "    2. Sukumar N, Chopp D L, Moran B. Extended finite element method and fast marching method for three-dimensional fatigue crack propagation[J]. Engineering Fracture Mechanics, 2003, 70(1): 29-48.\n",
    "    3. Sethian J A. Fast marching methods[J]. SIAM review, 1999, 41(2): 199-235.    \n",
    "    4. Sukumar N, Chopp D L, Bechet E, et al. Three‐dimensional non‐planar crack growth by a coupled extended finite element and fast marching method[J]. International Journal for Numerical Methods in Engineering, 2008, 76(5): 727-748.\n",
    "    5. Chopp D L. Some improvements of the fast marching method[J]. SIAM Journal on Scientific Computing, 2001, 23(1): 230-244.\n",
    "        Give the detail for 2D case\n",
    "    6. Shi J, Chopp D, Lua J, et al. Abaqus implementation of extended finite element method using a level set representation for three-dimensional fatigue crack growth and life predictions[J]. Engineering Fracture Mechanics, 2010, 77(14): 2840-2863.\n",
    "        Give the detail for 3D case\n",
    "    7. Adalsteinsson D , Sethian J A . The Fast Construction of Extension Velocities in Level Set Methods[J]. Journal of Computational Physics, 1999, 148(1):2-22.\n",
    "    \"\"\"\n",
    "    def __init__(self,grid,phi0,psi0,extend=None,Fext=[]):\n",
    "        self.logger=logging.getLogger(\"FMM3D\")\n",
    "        \n",
    "        self.grid=grid\n",
    "        self.phi0=phi0\n",
    "        self.phi=phi0.copy()\n",
    "        self.psi0=psi0\n",
    "        self.psi=psi0.copy()\n",
    "\n",
    "        # used in Reintialization to \n",
    "        if extend is None:\n",
    "            xl,Fl=[],[]\n",
    "        else:\n",
    "            xl,Fl=extend['xl'],extend['Fl']\n",
    "        \n",
    "    def advanceFront(self,xl,Fl):\n",
    "        grid=self.grid\n",
    "        phi,psi=self.phi,self.psi\n",
    "        \n",
    "        status,rho,Fext=self.frontInitialize(grid,phi,psi,xl,Fl)\n",
    "        \n",
    "        self.logger.info(\"Start Compute the distance to the crack front and  Extend the tip velocity\")\n",
    "        reinit=FastMarching(grid,rho,status,V=1.0,Fext=Fext)\n",
    "        vstop=6*max(np.max(seed[1:]-seed[:-1]) for seed in grid.seeds)\n",
    "        reinit.loop(vstop=vstop)\n",
    "        self.logger.info(\"End! \")\n",
    "        \n",
    "        rho,Fext=self.reinit.T,self.reinit.Fext\n",
    "        \n",
    "        grad_rho=np.gradient(rho,grid.seeds)\n",
    "        normG=np.sqrt(grad_rho[0]*grad_rho[0]+grad_rho[1]*grad_rho[1]+grad_rho[2]*grad_rho[2])\n",
    "        normF=np.sqrt(Fext[0]*Fext[0]+Fext[1]*Fext[1]+Fext[2]*Fext[2])\n",
    "        \n",
    "        psi1=rho*(grad_rho[0]*Fext[0]+grad_rho[1]*Fext[1]+grad_rho[2]*Fext[2])/(normG*normF)\n",
    "        \n",
    "        phi1=np.where(np.logical_and(psi<=0,psi1<=0),phi,)\n",
    "        \n",
    "    def frontInitialize(self,grid,phi,psi,xl,Fl):\n",
    "        \"\"\"\n",
    "        compute \n",
    "            1. the distance to the crack front using tricubic approximation \n",
    "            2. the velocity vector interpolate from the velocity vector `Fl` at crack front `xl`\n",
    "        for those grid points near the crack front (cut by crack front)\n",
    "\n",
    "        Tip Velocity Extension\n",
    "            Ref.1 Section 3.3\n",
    "            Ref.3 Section 3.1.2\n",
    "            Ref.4 \n",
    "        the front velocity data are provided as a list of sample coordinates, Xl , and the corresponding front velocity vector, Fl.\n",
    "          search for the two sample coordinates xl1 and xl2 closest to x,\n",
    "          F_{ijk} =(1−\\alpha)F_{l1} +\\alpha F_{l2 }            \n",
    "\n",
    "        \"\"\"\n",
    "        ndim=grid.ndim\n",
    "        \n",
    "        status=np.full(grid.shape,-1)\n",
    "        rho=np.full(grid.shape,np.inf)\n",
    "        Fext=[np.full(grid.shape,np.inf) for _ in range(len(Fl))]\n",
    "        \n",
    "        extend=(len(Fl)>0)\n",
    "\n",
    "        for vindex in product(*[range(grid.shape[i]-1) for i in range(ndim)]):\n",
    "            if grid.isSignChange(vindex,phi) and grid.isSignChange(vindex,psi):\n",
    "                cofp=grid.cubicCoff(vindex,phi)\n",
    "                cofq=grid.cubicCoff(vindex,psi)\n",
    "                for point in grid.voxelPoints(vindex):\n",
    "                    status[point]=1\n",
    "                    d=self.cubicDistance(grid,phi,psi,vindex,cofp,cofq,grid.coord(point))\n",
    "                    rho[point]=min(d,rho[point])\n",
    "                    if extend:\n",
    "                        x=grid.coord(point)\n",
    "                        i1,x1,d1=None,None,np.infty\n",
    "                        i2,x2,d2=None,None,np.infty\n",
    "                        for i,pt in enumerate(xl):\n",
    "                            d=sum(((x[j]-pt[j])**2 for j in range(len(x))))**0.5\n",
    "                            if d<d1:\n",
    "                                i2,x2,d2=i1,x1,d1\n",
    "                                i1,x1,d1=i,pt,d\n",
    "                            elif d<d2:\n",
    "                                i2,x2,d2=i,pt,d\n",
    "                        \n",
    "                        a=sum(((x[j]-x1[j])**2 for j in range(len(x))))\n",
    "                        b=sum(((x[j]-x2[j])**2 for j in range(len(x))))\n",
    "                        c=sum(((x[j]-x1[j])*(x[j]-x2[j]) for j in range(len(x))))\n",
    "                        # (1-alpha)*x1+alpha*x2 is the closet \n",
    "                        alpha=min(1,max(0,(a-c)/(a+b-2*c)))\n",
    "                        for i in range(len(Fext)):\n",
    "                            Fext[i][point]=(1-alpha)*Fl[i][i1]+alpha*Fl[i][i2]\n",
    "                        self.logger.debug(\"index=%s,x=%s,x1=%s,x2=%s,alpha=%f,a=%f,b=%f,c=%f\"%(repr(point),repr(x),repr(x1),repr(x2),alpha,a,b,c))\n",
    "\n",
    "        return status,rho,Fext\n",
    "\n",
    "    def cubicDistance(self,grid,phi,psi,vindex,cofp,cofq,xs):\n",
    "        \"\"\"\n",
    "        Modified Newton Method for cubic interpolation \n",
    "        introduced in \n",
    "\n",
    "        \"\"\"\n",
    "        ndim=grid.ndim\n",
    "        \n",
    "        x0,x=np.array(xs),np.array(xs)\n",
    "        bnds=grid.voxelBound(vindex)\n",
    "        vol=np.prod([bnd[1]-bnd[0] for bnd in bnds])\n",
    "        \n",
    "        cnt=0\n",
    "        while True:\n",
    "            # 是否在外部\n",
    "            inside,index1=True,[]\n",
    "            for i in range(ndim):\n",
    "                inc=0 \n",
    "                if x[i]<bnds[i][0]-1e-7:\n",
    "                    inc,inside=-1,False\n",
    "                elif x[i]>bnds[i][1]+1e-7:\n",
    "                    inc,inside=1,False\n",
    "                index1.append(vindex[i]+inc)\n",
    "            \n",
    "            if inside:\n",
    "                p,derv_p=grid.cubicInterpolation(cofp,vindex,x)\n",
    "                q,derv_q=grid.cubicInterpolation(cofq,vindex,x)\n",
    "            else:\n",
    "                cofp1=grid.cubicCoff(index1,phi)\n",
    "                cofq1=grid.cubicCoff(index1,psi)\n",
    "                p,derv_p=grid.cubicInterpolation(cofp1,vindex,x)\n",
    "                q,derv_q=grid.cubicInterpolation(cofq1,vindex,x)\n",
    "                self.logger.info('iteration go out side the voxel')\n",
    "            derv_p=np.array(derv_p)\n",
    "            derv_q=np.array(derv_q)\n",
    "            \n",
    "            derv=p*derv_p+q*derv_q\n",
    "            sqr=np.dot(derv,derv)\n",
    "            \n",
    "            dlt1=-(p**2+q**2)/sqr*derv\n",
    "            dlt1[np.isnan(dlt1)]=0.\n",
    "            \n",
    "            derv=np.cross(derv_p,derv_q)\n",
    "            sqr=np.dot(derv,derv)\n",
    "            dlt2=np.dot(x0-x,derv)/sqr*derv\n",
    "            dlt2[np.isnan(dlt2)]=0.\n",
    "            #print(x0,x,f,derv,dlt1,dlt2)\n",
    "            \n",
    "            x=x+dlt1+dlt2\n",
    "            cnt=cnt+1\n",
    "            #self.logger.debug(\"x=%s;p=%f;q=%f;derv_p=%s;derv_q=%s;dlt1=%s;dlt2=%s\"%(repr(x),p,q,repr(derv_p),repr(derv_q),repr(dlt1),repr(dlt2)))\n",
    "            if(np.linalg.norm(dlt1+dlt2)<(1e-3*vol)):\n",
    "                return np.linalg.norm(x-x0)\n",
    "            if cnt>20:\n",
    "                self.logger.warning('cubic distance while loop than 20 times %s -> %s'%(x0,x))\n",
    "                return np.linalg.norm(x-x0)\n",
    "        \n",
    "    def extendVelocity(self,xl,Fl):\n",
    "        pass\n",
    "    \n",
    "    def velocity(self,index):\n",
    "        raise NotImplementedError('Velocity not implemented!')\n",
    "    \n",
    "    @staticmethod\n",
    "    def smearedSign(Z,sgnfactor):\n",
    "        return Z/np.sqrt(Z**2+sgnfactor**2)\n",
    "\n",
    "    @staticmethod\n",
    "    def minabs(A,B):\n",
    "        \"\"\"\n",
    "        (2007)Antoine du Chéné, Chohong Min, Frédéric Gibou. Second-Order Accurate Computation of Curvatures in a Level Set Framework Using Novel High-Order Reinitialization Schemes(2007)Antoine du Chéné, Chohong Min, Frédéric Gibou. Second-Order Accurate Computation of Curvatures in a Level Set Framework Using Novel High-Order Reinitialization Schemes\n",
    "        >>> minabs(-1,-2),minabs(1,-2),minabs(-1,2),minabs(1,2)\n",
    "        \"\"\"\n",
    "        return np.where(abs(A)<abs(B),A,B)\n",
    "\n",
    "    @staticmethod\n",
    "    def minmod(A,B):\n",
    "        \"\"\"\n",
    "        (2007)Antoine du Chéné, Chohong Min, Frédéric Gibou. Second-Order Accurate Computation of Curvatures in a Level Set Framework Using Novel High-Order Reinitialization Schemes\n",
    "        >>> minmod(np.linspace(0,1,11),-0.5),minmod(np.linspace(0,1,11),0.5)\n",
    "        \"\"\"\n",
    "        mask1=(A*B)>0\n",
    "        mask2=abs(A)>abs(B)\n",
    "        return B*np.logical_and(mask1,mask2)+A*np.logical_and(mask1,np.logical_not(mask2))\n",
    "        "
   ]
  },
  {
   "cell_type": "code",
   "execution_count": 568,
   "metadata": {},
   "outputs": [],
   "source": [
    "ch.setLevel(logging.WARN)"
   ]
  },
  {
   "cell_type": "code",
   "execution_count": 575,
   "metadata": {},
   "outputs": [],
   "source": [
    "grid=GridHex(np.linspace(-1,1,21),np.linspace(-1,1,21),np.linspace(-1,1,21))\n",
    "phi0=grid.Y-0.3\n",
    "psi0=grid.X-0.0\n",
    "crack=Crack3D_FMM(grid,phi0,psi0)"
   ]
  },
  {
   "cell_type": "code",
   "execution_count": 576,
   "metadata": {},
   "outputs": [
    {
     "name": "stdout",
     "output_type": "stream",
     "text": [
      "Wall time: 609 ms\n",
      "Wall time: 3.95 s\n"
     ]
    }
   ],
   "source": [
    "xl=[(0,0.3,x) for x in np.linspace(-1,1,21)]\n",
    "Fl=[[1.0 for x in xl],\n",
    "    [2.0 for x in xl],\n",
    "    [0.0 for x in xl]]\n",
    "\n",
    "%time status,rho,Fext=crack.frontInitialize(grid,phi0,psi0,xl,Fl)\n",
    "reinit=FastMarching(grid,rho,status,V=1.0,Fext=Fext)\n",
    "vstop=np.inf #6*max(np.max(seed[1:]-seed[:-1]) for seed in grid.seeds)\n",
    "%time reinit.loop(vstop=vstop)\n",
    "rho,Fext=reinit.T,reinit.Fext"
   ]
  },
  {
   "cell_type": "code",
   "execution_count": 579,
   "metadata": {},
   "outputs": [],
   "source": [
    "grad_phi=np.gradient(rho,*grid.seeds)\n",
    "\n",
    "normG=np.sqrt(grad_phi[0]*grad_phi[0]+grad_phi[1]*grad_phi[1]+grad_phi[2]*grad_phi[2])\n",
    "normF=np.sqrt(Fext[0]*Fext[0]+Fext[1]*Fext[1]+Fext[2]*Fext[2])\n",
    "phi2=rho*(grad_phi[0]*Fext[0]+grad_phi[1]*Fext[1]+grad_phi[2]*Fext[2])/(normG*normF)"
   ]
  },
  {
   "cell_type": "code",
   "execution_count": null,
   "metadata": {},
   "outputs": [],
   "source": []
  },
  {
   "cell_type": "code",
   "execution_count": 580,
   "metadata": {},
   "outputs": [
    {
     "data": {
      "text/plain": [
       "<matplotlib.colorbar.Colorbar at 0x1bb135b5320>"
      ]
     },
     "execution_count": 580,
     "metadata": {},
     "output_type": "execute_result"
    },
    {
     "data": {
      "image/png": "[encoded data removed]",
      "text/plain": [
       "<Figure size 1008x432 with 4 Axes>"
      ]
     },
     "metadata": {
      "needs_background": "light"
     },
     "output_type": "display_data"
    }
   ],
   "source": [
    "slc=(slice(None),slice(None),5)\n",
    "plt.figure(figsize=(14,6))\n",
    "plt.subplot('121')\n",
    "plt.contourf(grid.X[slc],grid.Y[slc],rho[slc])\n",
    "plt.axis('equal')\n",
    "plt.colorbar()\n",
    "plt.subplot('122')\n",
    "plt.contourf(grid.X[slc],grid.Y[slc],phi2[slc])\n",
    "plt.axis('equal')\n",
    "plt.colorbar()"
   ]
  },
  {
   "cell_type": "code",
   "execution_count": null,
   "metadata": {},
   "outputs": [],
   "source": []
  },
  {
   "cell_type": "code",
   "execution_count": 496,
   "metadata": {},
   "outputs": [
    {
     "ename": "AttributeError",
     "evalue": "'Crack3D_FMM' object has no attribute 'reinit'",
     "output_type": "error",
     "traceback": [
      "\u001b[1;31m---------------------------------------------------------------------------\u001b[0m",
      "\u001b[1;31mAttributeError\u001b[0m                            Traceback (most recent call last)",
      "\u001b[1;32m<ipython-input-496-d5068fb87fda>\u001b[0m in \u001b[0;36m<module>\u001b[1;34m\u001b[0m\n\u001b[0;32m      2\u001b[0m \u001b[0mplt\u001b[0m\u001b[1;33m.\u001b[0m\u001b[0msubplot\u001b[0m\u001b[1;33m(\u001b[0m\u001b[1;36m1\u001b[0m\u001b[1;33m,\u001b[0m\u001b[1;36m2\u001b[0m\u001b[1;33m,\u001b[0m\u001b[1;36m1\u001b[0m\u001b[1;33m)\u001b[0m\u001b[1;33m\u001b[0m\u001b[1;33m\u001b[0m\u001b[0m\n\u001b[0;32m      3\u001b[0m \u001b[0mX\u001b[0m\u001b[1;33m,\u001b[0m\u001b[0mY\u001b[0m\u001b[1;33m=\u001b[0m\u001b[0mcrack\u001b[0m\u001b[1;33m.\u001b[0m\u001b[0mgrid\u001b[0m\u001b[1;33m.\u001b[0m\u001b[0mX\u001b[0m\u001b[1;33m[\u001b[0m\u001b[1;33m:\u001b[0m\u001b[1;33m,\u001b[0m\u001b[1;33m:\u001b[0m\u001b[1;33m,\u001b[0m\u001b[1;36m5\u001b[0m\u001b[1;33m]\u001b[0m\u001b[1;33m,\u001b[0m\u001b[0mcrack\u001b[0m\u001b[1;33m.\u001b[0m\u001b[0mgrid\u001b[0m\u001b[1;33m.\u001b[0m\u001b[0mY\u001b[0m\u001b[1;33m[\u001b[0m\u001b[1;33m:\u001b[0m\u001b[1;33m,\u001b[0m\u001b[1;33m:\u001b[0m\u001b[1;33m,\u001b[0m\u001b[1;36m5\u001b[0m\u001b[1;33m]\u001b[0m\u001b[1;33m\u001b[0m\u001b[1;33m\u001b[0m\u001b[0m\n\u001b[1;32m----> 4\u001b[1;33m \u001b[0mplt\u001b[0m\u001b[1;33m.\u001b[0m\u001b[0mcontourf\u001b[0m\u001b[1;33m(\u001b[0m\u001b[0mX\u001b[0m\u001b[1;33m,\u001b[0m\u001b[0mY\u001b[0m\u001b[1;33m,\u001b[0m\u001b[0mcrack\u001b[0m\u001b[1;33m.\u001b[0m\u001b[0mreinit\u001b[0m\u001b[1;33m.\u001b[0m\u001b[0mT\u001b[0m\u001b[1;33m[\u001b[0m\u001b[1;33m:\u001b[0m\u001b[1;33m,\u001b[0m\u001b[1;33m:\u001b[0m\u001b[1;33m,\u001b[0m\u001b[1;36m5\u001b[0m\u001b[1;33m]\u001b[0m\u001b[1;33m)\u001b[0m\u001b[1;33m\u001b[0m\u001b[1;33m\u001b[0m\u001b[0m\n\u001b[0m\u001b[0;32m      5\u001b[0m \u001b[0mplt\u001b[0m\u001b[1;33m.\u001b[0m\u001b[0maxis\u001b[0m\u001b[1;33m(\u001b[0m\u001b[1;34m'equal'\u001b[0m\u001b[1;33m)\u001b[0m\u001b[1;33m\u001b[0m\u001b[1;33m\u001b[0m\u001b[0m\n\u001b[0;32m      6\u001b[0m \u001b[0mplt\u001b[0m\u001b[1;33m.\u001b[0m\u001b[0mcolorbar\u001b[0m\u001b[1;33m(\u001b[0m\u001b[1;33m)\u001b[0m\u001b[1;33m\u001b[0m\u001b[1;33m\u001b[0m\u001b[0m\n",
      "\u001b[1;31mAttributeError\u001b[0m: 'Crack3D_FMM' object has no attribute 'reinit'"
     ]
    },
    {
     "data": {
      "image/png": "[encoded data removed]",
      "text/plain": [
       "<Figure size 1008x432 with 1 Axes>"
      ]
     },
     "metadata": {
      "needs_background": "light"
     },
     "output_type": "display_data"
    }
   ],
   "source": [
    "plt.figure(figsize=(14,6))\n",
    "plt.subplot(1,2,1)\n",
    "X,Y=crack.grid.X[:,:,5],crack.grid.Y[:,:,5]\n",
    "plt.contourf(X,Y,crack.reinit.T[:,:,5])\n",
    "plt.axis('equal')\n",
    "plt.colorbar()\n",
    "plt.subplot(1,2,2)\n",
    "plt.contourf(X,Y,crack.reinit.Fext[0][:,:,0])\n",
    "plt.axis('equal')\n",
    "plt.colorbar()"
   ]
  },
  {
   "cell_type": "code",
   "execution_count": 392,
   "metadata": {},
   "outputs": [],
   "source": [
    "x,y,z=np.linspace(-1,1,6),np.linspace(-1,1,6),np.linspace(-1,1,6)\n",
    "np.gradient()"
   ]
  },
  {
   "cell_type": "code",
   "execution_count": 377,
   "metadata": {},
   "outputs": [
    {
     "data": {
      "text/plain": [
       "array([[[-0.25966092, -0.1684686 , -0.08655419, ..., -0.08501559, -0.16341942, -0.25952794],\n",
       "        [-0.28758716, -0.18522019, -0.0994966 , ..., -0.09894346, -0.18401581, -0.28746879],\n",
       "        [-0.32935783, -0.21559556, -0.12570954, ..., -0.12614434, -0.21829993, -0.32935781],\n",
       "        ...,\n",
       "        [-0.37599266, -0.24560408, -0.13446889, ..., -0.13446889, -0.24560408, -0.37599266],\n",
       "        [-0.35824416, -0.23301687, -0.12710191, ..., -0.1271002 , -0.23301691, -0.35824416],\n",
       "        [-0.34253707, -0.22401564, -0.12471074, ..., -0.12463631, -0.22401471, -0.34253707]],\n",
       "\n",
       "       [[-0.27953538, -0.19324771, -0.10500049, ..., -0.10231869, -0.18556554, -0.2870255 ],\n",
       "        [-0.30775408, -0.20334537, -0.10776286, ..., -0.10603446, -0.19740097, -0.30762189],\n",
       "        [-0.34204716, -0.22442523, -0.12276408, ..., -0.12202083, -0.22234166, -0.34190601],\n",
       "        ...,\n",
       "        [-0.43836204, -0.29353738, -0.16709804, ..., -0.16709804, -0.29353738, -0.43836204],\n",
       "        [-0.41509904, -0.27725802, -0.15836032, ..., -0.15835719, -0.27725809, -0.41509904],\n",
       "        [-0.39334122, -0.26430274, -0.15454483, ..., -0.15434903, -0.2643001 , -0.39334122]],\n",
       "\n",
       "       [[-0.30789965, -0.2236274 , -0.14156546, ..., -0.13822029, -0.22592477, -0.33222774],\n",
       "        [-0.3357731 , -0.23776402, -0.13513845, ..., -0.13227806, -0.22964054, -0.34615562],\n",
       "        [-0.37347098, -0.25246966, -0.13902387, ..., -0.13719619, -0.24562691, -0.37335649],\n",
       "        ...,\n",
       "        [-0.51678708, -0.35665827, -0.21262762, ..., -0.21262762, -0.35665827, -0.51678708],\n",
       "        [-0.48358394, -0.33276018, -0.19961197, ..., -0.19960482, -0.33276034, -0.48358394],\n",
       "        [-0.4176424 , -0.27815091, -0.15749535, ..., -0.15827661, -0.27817   , -0.4176424 ]],\n",
       "\n",
       "       ...,\n",
       "\n",
       "       [[-0.30789965, -0.2236274 , -0.14156546, ..., -0.13822029, -0.22592477, -0.33222774],\n",
       "        [-0.3357731 , -0.23776402, -0.13513845, ..., -0.13227806, -0.22964054, -0.34615562],\n",
       "        [-0.37347098, -0.25246966, -0.13902387, ..., -0.13719619, -0.24562691, -0.37335649],\n",
       "        ...,\n",
       "        [-0.51678708, -0.35665827, -0.21262762, ..., -0.21262762, -0.35665827, -0.51678708],\n",
       "        [-0.48358394, -0.33276018, -0.19961197, ..., -0.19960482, -0.33276034, -0.48358394],\n",
       "        [-0.4176424 , -0.27815091, -0.15749535, ..., -0.15827661, -0.27817   , -0.4176424 ]],\n",
       "\n",
       "       [[-0.27953538, -0.19324771, -0.10500049, ..., -0.10231869, -0.18556554, -0.2870255 ],\n",
       "        [-0.30775408, -0.20334537, -0.10776286, ..., -0.10603446, -0.19740097, -0.30762189],\n",
       "        [-0.34204716, -0.22442523, -0.12276408, ..., -0.12202083, -0.22234166, -0.34190601],\n",
       "        ...,\n",
       "        [-0.43836204, -0.29353738, -0.16709804, ..., -0.16709804, -0.29353738, -0.43836204],\n",
       "        [-0.41509904, -0.27725802, -0.15836032, ..., -0.15835719, -0.27725809, -0.41509904],\n",
       "        [-0.39334122, -0.26430274, -0.15454483, ..., -0.15434903, -0.2643001 , -0.39334122]],\n",
       "\n",
       "       [[-0.25966092, -0.1684686 , -0.08655419, ..., -0.08501559, -0.16341942, -0.25952794],\n",
       "        [-0.28758716, -0.18522019, -0.0994966 , ..., -0.09894346, -0.18401581, -0.28746879],\n",
       "        [-0.32935783, -0.21559556, -0.12570954, ..., -0.12614434, -0.21829993, -0.32935781],\n",
       "        ...,\n",
       "        [-0.37599266, -0.24560408, -0.13446889, ..., -0.13446889, -0.24560408, -0.37599266],\n",
       "        [-0.35824416, -0.23301687, -0.12710191, ..., -0.1271002 , -0.23301691, -0.35824416],\n",
       "        [-0.34253707, -0.22401564, -0.12471074, ..., -0.12463631, -0.22401471, -0.34253707]]])"
      ]
     },
     "execution_count": 377,
     "metadata": {},
     "output_type": "execute_result"
    }
   ],
   "source": [
    "crack.reinit.T-np.sqrt(crack.grid.X**2+(crack.grid.Y-0.3)**2+crack.grid.Z**2)"
   ]
  }
 ],
 "metadata": {
  "kernelspec": {
   "display_name": "Python 3",
   "language": "python",
   "name": "python3"
  },
  "language_info": {
   "codemirror_mode": {
    "name": "ipython",
    "version": 3
   },
   "file_extension": ".py",
   "mimetype": "text/x-python",
   "name": "python",
   "nbconvert_exporter": "python",
   "pygments_lexer": "ipython3",
   "version": "3.7.1"
  }
 },
 "nbformat": 4,
 "nbformat_minor": 2
}
