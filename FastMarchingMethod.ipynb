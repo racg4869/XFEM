{
 "cells": [
  {
   "cell_type": "code",
   "execution_count": 2,
   "metadata": {},
   "outputs": [],
   "source": [
    "import numpy as np\n",
    "import scipy as sp\n",
    "from mpl_toolkits import mplot3d\n",
    "import matplotlib.pyplot as plt\n",
    "import heapq\n",
    "from itertools import product\n",
    "from functools import partial\n",
    "import logging\n",
    "import sympy as sym\n",
    "smx,smy,smz=sym.symbols('x y z')"
   ]
  },
  {
   "cell_type": "markdown",
   "metadata": {},
   "source": [
    "### constants.py"
   ]
  },
  {
   "cell_type": "code",
   "execution_count": null,
   "metadata": {},
   "outputs": [],
   "source": []
  },
  {
   "cell_type": "code",
   "execution_count": 1,
   "metadata": {},
   "outputs": [],
   "source": [
    "#  first or second order approximations\n",
    "APPR_ORDER=2\n",
    "\n",
    "# \n",
    "EPS=1e-10\n",
    "\n",
    "# max time of iteration \n",
    "ITMAX=40\n",
    "\n",
    "#  desired convergence tolerance\n",
    "CONVTOL=1e-3\n",
    "\n",
    "VoxelPointOrder={\n",
    "    1:[(0,),(1,)],\n",
    "    # Figure 3.6.1 in Numerical recips\n",
    "    2:[(0,0),(1,0),(1,1),(0,1)], \n",
    "    # \n",
    "    3:[(0,0,0),(1,0,0),(1,1,0),(0,1,0),\n",
    "       (0,0,1),(1,0,1),(1,1,1),(0,1,1),],\n",
    "}\n",
    "\n",
    "# labeling or points used in cubic interpolation\n",
    "VoxelPointOrder={\n",
    "    1:[(0,),(1,)],\n",
    "    2:[(0,0),(0,1),(1,0),(1,1)],\n",
    "    3:[(0, 0, 0),(0, 0, 1),(0, 1, 0),(0, 1, 1),\n",
    "       (1, 0, 0),(1, 0, 1),(1, 1, 0),(1, 1, 1)],\n",
    "}\n",
    "\n",
    "# logger\n",
    "import logging\n",
    "logger=logging.getLogger(\"XFEM\")\n",
    "logger.setLevel(logging.DEBUG)\n",
    "ch = logging.StreamHandler()\n",
    "ch.setLevel(logging.WARN)\n",
    "ch.setFormatter(logging.Formatter('%(asctime)s - %(name)s - %(levelname)s - %(message)s'))\n",
    "logger.handlers.clear()\n",
    "logger.addHandler(ch)"
   ]
  },
  {
   "cell_type": "markdown",
   "metadata": {},
   "source": [
    "### closestTwo.py"
   ]
  },
  {
   "cell_type": "code",
   "execution_count": 3,
   "metadata": {},
   "outputs": [],
   "source": [
    "def closestTwo(xl,x):\n",
    "    \"\"\"\n",
    "    寻找xl中最靠近x的两个点x1,x2的下标i1,i2\n",
    "    并返回 在x1,x2的线段上距离最接近 x的点所占比例 $(1-alpha)*x1+alpha*x2$\n",
    "\n",
    "    Reference: \n",
    "    1. Three‐dimensional non‐planar crack growth by a coupled extended finite element and fast marching method\n",
    "        3.1.2. Extending the tip velocity\n",
    "    \"\"\"\n",
    "    i1,d1=None,np.infty\n",
    "    i2,d2=None,np.infty\n",
    "    for i,pt in enumerate(xl):\n",
    "        d=sum(((x[j]-pt[j])**2 for j in range(len(x))))**0.5\n",
    "        if d<d1:\n",
    "            i2,d2=i1,d1\n",
    "            i1,d1=i,d\n",
    "        elif d<d2:\n",
    "            i2,d2=i,d\n",
    "    x1,x2=xl[i1],xl[i2]\n",
    "    a=sum(((x[j]-x1[j])**2 for j in range(len(x))))\n",
    "    b=sum(((x[j]-x2[j])**2 for j in range(len(x))))\n",
    "    c=sum(((x[j]-x1[j])*(x[j]-x2[j]) for j in range(len(x))))\n",
    "    # (1-alpha)*x1+alpha*x2 is the closet \n",
    "    alpha=min(1,max(0,(a-c)/(a+b-2*c)))\n",
    "    return i1,i2,alpha\n",
    "\n",
    "def isSignChange(vals,EPS=1e-13):\n",
    "    return np.all(np.isfinite(vals)) and np.abs(np.mean(np.where(np.abs(vals)>EPS,\n",
    "                                       np.sign(vals),0)))!=1\n"
   ]
  },
  {
   "cell_type": "markdown",
   "metadata": {},
   "source": [
    "### Grid.py"
   ]
  },
  {
   "cell_type": "code",
   "execution_count": 4,
   "metadata": {},
   "outputs": [],
   "source": [
    "class GridHex:\n",
    "    \"\"\"\n",
    "    >>> GridHex(np.linspce(0,1,11)) # for 1D\n",
    "    >>> GridHex(np.linspce(0,1,11),np.linspce(0,1,21)) # for 2D\n",
    "    >>> GridHex(np.linspce(0,1,11),np.linspce(0,1,21),np.linspce(0,1,31)) #for 3D\n",
    "    \"\"\"\n",
    "    def __init__(self,*seeds,chs=2): \n",
    "        self.ndim=len(seeds)\n",
    "        self.shape=tuple(len(seeds[axis]) for axis in range(self.ndim))\n",
    "        self.seeds=[seeds[axis] for axis in range(self.ndim)]\n",
    "        \n",
    "        self.XYZs=np.meshgrid(*seeds,indexing='ij') # little different to meshgrid\n",
    "        self.X,self.Y,self.Z=[self.XYZs[i] if self.ndim>i else None for i in range(3)]\n",
    "        self.xs,self.ys,self.zs=[seeds[i] if self.ndim>i else None for i in range(3)]\n",
    "        \n",
    "        self.chs=chs\n",
    "        self.funcs={\n",
    "            0: self.upwindENO2,\n",
    "            1: self.upwind,\n",
    "            2: self.upwindENO2,\n",
    "            3: self.upwindENO3,\n",
    "        }\n",
    "\n",
    "    def mesh_derivate(self):\n",
    "        X,Y=self.X,self.Y\n",
    "        m,n=np.shape(X)\n",
    "        #print(m,n)\n",
    "        dNjdxi=np.zeros((m-1,n-1,4,2,4))\n",
    "        weights=np.zeros((m-1,n-1,4))\n",
    "        for i in range(m-1):\n",
    "            for j in range(n-1):\n",
    "                nodes=((i,j),(i,j+1),(i+1,j+1),(i+1,j))\n",
    "                coords=[(X[k,l],Y[k,l]) for (k,l) in nodes]\n",
    "                dNjdris=isoparametric2d(coords)\n",
    "                Js=dNjdris@np.array(coords)\n",
    "                for k in range(4):\n",
    "                    ni,nj=nodes[k]\n",
    "                    J=Js[k,:,:]\n",
    "                    dNjdxi[i,j,k,:,:]=np.linalg.inv(J)@(dNjdris[k,:,:])\n",
    "                    weights[i,j,k]=1./np.linalg.det(J)\n",
    "        return dNjdxi,weights\n",
    "        \n",
    "    def grad(self,Z):\n",
    "        xs,ys=self.xs,self.ys\n",
    "        fy,fx=np.gradient(Z,ys,xs)\n",
    "        return np.array([fx,fy])\n",
    "    \n",
    "    def grad1(self,Z,mesh_der=None):\n",
    "        \"\"\"\n",
    "        与np.gradient性能有较大差距，但是结果与其类似，不建议使用\n",
    "        \"\"\"\n",
    "        X,Y=self.X,self.Y\n",
    "        M,N=np.shape(X)\n",
    "        der,wgh=np.zeros((2,M,N)),np.zeros((M,N))\n",
    "\n",
    "        dNjdxis,weights=mesh_derivate(xx,yy) if mesh_der is None else mesh_der\n",
    "\n",
    "        for i in range(M-1):\n",
    "            for j in range(N-1):\n",
    "                nodes=((i,j),(i,j+1),(i+1,j+1),(i+1,j))\n",
    "                fs=[Z[k,l] for k,l in nodes]\n",
    "                for k in range(4):\n",
    "                    ni,nj=nodes[k]\n",
    "                    dNjdxi=dNjdxis[i,j,k,:,:]\n",
    "                    w=weights[i,j,k]\n",
    "                    der[:,ni,nj]+=w*(dNjdxi@fs)\n",
    "                    wgh[ni,nj]+=w\n",
    "        der=der/wgh\n",
    "        return der,wgh\n",
    "    \n",
    "    def plot(self,Z,title=''):\n",
    "        if self.ndim==1:\n",
    "            plt.plot(self.X,Z)\n",
    "        elif self.ndim==2:\n",
    "            plt.contourf(self.X,self.Y,Z)\n",
    "            plt.colorbar()\n",
    "        elif self.ndim==3:\n",
    "            raise NotImplementedError(\"Unsupport 3D plot Now! \")\n",
    "            pass\n",
    "        plt.title(title)\n",
    "        plt.axis('equal')\n",
    "        return \n",
    "    \n",
    "    def __call__(self,axis,Z):\n",
    "        return self.funcs[self.chs](axis,Z)\n",
    "        \n",
    "    def upwind(self,axis,Z):\n",
    "        \"\"\"\n",
    "        used in upwind scheme.\n",
    "        At each grid point, define φx− as D−φ and φx+ as D+φ. \n",
    "        If u_i > 0, approximate φx with φ−x . \n",
    "        If u_i < 0, approximate φx with φ+x .\n",
    "        \"\"\"\n",
    "        xys=self.seeds\n",
    "        triml1=tuple((slice(None) if i!=axis else slice(1,None) for i in range(ndim)))\n",
    "        trimr1=tuple((slice(None) if i!=axis else slice(0,-1) for i in range(ndim)))        \n",
    "        extd=tuple((None if i!=axis else slice(None) for i in range(ndim)))\n",
    "        \n",
    "        gc=GhostCell(stencil=1)\n",
    "        dxy1=gc.periodic(axis,np.diff(xys[axis])[extd])\n",
    "        \n",
    "        D0=gc.periodic(axis,Z)\n",
    "        D1=np.diff(D0,axis=axis)/dxy1\n",
    "\n",
    "        Dlft,Drht=D1[trimr1],D1[triml1]\n",
    "\n",
    "        return Dlft,Drht\n",
    "    \n",
    "    def upwindENO2(self,axis,Z,subcellfix=False):\n",
    "        \"\"\"\n",
    "        Give second order approximation for One-Sided Derivatives φx− and φx+ \n",
    "        there are two possible second order approximations to both the left and right, \n",
    "        and  chooses the least oscillatory one according to the \n",
    "        \n",
    "        Refer to:\n",
    "            1. Osher S, Fedkiw R, Piechor K. Level set methods and dynamic implicit surfaces[J]. Appl. Mech. Rev., 2004, 57(3): B15-B15.\n",
    "                Chapter 3.3 Hamilton-Jacobi ENO\n",
    "            2. Mitchell I M. A toolbox of level set methods[J]. UBC Department of Computer Science Technical Report TR-2007-11, 2007.\n",
    "                upwindFirstENO2.m\n",
    "                \n",
    "        Parameters\n",
    "        __________\n",
    "        axis : the dimension axis index; 0 means axis 0 , 1 means axis 1\n",
    "        Z   : function values matrix\n",
    "\n",
    "        \"\"\"\n",
    "        xys,ndim=self.seeds,self.ndim\n",
    "        \n",
    "        triml1=tuple((slice(None) if i!=axis else slice(1,None) for i in range(ndim)))\n",
    "        triml2=tuple((slice(None) if i!=axis else slice(2,None) for i in range(ndim)))\n",
    "        trimr1=tuple((slice(None) if i!=axis else slice(0,-1) for i in range(ndim)))\n",
    "        trimr2=tuple((slice(None) if i!=axis else slice(0,-2) for i in range(ndim)))\n",
    "        trimlr1=tuple((slice(None) if i!=axis else slice(1,-1) for i in range(ndim)))\n",
    "        extd=tuple((None if i!=axis else slice(None) for i in range(ndim)))\n",
    "        \n",
    "        gc2=GhostCell(stencil=2)\n",
    "        dxy1=gc2.zeroOrderExtrapolation(axis,np.diff(xys[axis])[extd])\n",
    "        D0=gc2.zeroOrderExtrapolation(axis,Z)#gc2.periodic(axis,Z)\n",
    "        D1=np.diff(D0,axis=axis)/dxy1\n",
    "        D2=(D1[triml1]-D1[trimr1])/(dxy1[triml1]+dxy1[trimr1]) # N+2\n",
    "        \n",
    "        D1,dxy1=D1[trimlr1],dxy1[trimlr1] # N+1\n",
    "        D2abs=np.abs(D2) \n",
    "        \n",
    "        # when using second order Newton polynomial interpolation\n",
    "        #  φ− can be defined from two cases : (i-2,i-1,i) or (i-1,i,i+1)\n",
    "        #  φ+ can be defined from two cases : (i-1,i,i+1) or (i,i+1,i+2)\n",
    "        #  According to Ref.1, Choose the one with smaller absolute value which can avoid interpolating near large variations such as discontinuities or steep gradients\n",
    "        Dlft=D1[trimr1]+dxy1[trimr1]*np.where(D2abs[trimr2]<D2abs[trimlr1],D2[trimr2],D2[trimlr1])\n",
    "        Drht=D1[triml1]-dxy1[triml1]*np.where(D2abs[trimlr1]<D2abs[triml2],D2[trimlr1],D2[triml2])\n",
    "        return Dlft,Drht\n",
    "    \n",
    "    def upwindENO3(self,axis,Z):\n",
    "        raise NotImplementedError('Uowind ENO 3 not implemented error!')\n",
    "    \n",
    "    def finite_difference(self,axis,Z,index):\n",
    "        \"\"\"\n",
    "        return the first order and second order finite difference of the index of `Z` in the direction of `axis`\n",
    "        \"\"\"\n",
    "        pass\n",
    "    \n",
    "    def gradient(self,X,index):\n",
    "        seeds=self.seeds\n",
    "        g=np.zeros((self.ndim,))\n",
    "        for axis in range(self.ndim):\n",
    "            seed=seeds[axis]\n",
    "            ind=index[axis]\n",
    "            f0=X[index]\n",
    "            if ind==0:\n",
    "                dx2=seed[ind+1]-seed[ind]\n",
    "                fr=X[tuple(index[i]+1*(i==axis) for i in range(self.ndim))]\n",
    "                d=(fr-f0)/dx2\n",
    "            elif ind==self.shape[axis]-1:\n",
    "                dx1=seed[ind]-seed[ind-1]\n",
    "                fl=X[tuple(index[i]-1*(i==axis) for i in range(self.ndim))]\n",
    "                d=(f0-fl)/dx1\n",
    "            else:\n",
    "                dx1=seed[ind]-seed[ind-1]\n",
    "                fl=X[tuple(index[i]-1*(i==axis) for i in range(self.ndim))]\n",
    "                dx2=seed[ind+1]-seed[ind]\n",
    "                fr=X[tuple(index[i]+1*(i==axis) for i in range(self.ndim))]\n",
    "                d=-(dx2)/(dx1*(dx1 + dx2))*fl+(dx2 - dx1)/(dx1 * dx2)*f0+dx1 / (dx2 * (dx1 + dx2))*fr\n",
    "            g[axis]=d\n",
    "        return g\n",
    "    \n",
    "    def upwindCoffs(self,ptindex,axis,dirct,order=2):\n",
    "        \"\"\"\n",
    "        返回\n",
    "        \"\"\"\n",
    "        i=ptindex[axis]+dirct*(order+1)\n",
    "        slc=slice(ptindex[axis],i if i>-1 else None,dirct)\n",
    "        xs=self.seeds[axis][slc]\n",
    "        if order==1:\n",
    "            x0,x1=xs\n",
    "            dx1=x1-x0\n",
    "            return  [-1/dx1,1/dx1]\n",
    "        elif order==2:\n",
    "            x0,x1,x2=xs\n",
    "            dx1=x1-x0\n",
    "            dx2=x2-x0\n",
    "            return [-1/dx1-1/dx2,1/dx1+1/(dx2-dx1),1/dx2-1/(dx2-dx1)]\n",
    "        else:\n",
    "            raise ValueError('order = %d not support'%order)\n",
    "    \n",
    "    def upwindValues(self,ptindex,axis,dirct,X,order=2):\n",
    "        i=ptindex[axis]+dirct*(order+1)\n",
    "        slc=slice(ptindex[axis],i if i>-1 else None,dirct)\n",
    "        slc1=tuple(slc if i==axis else ptindex[i] for i in range(self.ndim))\n",
    "        return X[slc1]\n",
    "\n",
    "    def isSignChange(self,vindex,X):\n",
    "        \"\"\"\n",
    "        whether if there is sign change in the voxcel\n",
    "        \"\"\"\n",
    "        #考虑浮点数误差\n",
    "        vals=X[tuple(slice(ind,ind+2) for ind in vindex)].flatten()\n",
    "        return np.all(np.isfinite(vals)) and np.abs(np.mean(np.where(np.abs(vals)>1e-13,\n",
    "                                       np.sign(vals),0)))!=1\n",
    "    def isPoint(self,ptindex):\n",
    "        \"\"\"\n",
    "        返回节点是否是内部节点\n",
    "        \"\"\"\n",
    "        return all(0<=ind<l for l,ind in zip(self.shape,ptindex))\n",
    "\n",
    "    def coord(self,ptindex):\n",
    "        return [seed[ind] for seed,ind in zip(self.seeds,ptindex)]\n",
    "\n",
    "    def neighbours(self,index,order=1):\n",
    "        \"\"\"\n",
    "        返回邻接节点的索引列表\n",
    "        \"\"\"\n",
    "        ndim=self.ndim\n",
    "        return [tuple((index[k]+j*l*(k==i) for k in range(ndim))) \n",
    "                        for i in range(ndim) \n",
    "                        for j in (-1,1) \n",
    "                        for l in range(1,order+1)\n",
    "                        if 0<=index[i]+j*l<self.shape[i]]\n",
    "\n",
    "    def adjacent(self,ptindex,axis,N=1):\n",
    "        \"\"\"\n",
    "        返回 沿axis方向左右两侧与节点index相邻的N个节点的列表的列表\n",
    "        \n",
    "        \"\"\"\n",
    "        ndim=self.ndim\n",
    "        \n",
    "        pts=[[tuple([ptindex[k]-i*(k==axis) for k in range(ndim)]) for i in range(1,N+1)],\n",
    "             [tuple([ptindex[k]+i*(k==axis) for k in range(ndim)]) for i in range(1,N+1)]]\n",
    "        return pts\n",
    "\n",
    "    def locate(self,xs):\n",
    "        \"\"\"\n",
    "        返回xs 所在voxel 的 vindex\n",
    "        注意 如果xs 不在grid的范围内，则返回最靠近其的边界voxel\n",
    "        \"\"\"\n",
    "        vindex=[0 ]*self.ndim\n",
    "\n",
    "        for axis in range(self.ndim):\n",
    "            seed=self.seeds[axis]\n",
    "            x=xs[axis]\n",
    "            if x<seed[0]-EPS or x>seed[-1]+EPS:\n",
    "                #raise ValueError(\"%s out of grid\"%(repr(xs)))\n",
    "                pass\n",
    "            \n",
    "            for i in range(0,len(seed)-1):\n",
    "                if x<seed[i+1]+EPS:\n",
    "                    break\n",
    "            vindex[axis]=i\n",
    "        return tuple(vindex)\n",
    "\n",
    "    def delta(self,index,axis):\n",
    "        \"\"\"\n",
    "        计算节点index 沿着axis方向的长度\n",
    "        \"\"\"\n",
    "        seed=self.seeds[axis]\n",
    "        ind=index[axis] #min(max(index[axis],0),self.grid.X.shape[axis]-2)\n",
    "        if (ind>=0) and (ind<=len(seed)-2):\n",
    "            return seed[ind+1]-seed[axis][ind]\n",
    "        else:\n",
    "            return (seed[-1]-seed[0])*1E4\n",
    "\n",
    "    def voxelBound(self,vindex):\n",
    "        return [(seed[ind],seed[ind+1]) for seed,ind in zip(self.seeds,vindex)]\n",
    "    \n",
    "    def voxelValues(self,vindex,X):\n",
    "        \"\"\"\n",
    "        return multi dimension array of values \n",
    "        \"\"\"\n",
    "        return X[tuple(slice(ind,ind+2) for ind in vindex)]\n",
    "\n",
    "    def voxelPoints(self,vindex):\n",
    "        \"\"\"\n",
    "        return a list of index of the grid points of voxel `vindex`\n",
    "        \"\"\"\n",
    "        ndim=self.ndim\n",
    "        return [tuple(vindex[i]+pt[i] for i in range(ndim)) \n",
    "                    for pt in VoxelPointOrder[ndim]]\n",
    "    \n",
    "class GhostCell:\n",
    "    \"\"\"\n",
    "    Chapter 7 Boundary Conditions and Ghost Cells from \n",
    "        LeVeque R J. Finite volume methods for hyperbolic problems[M]. Cambridge university press, 2002.\n",
    "        \n",
    "        https://github.com/clawpack/classic/blob/master/src/1d/bc1.f\n",
    "    >>> X=np.np.linspace(0,23,24).reshape((2,3,4))\n",
    "    >>> GhostCell(2).zeroOrderExtrapolation(1,X)\n",
    "    \"\"\"\n",
    "    def __init__(self,stencil=1,scale=1.0):\n",
    "        self.stencil=stencil\n",
    "        self.scale=scale\n",
    "        \n",
    "    def periodic(self,axis,X):\n",
    "        stencil=self.stencil\n",
    "        slc1=tuple(slice(None) if i!=axis else slice(-stencil,None) for i in range(X.ndim))\n",
    "        slc2=tuple(slice(None) if i!=axis else slice(stencil) for i in range(X.ndim))\n",
    "        return np.concatenate((X[slc1]*self.scale,X,X[slc2]*self.scale),axis=axis)\n",
    "    \n",
    "    def zeroOrderExtrapolation(self,axis,X):\n",
    "        stencil=self.stencil\n",
    "        slc1=tuple(slice(None) if i!=axis else slice(0,1) for i in range(X.ndim))\n",
    "        slc2=tuple(slice(None) if i!=axis else slice(-1,None) for i in range(X.ndim))\n",
    "        \n",
    "        X0=np.repeat(X[slc1],stencil,axis=axis)*self.scale\n",
    "        X1=np.repeat(X[slc2],stencil,axis=axis)*self.scale\n",
    "        \n",
    "        #print(X0.shape,X1.shape,X.shape)\n",
    "        return np.concatenate((X0,X,X1),axis=axis)    "
   ]
  },
  {
   "cell_type": "markdown",
   "metadata": {},
   "source": [
    "### cubic.py"
   ]
  },
  {
   "cell_type": "code",
   "execution_count": 6,
   "metadata": {},
   "outputs": [],
   "source": [
    "p=lambda x,k: 0 if k<0 else x**k\n",
    "\n",
    "X1=np.zeros((4,4))\n",
    "for k,(x,) in enumerate(VoxelPointOrder[1]):\n",
    "    X1[k,:]=np.array([p(x,i) for i in range(4)])\n",
    "    X1[k+2,:]=np.array([i*p(x,i-1) for i in range(4)])\n",
    "W1=np.linalg.inv(X1)\n",
    "\n",
    "X2=np.zeros((16,16))\n",
    "for k,(x,y) in enumerate(VoxelPointOrder[2]):\n",
    "    X2[k,:]=np.array([p(x,i)*p(y,j) for i,j in product(range(4),range(4))])\n",
    "    X2[k+4,:]=np.array([i*p(x,i-1)*p(y,j) for i,j in product(range(4),range(4))])\n",
    "    X2[k+8,:]=np.array([j*p(x,i)*p(y,j-1) for i,j in product(range(4),range(4))])\n",
    "    X2[k+12,:]=np.array([i*j*p(x,i-1)*p(y,j-1) for i,j in product(range(4),range(4))])\n",
    "W2=np.linalg.inv(X2) \n",
    "\n",
    "X3=np.zeros((64,64))\n",
    "for n,(x,y,z) in enumerate(VoxelPointOrder[3]):\n",
    "    X3[n,:]   =np.array([p(x,i)*p(y,j)*p(z,k) for i,j,k in product(range(4),range(4),range(4))])\n",
    "    X3[n+8,:] =np.array([i*p(x,i-1)*p(y,j)*p(z,k) for i,j,k in product(range(4),range(4),range(4))])\n",
    "    X3[n+16,:]=np.array([j*p(x,i)*p(y,j-1)*p(z,k) for i,j,k in product(range(4),range(4),range(4))])\n",
    "    X3[n+24,:]=np.array([k*p(x,i)*p(y,j)*p(z,k-1) for i,j,k in product(range(4),range(4),range(4))])\n",
    "    X3[n+32,:]=np.array([k*j*p(x,i)*p(y,j-1)*p(z,k-1) for i,j,k in product(range(4),range(4),range(4))])    \n",
    "    X3[n+40,:]=np.array([i*k*p(x,i-1)*p(y,j)*p(z,k-1) for i,j,k in product(range(4),range(4),range(4))])\n",
    "    X3[n+48,:]=np.array([i*j*p(x,i-1)*p(y,j-1)*p(z,k) for i,j,k in product(range(4),range(4),range(4))])\n",
    "    X3[n+56,:]=np.array([i*j*k*p(x,i-1)*p(y,j-1)*p(z,k-1) for i,j,k in product(range(4),range(4),range(4))])\n",
    "W3=np.linalg.inv(X3)\n",
    "\n",
    "## used in Fortran So flatten as 'F'\n",
    "np.savetxt('W1_4x4.txt',W1.flatten('F').astype(np.int),fmt='%d', delimiter=',',newline='\\n')\n",
    "np.savetxt('W2_16x16.txt',W2.flatten('F').astype(np.int),fmt='%d', delimiter=',',newline='\\n')\n",
    "np.savetxt('W3_64x64.txt',W3.flatten('F').astype(np.int),fmt='%d', delimiter=',',newline='\\n')\n",
    "#W1.flatten(order='F'),W2.flatten(order='F'),W3.flatten(order='F')\n",
    "\n",
    "def cucof(ys,y1s,ds,W=None):\n",
    "    \"\"\"\n",
    "    ys,y1s : the value of f,f_x in grid points (0,0),(0,1),(1,0),(1,1)\n",
    "    d1 : the length of the 1th and 2th dimension\n",
    "    \"\"\"\n",
    "    d1=ds[0]\n",
    "    x=np.concatenate([ys,y1s*d1])\n",
    "    c=np.dot(W,x).reshape((4,),order='C')\n",
    "    return c\n",
    "cucof=partial(cucof,W=W1)\n",
    "def cuint(c,seeds,xs):\n",
    "    x=xs[0]\n",
    "    d1=seeds[0][1]-seeds[0][0]\n",
    "    t=(x-seeds[0][0])/d1\n",
    "    y=((c[3]*t+c[2])*t+c[1])*t+c[0]\n",
    "    y1=(3*c[3]*t+2*c[2])*t+c[1]\n",
    "    return y,(y1/d1,)\n",
    "\n",
    "# Press W H, Teukolsky S A, Flannery B P, et al. Numerical recipes in Fortran 77: volume 1, volume 1 of Fortran numerical recipes: the art of scientific computing[M]. Cambridge university press, 1992.\n",
    "def bcucof(ys,y1s,y2s,y12s,ds,W=None):\n",
    "    \"\"\"\n",
    "    ys,y1s,y2s,y12s : the value of f,f_x,f_y,f_xy in grid points (0,0),(0,1),(1,0),(1,1)\n",
    "    d1,d2 : the length of the 1th and 2th dimension\n",
    "    \"\"\"\n",
    "    d1,d2=ds\n",
    "    x=np.concatenate([ys,y1s*d1,y2s*d2,y12s*(d1*d2)])\n",
    "    c=np.dot(W,x).reshape((4,4),order='C')\n",
    "    return c\n",
    "bcucof=partial(bcucof,W=W2)\n",
    "\n",
    "def bcuint(c,seeds,xs):\n",
    "    d1,d2=[seed[1]-seed[0] for seed in seeds]\n",
    "    t,u=[(xs[i]-seeds[i][0])/(seeds[i][1]-seeds[i][0]) for i in range(2)]\n",
    "\n",
    "    y,y1,y2=0.,0.,0.\n",
    "    for i in range(3,-1,-1):\n",
    "        y=t*y+((c[i,3]*u+c[i,2])*u+c[i,1])*u+c[i,0]\n",
    "        y1=u*y1+(3*c[3,i]*t+2*c[2,i])*t+c[1,i]\n",
    "        y2=t*y2+(3*c[i,3]*u+2*c[i,2])*u+c[i,1]\n",
    "    return y,(y1/d1,y2/d2)\n",
    "\n",
    "def tricucof(ys,y1s,y2s,y3s,y23s,y13s,y12s,y123s,ds,W=None):\n",
    "    d1,d2,d3=ds\n",
    "    x=np.concatenate([ys,y1s*d1,y2s*d2,y3s*d3,\n",
    "                      y23s*(d2*d3),y13s*(d1*d3),y12s*(d1*d2),\n",
    "                      y123s*(d1*d2*d3)])\n",
    "    c=np.dot(W,x).reshape((4,4,4),order='C')\n",
    "    return c\n",
    "tricucof=partial(tricucof,W=W3)\n",
    "\n",
    "def tricuint(c,seeds,xs):\n",
    "    \"\"\"\n",
    "    seeds: tuple of lower bound and upper bound of axis\n",
    "        ((x1l,x1u),(x2l,x2u),(x3l,x3u))\n",
    "    \"\"\"\n",
    "    d1,d2,d3=[seeds[i][1]-seeds[i][0] for i in range(3)]\n",
    "    r,s,t=[(xs[i]-seeds[i][0])/(seeds[i][1]-seeds[i][0]) for i in range(3)]\n",
    "    #print(c)\n",
    "    \n",
    "    y,y1,y2,y3=0.,0.,0.,0.\n",
    "    for i in range(3,-1,-1):\n",
    "        inc,inc1,inc2,inc3=0.,0.,0.,0.\n",
    "        for j in range(3,-1,-1):\n",
    "            inc=t*inc+((c[i,3,j]*s+c[i,2,j])*s+c[i,1,j])*s+c[i,0,j]\n",
    "            inc1=s*inc1+(3*c[3,j,i]*r+2*c[2,j,i])*r+c[1,j,i]\n",
    "            inc2=t*inc2+(3*c[i,3,j]*s+2*c[i,2,j])*s+c[i,1,j]\n",
    "            inc3=r*inc3+(3*c[j,i,3]*t+2*c[j,i,2])*t+c[j,i,1]\n",
    "        y=r*y+inc\n",
    "        y1=t*y1+inc1\n",
    "        y2=r*y2+inc2\n",
    "        y3=s*y3+inc3\n",
    "    return y,(y1/d1,y2/d2,y3/d3)\n",
    "\n",
    "class CubicInterpolate:\n",
    "    def __init__(self,grid,X):\n",
    "        self.grid=grid\n",
    "        self.X=X\n",
    "\n",
    "        self.coffs=dict()\n",
    "\n",
    "    def flatten(self,X):\n",
    "        \"\"\"\n",
    "        flatten a multi dimension array `X` in the order defined in `VoxelPointOder`\n",
    "        \"\"\"\n",
    "        return np.array([X[pt] for pt in VoxelPointOrder[self.grid.ndim]])\n",
    "\n",
    "    def cubicCoff(self,vindex):\n",
    "        \"\"\"\n",
    "        Using Bicubic or Tricubic Interpolation to Calculate \n",
    "        the distance of nodes in those elements which the zero level set crosses \n",
    "        \n",
    "        Reference\n",
    "        _______\n",
    "        \n",
    "        1. Chopp D L. Some improvements of the fast marching method[J]. SIAM Journal on Scientific Computing, 2001, 23(1): 230-244.\n",
    "            Section 3.2\n",
    "        2. Sukumar N, Chopp D L, Béchet E, et al. Three‐dimensional non‐planar crack growth by a coupled extended finite element and fast marching method[J]. International journal for numerical methods in engineering, 2008, 76(5): 727-748.\n",
    "            Section 3.1.1 \n",
    "        \"\"\" \n",
    "        grid=self.grid\n",
    "        ndim=grid.ndim\n",
    "        X=self.X\n",
    "        \n",
    "        if vindex in self.coffs:\n",
    "            return self.coffs[vindex]\n",
    "\n",
    "        oneOrder=lambda dx1,dx2: (-(dx2)/(dx1 * (dx1 + dx2)),(dx2 - dx1) / (dx1 * dx2),dx1 / (dx2 * (dx1 + dx2)))\n",
    "        if ndim==1:\n",
    "            # ys,y1s\n",
    "            vals=np.array([X[i] for i in \n",
    "                           (max(0,min(j,grid.shape[0]-1)) for j in range(vindex[0]-1,vindex[0]+3))])\n",
    "            ds=np.array([grid.seeds[0][j+1]-grid.seeds[0][j] for j in \n",
    "                         (max(0,min(i,grid.shape[0]-2)) for i in range(vindex[0]-1,vindex[0]+2))])\n",
    "            ys=vals[1:3]\n",
    "            y1s=np.zeros((2,))\n",
    "            for i in range(1,3):\n",
    "                a,b,c=oneOrder(ds[i-1],ds[i])\n",
    "                y1s[i-1]=a*vals[i-1]+b*vals[i]+c*vals[i+1]\n",
    "            \n",
    "            cof=cucof(ys,y1s,[grid.seeds[i][vindex[i]+1]-grid.seeds[i][vindex[i]] for i in range(ndim)])\n",
    "        elif ndim==2:\n",
    "            #ys,y1s,y2s,y12s\n",
    "            vals,ds=np.zeros((4,4)),np.zeros((2,3))\n",
    "            ys=np.zeros((2,2))\n",
    "            y1s,y2s=np.zeros((2,2)),np.zeros((2,2))\n",
    "            y12s=np.zeros((2,2))\n",
    "            \n",
    "            for i in range(4):\n",
    "                ind1=min(max(vindex[0]-1+i,0),grid.shape[0]-1)\n",
    "                for j in range(4):\n",
    "                    ind2=min(max(vindex[1]-1+j,0),grid.shape[1]-1)\n",
    "                    vals[i,j]=X[ind1,ind2]\n",
    "            for axis in range(2):\n",
    "                for j in range(3):\n",
    "                    ind=vindex[axis]-1+j\n",
    "                    if ind<0 or ind>grid.shape[axis]-2:\n",
    "                        ds[axis,j]=10000*(grid.seeds[axis][-1]-grid.seeds[axis][0])\n",
    "                    else:\n",
    "                        ds[axis,j]=grid.seeds[axis][ind+1]-grid.seeds[axis][ind]\n",
    "            for i in range(1,3):\n",
    "                dx1,dx0=ds[0,i],ds[0,i-1]\n",
    "                for j in range(1,3):\n",
    "                    dy1,dy0=ds[1,j],ds[1,j-1]\n",
    "                    ys[i-1,j-1]=vals[i,j]\n",
    "                    \n",
    "                    a,b,c=oneOrder(dx0,dx1)\n",
    "                    y1s[i-1,j-1]=a*vals[i-1,j]+b*vals[i,j]+c*vals[i+1,j]\n",
    "                    a,b,c=oneOrder(dy0,dy1)\n",
    "                    y2s[i-1,j-1]=a*vals[i,j-1]+b*vals[i,j]+c*vals[i,j+1]\n",
    "                    \n",
    "                    y12s[i-1,j-1]=(vals[i+1,j+1]-vals[i+1,j-1]-vals[i-1,j+1]+vals[i-1,j-1])/((dx0+dx1)*(dy1+dy0))\n",
    "                    \n",
    "            cof=bcucof(self.flatten(ys),self.flatten(y1s),self.flatten(y2s),self.flatten(y12s),\n",
    "                         [grid.seeds[i][vindex[i]+1]-grid.seeds[i][vindex[i]] for i in range(ndim)])\n",
    "        elif ndim==3:\n",
    "            #ys,y1s,y2s,y3s,y12ss,y13s,y23s,y123s\n",
    "            ys=np.zeros((2,2,2))\n",
    "            y1s,y2s,y3s=np.zeros((2,2,2)),np.zeros((2,2,2)),np.zeros((2,2,2))\n",
    "            y23s,y13s,y12s=np.zeros((2,2,2)),np.zeros((2,2,2)),np.zeros((2,2,2))\n",
    "            y123s=np.zeros((2,2,2))\n",
    "            \n",
    "            vals=np.zeros((4,4,4))\n",
    "            for idx in product(*[range(4) for i in range(ndim)]):\n",
    "                vals[idx]=X[tuple(min(max(vindex[i]-1+idx[i],0),grid.shape[i]-1) for i in range(ndim))]\n",
    "            \n",
    "            ax_dx=[[],]*ndim\n",
    "            for axis in range(ndim):\n",
    "                ind=vindex[axis]\n",
    "                for i in range(-1,2):\n",
    "                    ind1=ind+i\n",
    "                    if ind1<0 or ind1>grid.shape[axis]-2:\n",
    "                        lth=10000*(grid.seeds[axis][-1]-grid.seeds[axis][1])\n",
    "                    else:\n",
    "                        lth=grid.seeds[axis][ind1+1]-grid.seeds[axis][ind1]\n",
    "                    ax_dx[axis].append(lth)\n",
    "                ax_dx[axis]=np.array(ax_dx[axis])\n",
    "            \n",
    "            for idx in product(*[range(2) for i in range(ndim)]):\n",
    "                i,j,k=tuple(idx[l]+1 for l in range(ndim))\n",
    "                ys[idx]=vals[i,j,k]\n",
    "                ds=[(ax_dx[axis][idx[axis]],ax_dx[axis][idx[axis]+1]) for axis in range(ndim)]\n",
    "                \n",
    "                a,b,c=oneOrder(*ds[0])\n",
    "                y1s[idx]=a*vals[i-1,j,k]+b*vals[i,j,k]+c*vals[i+1,j,k]\n",
    "                a,b,c=oneOrder(*ds[1])\n",
    "                y2s[idx]=a*vals[i,j-1,k]+b*vals[i,j,k]+c*vals[i,j+1,k]\n",
    "                a,b,c=oneOrder(*ds[2])\n",
    "                y3s[idx]=a*vals[i,j,k-1]+b*vals[i,j,k]+c*vals[i,j,k+1]\n",
    "                \n",
    "                a=(ds[1][0]+ds[1][1])*(ds[2][0]+ds[2][1])\n",
    "                y23s[idx]=(vals[i,j+1,k+1]+vals[i,j-1,k-1]-vals[i,j+1,k-1]-vals[i,j-1,k+1])/a\n",
    "                a=(ds[0][0]+ds[0][1])*(ds[2][0]+ds[2][1])\n",
    "                y13s[idx]=(vals[i+1,j,k+1]+vals[i-1,j,k-1]-vals[i+1,j,k-1]-vals[i-1,j,k+1])/a\n",
    "                a=(ds[1][0]+ds[1][1])*(ds[0][0]+ds[0][1])\n",
    "                y12s[idx]=(vals[i+1,j+1,k]+vals[i-1,j-1,k]-vals[i-1,j+1,k]-vals[i+1,j-1,k])/a   \n",
    "                \n",
    "                a=(ds[0][0]+ds[0][1])*(ds[1][0]+ds[1][1])*(ds[2][0]+ds[2][1])\n",
    "                y123s[idx]=((vals[i+1,j+1,k+1]+vals[i-1,j-1,k+1]-vals[i-1,j+1,k+1]-vals[i+1,j-1,k+1])-\n",
    "                            (vals[i+1,j+1,k-1]+vals[i-1,j-1,k-1]-vals[i-1,j+1,k-1]-vals[i+1,j-1,k-1]))/a \n",
    "            cof=tricucof(self.flatten(ys),\n",
    "                    self.flatten(y1s),self.flatten(y2s),self.flatten(y3s),\n",
    "                    self.flatten(y23s),self.flatten(y13s),self.flatten(y12s),\n",
    "                    self.flatten(y123s),\n",
    "                    [grid.seeds[i][vindex[i]+1]-grid.seeds[i][vindex[i]] for i in range(ndim)])\n",
    "        else:\n",
    "            raise NotImplementedError('Cubic Interpolation for %d D Not Sumpport Now'%(ndim))\n",
    "        \n",
    "        self.coffs[vindex]=cof\n",
    "        return cof\n",
    "\n",
    "    def interpolate(self,xs):\n",
    "        \"\"\"\n",
    "        计算vindex中 xs对应的值和导数\n",
    "        \"\"\"\n",
    "        vindex=self.grid.locate(xs)\n",
    "\n",
    "        if vindex in self.coffs:\n",
    "            cof=self.coffs[vindex]\n",
    "        else:\n",
    "            cof=self.cubicCoff(vindex)\n",
    "        logger.debug('cubic: x=%s,vindex=%s,coff=%s'%(repr(xs),repr(vindex),repr(cof)))\n",
    "        ndim=self.grid.ndim\n",
    "        seeds=[(seed[ind],seed[ind+1]) for seed,ind in zip(self.grid.seeds,vindex)]\n",
    "        #seeds=[(self.seeds[i][vindex[i]],self.seeds[i][vindex[i]+1]) for i in range(ndim)]\n",
    "        if ndim==1:\n",
    "            return cuint(cof,seeds,xs)\n",
    "        elif ndim==2:\n",
    "            return bcuint(cof,seeds,xs)\n",
    "        elif ndim==3:\n",
    "            return tricuint(cof,seeds,xs)\n",
    "        else:\n",
    "            raise NotImplementedError('Cubic Interpolation for %d D Not Sumpport Now'%(ndim))"
   ]
  },
  {
   "cell_type": "code",
   "execution_count": null,
   "metadata": {},
   "outputs": [],
   "source": [
    "### 一维三次插值\n",
    "\n",
    "W1.flatten('F')\n",
    "\n",
    "f=smx**3\n",
    "#f1,f2,f3,f12,f13,f23,f123\n",
    "fs=f,f.diff(smx)\n",
    "seeds=((0.,1.),)\n",
    "\n",
    "vals=list(zip(*[[expr.evalf(subs={'x':x}) for expr in fs] for x in seeds[0]]))\n",
    "cof=cucof(*[np.array(val) for val in vals],(seeds[0][1]-seeds[0][0],))\n",
    "\n",
    "xs=np.linspace(0,1,11)\n",
    "[cuint(cof,seeds,(x,)) for x in xs]\n",
    "\n",
    "xs=np.linspace(0,1,11)\n",
    "plt.plot(xs,[cuint(cof,seeds,(x,))[0] for x in xs])\n",
    "plt.plot(xs,[fs[0].evalf(subs={'x':x}) for x in xs])\n",
    "plt.plot(xs,[fs[1].evalf(subs={'x':x}) for x in xs])\n",
    "\n",
    "### 二维三次插值\n",
    "\n",
    "np.set_printoptions(linewidth=np.nan)\n",
    "np.savetxt('W2_16x16.txt',W2.flatten('F').astype(np.int),fmt='%d', delimiter=',',newline='\\n')\n",
    "W2.flatten('F')\n",
    "\n",
    "f=(smx**3+smy**3)\n",
    "#f1,f2,f3,f12,f13,f23,f123\n",
    "fs=f,f.diff(smx),f.diff(smy),f.diff(smx,smy)\n",
    "seeds=((0.,1.),(0.,1.))\n",
    "\n",
    "vals=list(zip(*[[expr.evalf(subs={'x':x,'y':y}) for expr in fs] for x,y in product(*seeds)]))\n",
    "cof=bcucof(*[np.array(val) for val in vals],[seed[1]-seed[0] for seed in seeds])\n",
    "\n",
    "for coord in product(*[np.linspace(seed[0],seed[1],3) for seed in seeds]):\n",
    "    print(coord,end=':')\n",
    "    y,y1s=bcuint(cof,seeds,coord)\n",
    "    for x,y in zip([y,*y1s],\n",
    "                   [expr.evalf(subs={'x':coord[0],'y':coord[1]}) for expr in fs[:4]]):\n",
    "        print(x,y,(x-y)/y,end=';')\n",
    "    print('')    \n",
    "\n",
    "### 三维三次插值\n",
    "\n",
    "np.set_printoptions(linewidth=np.nan)\n",
    "np.savetxt('W3_64x64.txt',W3.flatten('F').astype(np.int),fmt='%d', delimiter=',',newline='\\n')\n",
    "W3.flatten('F')\n",
    "\n",
    "f=smx**5+smy**5+smz**5\n",
    "#f1,f2,f3,f12,f13,f23,f123\n",
    "fs=f,f.diff(smx),f.diff(smy),f.diff(smz),f.diff(smy,smz),f.diff(smx,smz),f.diff(smx,smy),f.diff(smx,smy,smz)\n",
    "\n",
    "seeds=((1.,2.),(1.,2.),(1.,2.))\n",
    "vals=list(zip(*[[expr.evalf(subs={'x':x,'y':y,'z':z}) for expr in fs] for x,y,z in product(*seeds)]))\n",
    "cof=tricucof(*[np.array(val) for val in vals],[seeds[i][1]-seeds[i][0] for i in range(3)])\n",
    "for coord in product(*[np.linspace(seeds[i][0],seeds[i][1],3) for i in range(3)]):\n",
    "    y,y1s=tricuint(cof,seeds,coord)\n",
    "    for x,y in zip([y,*y1s],\n",
    "                   [expr.evalf(subs={'x':coord[0],'y':coord[1],'z':coord[2]}) for expr in fs[1:4]]):\n",
    "        print('%.3f %.3f'%(y,(x-y)/y),end=';')\n",
    "    print('')"
   ]
  },
  {
   "cell_type": "markdown",
   "metadata": {},
   "source": [
    "### FastMarching.py"
   ]
  },
  {
   "cell_type": "code",
   "execution_count": 79,
   "metadata": {},
   "outputs": [],
   "source": [
    "class FastMarching:\n",
    "    \"\"\"\n",
    "    1. Bærentzen J A. On the implementation of fast marching methods for 3D lattices[J]. 2001.\n",
    "    2. Sukumar N, Chopp D L, Moran B. Extended finite element method and fast marching method for three-dimensional fatigue crack propagation[J]. Engineering Fracture Mechanics, 2003, 70(1): 29-48.\n",
    "    3. Sethian J A. Fast marching methods[J]. SIAM review, 1999, 41(2): 199-235.    \n",
    "    4. Sukumar N, Chopp D L, Bechet E, et al. Three‐dimensional non‐planar crack growth by a coupled extended finite element and fast marching method[J]. International Journal for Numerical Methods in Engineering, 2008, 76(5): 727-748.\n",
    "    5. Chopp D L. Some improvements of the fast marching method[J]. SIAM Journal on Scientific Computing, 2001, 23(1): 230-244.\n",
    "        Give the detail for 2D case\n",
    "    6. Shi J, Chopp D, Lua J, et al. Abaqus implementation of extended finite element method using a level set representation for three-dimensional fatigue crack growth and life predictions[J]. Engineering Fracture Mechanics, 2010, 77(14): 2840-2863.\n",
    "        Give the detail for 3D case\n",
    "    7. Adalsteinsson D , Sethian J A . The Fast Construction of Extension Velocities in Level Set Methods[J]. Journal of Computational Physics, 1999, 148(1):2-22.\n",
    "    \n",
    "    Fast Marching Method\n",
    "        Ref 1 give the detail about \n",
    "\n",
    "    Reinitialization\n",
    "\n",
    "    Velocity Extension\n",
    "        Ref.4 Section 3.1.2\n",
    "        Ref.5 Section 3.3\n",
    "     the front velocity data are provided as a list of sample coordinates, `xl` , \n",
    "     and the corresponding front velocity vector, `Fl`.\n",
    "     search for the two sample coordinates xl1 and xl2 closest to x,\n",
    "          F_{ijk} =(1−\\alpha)F_{l1} +\\alpha F_{l2 }\n",
    "    \n",
    "    \"\"\"\n",
    "    def __init__(self,grid,T0,status,V=None,Fext=[]):\n",
    "        \"\"\"\n",
    "        Parameters\n",
    "        _______\n",
    "        grid: GridHex\n",
    "            Structure Geometry Grid\n",
    "        T0  : \n",
    "            Accepted Nodes Values\n",
    "        status: \n",
    "            Node Status : 1 for all accepted nodes\n",
    "        V   : \n",
    "            velocity at nodes\n",
    "        Fext:\n",
    "            List of extended Field\n",
    "        \"\"\"\n",
    "        self.logger=logger\n",
    "        \n",
    "        self.grid=grid\n",
    "        self.T0=T0\n",
    "        self.T=np.where(status==1,T0,np.inf) \n",
    "        \n",
    "        # Velocity \n",
    "        self.V=V\n",
    "        # Extend Field\n",
    "        self.Fext=Fext\n",
    "\n",
    "        self.CNT=np.zeros_like(T0,dtype=np.int8)\n",
    "\n",
    "        # status of each grid points : \n",
    "        #   -1 for Distant : also know as Far, far from the initial interface to be possible candidates for \n",
    "        #   0 for Tentaive : also know as Narrow Band, all potential candidates to be the next mesh point to be added to the set A\n",
    "        #   1 for Accepted : also know as Frozen, All the mesh points are considered computed and are always closer to the initial interface than any of the remaining mesh points\n",
    "        self.Status=status\n",
    "        \n",
    "        # all potential candidates to be the next mesh point to be added to the set A\n",
    "        #  kept sorted in a heap sort\n",
    "        self.Tentative=[]\n",
    "        heapq.heapify(self.Tentative)\n",
    "        \n",
    "        for index in np.argwhere(status==1):\n",
    "            index=tuple(index)  \n",
    "            self.logger.info(\"Front Initialize: index=%s,coordinate=%s,t=%f,Fext=%s\"%(\n",
    "                repr(index),repr(grid.coord(index)),T0[index],\n",
    "                repr([Fext[i][index] for i in range(len(Fext))])))\n",
    "\n",
    "        self.initialize()\n",
    "            \n",
    "    def velocity(self,index):\n",
    "        if self.V is None:\n",
    "            raise NotImplementedError('No Velocity !')\n",
    "        else:\n",
    "            return self.V if np.isscalar(self.V) else self.V[index]\n",
    "\n",
    "    def initialize(self):\n",
    "        \"\"\"\n",
    "        Initialize points near the  accepted points\n",
    "        \"\"\"\n",
    "        hq=[]\n",
    "        heapq.heapify(hq)\n",
    "\n",
    "        for index in np.argwhere(self.Status==1):\n",
    "            index=tuple(index)\n",
    "            heapq.heappush(hq,(self.T[index],index))\n",
    "        \n",
    "        while(len(hq)>0):\n",
    "            _,index=heapq.heappop(hq)\n",
    "            self.updateNeibour(index)\n",
    "    \n",
    "    def loop(self,vstop=np.infty):\n",
    "        \"\"\"\n",
    "        loop update procedure caculate the arriave Time T\n",
    "        until reach `vstop`\n",
    "        \"\"\"\n",
    "        self.logger.info(\"Loop Start\")\n",
    "        while(len(self.Tentative)>0):\n",
    "            _,(v,Fext,index)=heapq.heappop(self.Tentative)\n",
    "            if self.Status[index]==0:\n",
    "                # 由于无法更新非Heap中元素的值，Tentative中存在过期的元素\n",
    "                if v>vstop:\n",
    "                    break\n",
    "                self.n2k(index,v,Fext)\n",
    "                self.updateNeibour(index)\n",
    "        self.logger.info(\"Loop End\")\n",
    "    \n",
    "    def updateNeibour(self,index):\n",
    "        \"\"\"\n",
    "        updat each  neighbour of `index`\n",
    "        \"\"\"\n",
    "        for neib in self.grid.neighbours(index,order=1):\n",
    "            status=self.Status[neib]\n",
    "            if status<1:\n",
    "                # Narrow band  or Far\n",
    "                t,Fext=self.compute(neib)\n",
    "                if not (t is None):\n",
    "                    self.f2n(neib,t,Fext)\n",
    "\n",
    "    def n2k(self,ptindex,v,Fext):\n",
    "        \"\"\"\n",
    "        move narrow band node to accepted\n",
    "        \"\"\"\n",
    "        self.T[ptindex]=v\n",
    "        for i in range(len(self.Fext)):\n",
    "            self.Fext[i][ptindex]=Fext[i]\n",
    "        self.Status[ptindex]=1\n",
    "        self.logger.info('n2k: index=%s,coords=%s,t=%f,Fext=%s'%(ptindex,self.grid.coord(ptindex),v,repr(Fext)))\n",
    "    \n",
    "    def f2n(self,ptindex,v,Fext):\n",
    "        \"\"\"\n",
    "        move far node to narrow band\n",
    "        \"\"\"\n",
    "        if np.isnan(v):\n",
    "            self.logger.warning('nan get in compute distance of index=%s'%(repr(ptindex)))\n",
    "        elif abs(v)<abs(self.T[ptindex]):\n",
    "            self.T[ptindex]=v\n",
    "            heapq.heappush(self.Tentative,(abs(v),(v,Fext,ptindex)))\n",
    "            self.Status[ptindex]=0\n",
    "            self.logger.info('f2n: index=%s,coords=%s,t=%f->%f,Fext=%s'%(repr(ptindex),self.grid.coord(ptindex),self.T[ptindex],v,repr(Fext)))\n",
    "\n",
    "    def compute(self,index):\n",
    "        \"\"\"\n",
    "        compute the arrive time of the point `index`\n",
    "        \n",
    "        Ref.1. Appendix A: Pseudo Code\n",
    "        Ref.2. Section 3: Fast Marching Method (7a),(7b)\n",
    "        Ref.3. Section 5:  Higher-Accuracy Fast Marching Methods\n",
    "        \"\"\"\n",
    "        grid=self.grid\n",
    "        ndim=grid.ndim\n",
    "        \n",
    "        if self.Status[index]==1:\n",
    "            return \n",
    "        \n",
    "        quadratic=[-1/self.velocity(index),0,0] # c,b,a for ax^2+bx+c=0\n",
    "        \n",
    "        # list of (+1 for right -1 for left, phi_1, delta_x)\n",
    "        dervCoffs,(tmin,tmax)=self.upwindCoff(index)\n",
    "        \n",
    "        nd=sum(abs(X[0]) for X in  dervCoffs)\n",
    "        if self.CNT[index]==nd:\n",
    "            return None,None\n",
    "        self.CNT[index]=nd\n",
    "\n",
    "        neibs=None\n",
    "        neibCoffs=None\n",
    "        for axis in range(ndim):\n",
    "            if dervCoffs[axis][0]!=0:\n",
    "                dirct,k,b,cfs=dervCoffs[axis]\n",
    "                quadratic[2]=quadratic[2]+k**2\n",
    "                quadratic[1]=quadratic[1]+2*k*b\n",
    "                quadratic[0]=quadratic[0]+b**2\n",
    "            else:\n",
    "                pass\n",
    "                \"\"\"\n",
    "                if neibs==None:\n",
    "                    neibs=[tuple((index[j]+dervCoffs[axis][0]*(j==axis) for j in range(ndim))) \n",
    "                                for axis in range(ndim) if dervCoffs[axis][0]!=0 ]\n",
    "                    neibCoffs= [self.upwindCoff(neib)[0] for neib in neibs if grid.isPoint(neib)]\n",
    "                \n",
    "                # !!!! very important !!! improve the accuracy\n",
    "                md=max((cof[axis][1]*self.T[neib]+cof[axis][2])**2 for neib,cof in zip(neibs,neibCoffs))\n",
    "                self.logger.info(\"difference in axis=%d using %f: neibs=%s;neib coffs=%s;\"%(axis,md,repr(neibs),repr(neibCoffs)))\n",
    "                quadratic[0]=quadratic[0]+md\n",
    "                \"\"\"\n",
    "\n",
    "        if quadratic[2]!=0:\n",
    "            c,b,a=quadratic\n",
    "            sgn=0 if abs((tmin+tmax)/2)<EPS else np.sign((tmin+tmax)/2)\n",
    "            if b**2-4*a*c<-EPS:\n",
    "                t= max((-b/k+sgn*abs(1/k) for (dirct,k,b,_) in dervCoffs if dirct!=0),key=lambda x:abs(x))\n",
    "            elif abs(b**2-4*a*c)<EPS:\n",
    "                t=-b/(2*a)\n",
    "            else:\n",
    "                q=0.5*(-b-(1 if b>=0 else -1)*np.sqrt(b**2-4*a*c))\n",
    "                t1,t2=max(q/a,c/q),min(q/a,c/q)\n",
    "                if t1*t2>0:\n",
    "                    # 同号选择绝对值大的那个作为解\n",
    "                    t=t1 if abs(t1)>abs(t2) else t2  \n",
    "                else:\n",
    "                    if abs(abs(t1)-abs(t2))<EPS:\n",
    "                        t=sgn*abs(t1)\n",
    "                    elif np.sign(t1)==sgn:\n",
    "                        t=t1\n",
    "                    elif np.sign(t2)==sgn:\n",
    "                        t=t2\n",
    "                    else:\n",
    "                        self.logger.error(\"index=%s,a=%f,b=%f,c=%f,tmin=%f,tmax=%f,t1=%f,t2=%f\"%(repr(index),a,b,c,tmin,tmax,t1,t2))\n",
    "                        raise ValueError('compute invalid point index=%s'%repr(index))\n",
    "            \n",
    "            self.logger.debug(\"index=%s,t=%f,derivate=%s,a=%f,b=%f,c=%f,tmin=%f,tmax=%f\"%(repr(index),t,repr(dervCoffs),\n",
    "                                a,b,c,tmin,tmax))\n",
    "            \n",
    "            # extend the velocity in the front\n",
    "            Fext=[0.,]*len(self.Fext)\n",
    "            for i in range(len(self.Fext)):\n",
    "                k,b=0.,0.\n",
    "                for axis in range(ndim):\n",
    "                    dirct,kj,bj,cfs=dervCoffs[axis]\n",
    "                    derv=kj*t+bj\n",
    "                    if dirct!=0:\n",
    "                        k=k+derv*cfs[0]\n",
    "                        b=b+derv*np.dot(cfs[1:],\n",
    "                            grid.upwindValues(index,axis,dirct,self.Fext[i],order=len(cfs)-1)[1:])\n",
    "\n",
    "                self.logger.debug(\"index=%s,k=%f,b=%f,Fext=%f\"%(repr(index),k,b,-b/k))\n",
    "                if abs(b/k)<1e6:\n",
    "                    Fext[i]=-b/k\n",
    "            return t,Fext\n",
    "        else:\n",
    "            self.logger.warn(\"index=%s,equation=%s,quadratic=%s\"%(repr(index),repr(dervCoffs),repr(quadratic)))\n",
    "            return None,None\n",
    "            #raise ValueError('compute invalid point index=%s'%repr(index))\n",
    "    \n",
    "    def upwindCoff(self,index):\n",
    "        \"\"\"\n",
    "        计算当前节点index 不同方向偏导的差分格式中的系数\n",
    "        \"\"\"\n",
    "        grid=self.grid\n",
    "        ndim=grid.ndim\n",
    "        coffes=[]\n",
    "\n",
    "        order=APPR_ORDER\n",
    "\n",
    "        amin,amax=np.infty,-np.infty\n",
    "        for axis in range(ndim):\n",
    "            dirct,k,b,cfs=0,0,0,[]\n",
    "            for j in (-1,1):\n",
    "                neib=tuple((index[k]+j*(k==axis) for k in range(ndim)))\n",
    "                neib2=tuple((index[k]+2*j*(k==axis) for k in range(ndim)))\n",
    "                val=[]\n",
    "                if (0<=neib[axis]<grid.shape[axis]) and self.Status[neib]==1:\n",
    "                    val.append(self.T[neib])\n",
    "                    if order>=2:\n",
    "                        if (0<=neib2[axis]<grid.shape[axis]) and self.Status[neib2]==1:\n",
    "                            val.append(self.T[neib2])\n",
    "                    cfs=grid.upwindCoffs(index,axis,j,order=len(val))\n",
    "                    amin=min(amin,min(val))\n",
    "                    amax=max(amax,max(val))\n",
    "                    kj,bj=cfs[0],np.dot(cfs[1:],val)\n",
    "                    #kj,bj=-j*kj,-j*bj # gudonov scheme max(f^-,-f^+,0)\n",
    "                    if (dirct==0) or abs(bj/kj)>abs(b/k):\n",
    "                        # 等长\n",
    "                        dirct,k,b=j,kj,bj\n",
    "            coffes.append([dirct,k,b,cfs])\n",
    "        return coffes,(amin,amax)\n",
    "        \n",
    "class ReinitializeFMM(FastMarching):\n",
    "    \"\"\"\n",
    "    1. Chopp D L. Some improvements of the fast marching method[J]. SIAM Journal on Scientific Computing, 2001, 23(1): 230-244.\n",
    "        Give the detail for 2D case\n",
    "    2. Shi J, Chopp D, Lua J, et al. Abaqus implementation of extended finite element method using a level set representation for three-dimensional fatigue crack growth and life predictions[J]. Engineering Fracture Mechanics, 2010, 77(14): 2840-2863.\n",
    "        Give the detail for 3D case\n",
    "    3. Sukumar N, Chopp D L, Béchet E, et al. Three‐dimensional non‐planar crack growth by a coupled extended finite element and fast marching method[J]. International journal for numerical methods in engineering, 2008, 76(5): 727-748.\n",
    "    4. Adalsteinsson D , Sethian J A . The Fast Construction of Extension Velocities in Level Set Methods[J]. Journal of Computational Physics, 1999, 148(1):2-22.\n",
    "    \n",
    "    Reinitialization \n",
    "        \n",
    "    Tip Velocity Extension\n",
    "        Ref.1 Section 3.3\n",
    "        Ref.3 Section 3.1.2\n",
    "        Ref.4 \n",
    "     the front velocity data are provided as a list of sample coordinates, Xl , and the corresponding front velocity vector, Fl.\n",
    "      search for the two sample coordinates xl1 and xl2 closest to x,\n",
    "          F_{ijk} =(1−\\alpha)F_{l1} +\\alpha F_{l2 }    \n",
    "    \"\"\"\n",
    "    def __init__(self,grid,X,extend=None):\n",
    "        if extend is None:\n",
    "            xl,Fl=[],[]\n",
    "        else:\n",
    "            xl,Fl=extend['xl'],extend['Fl']\n",
    "        self.logger=logger\n",
    "        status,X,Fext=self.frontInitialize(grid,X,xl,Fl)\n",
    "\n",
    "        super().__init__(grid,X,status,V=1.0,Fext=Fext)\n",
    "        \n",
    "    def frontInitialize(self,grid,T0,xl=[],Fl=[]):\n",
    "        \"\"\"\n",
    "        reconstruct process provides local tricubic approximation \n",
    "        of the initial conditions on grid points near the crack front\n",
    "        \"\"\"\n",
    "        self.logger.info(\"Front Initialize Start\")\n",
    "        ndim=grid.ndim\n",
    "        \n",
    "        status=np.full(T0.shape,-1)\n",
    "        T=np.full(grid.shape,np.inf)\n",
    "\n",
    "        extend=len(Fl)>0\n",
    "        Fext=[np.full(grid.shape,np.inf) for _ in range(len(Fl))]\n",
    "        \n",
    "        cub_T0=CubicInterpolate(grid,T0)\n",
    "\n",
    "        for vindex in product(*(range(grid.shape[i]-1) for i in range(ndim))):\n",
    "            vals=grid.voxelValues(vindex,T0)\n",
    "            if not np.all(np.isfinite(vals)):\n",
    "                continue\n",
    "            if isSignChange(vals):\n",
    "                # sign changed\n",
    "                self.logger.debug(\"voxel %s : val=%s \"%(repr(vindex),repr(vals)))\n",
    "                for point in grid.voxelPoints(vindex):\n",
    "                    x=grid.coord(point)\n",
    "                    d=self.cubicDistance(cub_T0,x)\n",
    "                    if not np.isfinite(d):\n",
    "                        self.logger.warning(\"voxel %s cubic distance is wrong!\"%(repr(vindex)))\n",
    "                        break\n",
    "                    \n",
    "                    T[point]=np.sign(T0[point])*min(d,np.abs(T[point]))\n",
    "                    if extend:\n",
    "                        # Ref.4 Eq.20\n",
    "                        i1,i2,alpha=closestTwo(xl,x)\n",
    "                        for i in range(len(Fext)):\n",
    "                            Fext[i][point]=(1-alpha)*Fl[i][i1]+alpha*Fl[i][i2]\n",
    "                    status[point]=1\n",
    "        self.logger.info(\"Front initialize End!\")\n",
    "        return status,T,Fext\n",
    "\n",
    "    def cubicDistance(self,cub_T0:CubicInterpolate,xs):\n",
    "        \"\"\"\n",
    "        Ref.1 Section 3.2\n",
    "        \"\"\"\n",
    "        grid=cub_T0.grid\n",
    "        ndim=grid.ndim\n",
    "\n",
    "        vindex=grid.locate(xs)\n",
    "        bnds=grid.voxelBound(vindex)\n",
    "        vol=np.prod([bnd[1]-bnd[0] for bnd in bnds])\n",
    "\n",
    "        x0,x=np.array(xs),np.array(xs)\n",
    "        cnt=0\n",
    "        \"\"\"\n",
    "        # using `Conjugate Gradient Method` to solve minimum distance\n",
    "        def func(x):\n",
    "            xs=np.array(x[:-1])\n",
    "            a=x[-1]\n",
    "            p=cub_T0.interpolate(xs)[0]\n",
    "            return np.dot(x0-xs,x0-xs)+a**2*p**2\n",
    "        def jac(x):\n",
    "            xs=np.array(x[:-1])\n",
    "            a=x[-1]\n",
    "            dr=2*(xs-x0)\n",
    "            p,dp=cub_T0.interpolate(xs)\n",
    "            return np.concatenate([dr+(2*a**2*p)*np.asarray(dp),[2*a*p**2]])\n",
    "        \n",
    "        res=optimize.minimize(fun=func,jac=jac,method=\"CG\",\n",
    "            x0=np.concatenate([x0,[0]]))\n",
    "        print(x0,res)\n",
    "        return np.sqrt(res.fun)\n",
    "        \"\"\"\n",
    "\n",
    "        while True:\n",
    "            f,derv=cub_T0.interpolate(x)\n",
    "            derv=np.array(derv)\n",
    "            sqr=np.linalg.norm(derv)**2\n",
    "            dlt1=-f/sqr*derv\n",
    "            dlt2=0.0 #(x0-x)-np.dot(x0-x,derv)/sqr*derv\n",
    "            dx=dlt1+dlt2\n",
    "            x=x+dx\n",
    "            cnt=cnt+1\n",
    "            if(np.linalg.norm(dx)<(1e-3*vol)):\n",
    "                return np.linalg.norm(x-x0)\n",
    "            if cnt>ITMAX:\n",
    "                self.logger.warning('cubic distance loop %d times %s -> %s'%(ITMAX,x0,x))\n",
    "                return np.linalg.norm(x-x0)\n",
    "        \n",
    "class ReorthFMM(FastMarching):\n",
    "    \"\"\"\n",
    "    can be used to \n",
    "     1. extended velocity `F` on the grid points near the crack front into the rest of the domain\n",
    "        in such a way that F is constant in the direction normal to the interface\n",
    "     2. \n",
    "    \"\"\"\n",
    "    def __init__(self,grid,phi,F0,status):\n",
    "        super().__init__(grid,F0)\n",
    "        \n",
    "        \n",
    "    def compute(self,ptindex):\n",
    "        pass\n",
    "    \n",
    "class CrackEvolution(FastMarching):\n",
    "    \"\"\"\n",
    "    \n",
    "    \"\"\"\n",
    "    def __init__(self,grid,phi0,psi0):\n",
    "        self.Phi=np.zeros_like(grid.X)\n",
    "        self.Psi=np.zeros_like(grid.X)\n",
    "        \n",
    "        # Evaluate the front speed F at n discrete points on the front.  \n",
    "        # determine the speed on grid point near front according to \n",
    "    def initialize(self):\n",
    "        \"\"\"\n",
    "        1.  Initialize all the points adjacent to the initial interface with an initial value, put those points in A. \n",
    "        2.  All points X i,j,k not ∈ A,but are adjacent to a point in A are given initial estimates for X i,j,k by solving Equation (3) \n",
    "            for the given configuration of neighboring points in A. These points are tentative points and put in the set T.\n",
    "        3, All remaining points are placed in D and given initial value of ? i,j,k =+∞.\n",
    "        \"\"\"\n",
    "    def estimate(self):\n",
    "        \"\"\"\n",
    "         estimate of phi for points in T\n",
    "        \"\"\"\n",
    "\n",
    "class ExtendingVelocity(FastMarching):\n",
    "    \"\"\"\n",
    "    1. Chopp D L. Some improvements of the fast marching method[J]. SIAM Journal on Scientific Computing, 2001, 23(1): 230-244.\n",
    "        Give the detail for 2D case\n",
    "    2. Shi J, Chopp D, Lua J, et al. Abaqus implementation of extended finite element method using a level set representation for three-dimensional fatigue crack growth and life predictions[J]. Engineering Fracture Mechanics, 2010, 77(14): 2840-2863.\n",
    "        Give the detail for 3D case\n",
    "    3. Sukumar N, Chopp D L, Béchet E, et al. Three‐dimensional non‐planar crack growth by a coupled extended finite element and fast marching method[J]. International journal for numerical methods in engineering, 2008, 76(5): 727-748.    \n",
    "    4. Adalsteinsson D , Sethian J A . The Fast Construction of Extension Velocities in Level Set Methods[J]. Journal of Computational Physics, 1999, 148(1):2-22.\n",
    "    \n",
    "    Ref.1 Section 3.3\n",
    "    Ref.3 Section 3.1.2\n",
    "    \n",
    "    xl\n",
    "    $$\n",
    "    \\nabla \\phi \\dot \\nabla F=0\n",
    "    $$\n",
    "\n",
    "    initial \n",
    "     the front velocity data are provided as a list of sample coordinates, Xl , and the corresponding front velocity vector, Fl.\n",
    "      search for the two sample coordinates xl1 and xl2 closest to x,\n",
    "          F_{ijk} =(1−\\alpha)F_{l1} +\\alpha F_{l2 }\n",
    "    \n",
    "    solving\n",
    "\n",
    "    \"\"\"\n",
    "    def __init__(self,grid,phi,xl,Fl):\n",
    "        self.grid=grid\n",
    "        self.phi=phi\n",
    "\n",
    "        self.xl=xl\n",
    "        self.Fl=Fl\n",
    "        self.Fext=[np.zeros(self.grid.shape) for _  in range(len(Fl))]\n",
    "\n",
    "    def frontInitialize(self,T0):\n",
    "        xl,Fl=self.xl,self.Fl\n",
    "        grid=self.grid\n",
    "\n",
    "        ndim=grid.ndim\n",
    "        \n",
    "        status=np.full(T0.shape,-1)\n",
    "        T=np.full(grid.shape,np.inf)\n",
    "\n",
    "        extend=len(Fl)>0\n",
    "        Fext=[np.full(grid.shape,np.inf) for _ in range(len(Fl))]\n",
    "\n",
    "        for vindex in product(*(range(grid.shape[i]-1) for i in range(ndim))):\n",
    "            vals=grid.voxelValues(vindex,T0)\n",
    "            if not np.all(np.isfinite(vals)):\n",
    "                continue\n",
    "            if isSignChange(vals):\n",
    "                # sign changed\n",
    "                for point in grid.voxelPoints(vindex):\n",
    "                    # Ref.4 Eq.20\n",
    "                    x=grid.coord(point)\n",
    "                    i1,i2,alpha=closestTwo(xl,x)\n",
    "                    x1,x2=xl[i1],xl[i2]\n",
    "                    for i in range(len(Fext)):\n",
    "                        Fext[i][point]=(1-alpha)*Fl[i][i1]+alpha*Fl[i][i2]\n",
    "                    status[point]=1\n",
    "                    self.logger.debug(\"point=%s,x=%s,x1=%s,x2=%s,alpha=%f\"%(repr(point),repr(x),repr(x1),repr(x2),alpha))\n",
    "\n",
    "    def upwind(self):\n",
    "        pass\n",
    "    \n",
    "    def loop(self,vstop=np.infty):\n",
    "        pass"
   ]
  },
  {
   "cell_type": "markdown",
   "metadata": {},
   "source": [
    "### 1D FMM"
   ]
  },
  {
   "cell_type": "code",
   "execution_count": 7,
   "metadata": {},
   "outputs": [],
   "source": [
    "logger.handlers[0].setLevel(logging.DEBUG)"
   ]
  },
  {
   "cell_type": "code",
   "execution_count": null,
   "metadata": {},
   "outputs": [],
   "source": []
  },
  {
   "cell_type": "code",
   "execution_count": 8,
   "metadata": {},
   "outputs": [
    {
     "name": "stderr",
     "output_type": "stream",
     "text": [
      "C:\\Programs\\Anaconda3\\lib\\site-packages\\ipykernel_launcher.py:24: RuntimeWarning: invalid value encountered in double_scalars\n"
     ]
    }
   ],
   "source": [
    "grid1D=GridHex(np.linspace(-1,1,21))\n",
    "y=(grid1D.X+0.3)*(grid1D.X-0.7)\n",
    "reinit1D=ReinitializeFMM(grid1D,y,extend={\"xl\":[(-0.5,),(-0.5,)],\"Fl\":[[-1,-1],]})"
   ]
  },
  {
   "cell_type": "code",
   "execution_count": 9,
   "metadata": {
    "scrolled": true
   },
   "outputs": [
    {
     "data": {
      "image/png": "[encoded data removed]",
      "text/plain": [
       "<Figure size 432x288 with 1 Axes>"
      ]
     },
     "metadata": {
      "needs_background": "light"
     },
     "output_type": "display_data"
    }
   ],
   "source": [
    "grid1D.plot(y)"
   ]
  },
  {
   "cell_type": "code",
   "execution_count": 10,
   "metadata": {},
   "outputs": [
    {
     "data": {
      "text/plain": [
       "array([            inf,             inf,             inf,             inf,\n",
       "                   inf,             inf,  9.99999953e-02, -5.55111512e-17,\n",
       "       -1.00000000e-01,             inf,             inf,             inf,\n",
       "                   inf,             inf,             inf,             inf,\n",
       "       -1.00000000e-01,  2.22044605e-16,  9.99999953e-02,             inf,\n",
       "                   inf])"
      ]
     },
     "execution_count": 10,
     "metadata": {},
     "output_type": "execute_result"
    }
   ],
   "source": [
    "reinit1D.T0"
   ]
  },
  {
   "cell_type": "code",
   "execution_count": 11,
   "metadata": {
    "scrolled": false
   },
   "outputs": [
    {
     "data": {
      "text/plain": [
       "(-1.1, 1.1, -1.0550000000000006, -0.945)"
      ]
     },
     "execution_count": 11,
     "metadata": {},
     "output_type": "execute_result"
    },
    {
     "data": {
      "image/png": "[encoded data removed]",
      "text/plain": [
       "<Figure size 1008x1008 with 4 Axes>"
      ]
     },
     "metadata": {
      "needs_background": "light"
     },
     "output_type": "display_data"
    }
   ],
   "source": [
    "plt.figure(figsize=(14,14))\n",
    "plt.subplot(2,2,1)\n",
    "grid1D.plot(reinit1D.T)\n",
    "plt.xlabel('x',fontsize=16)\n",
    "plt.ylabel('$\\phi$',fontsize=16)\n",
    "plt.title('Initial $\\phi$',fontsize=16)\n",
    "plt.axis('equal')\n",
    "plt.subplot(2,2,2)\n",
    "grid1D.plot(reinit1D.Fext[0])\n",
    "plt.title('Initial $F$',fontsize=16)\n",
    "plt.axis('equal')\n",
    "\n",
    "reinit1D.loop(vstop=2.0)\n",
    "\n",
    "plt.subplot(2,2,3)\n",
    "grid1D.plot(reinit1D.T)\n",
    "plt.xlabel('x',fontsize=16)\n",
    "plt.ylabel('$\\phi$',fontsize=16)\n",
    "plt.title('End',fontsize=16)\n",
    "plt.axis('equal')\n",
    "plt.subplot(2,2,4)\n",
    "grid1D.plot(reinit1D.Fext[0])\n",
    "plt.title('$F$',fontsize=16)\n",
    "plt.axis('equal')"
   ]
  },
  {
   "cell_type": "markdown",
   "metadata": {},
   "source": [
    "## 2D 点"
   ]
  },
  {
   "cell_type": "code",
   "execution_count": 12,
   "metadata": {},
   "outputs": [
    {
     "name": "stderr",
     "output_type": "stream",
     "text": [
      "C:\\Programs\\Anaconda3\\lib\\site-packages\\ipykernel_launcher.py:24: RuntimeWarning: invalid value encountered in double_scalars\n"
     ]
    }
   ],
   "source": [
    "grid2D=GridHex(np.linspace(-1,1,101),np.linspace(-1,1,101))\n",
    "phi=grid2D.X**2+grid2D.Y**2\n",
    "xl=[(0,0),(0,0)]\n",
    "Fl=[[0,0],[1,1]]\n",
    "reinit2D=ReinitializeFMM(grid2D,phi,extend={\"xl\":xl,\"Fl\":Fl})"
   ]
  },
  {
   "cell_type": "markdown",
   "metadata": {},
   "source": [
    "### 2D 圆裂纹"
   ]
  },
  {
   "cell_type": "code",
   "execution_count": 38,
   "metadata": {},
   "outputs": [],
   "source": [
    "ch.setLevel(logging.WARN)"
   ]
  },
  {
   "cell_type": "code",
   "execution_count": 13,
   "metadata": {},
   "outputs": [
    {
     "name": "stderr",
     "output_type": "stream",
     "text": [
      "C:\\Programs\\Anaconda3\\lib\\site-packages\\ipykernel_launcher.py:24: RuntimeWarning: invalid value encountered in double_scalars\n"
     ]
    }
   ],
   "source": [
    "grid2D=GridHex(np.linspace(-1,1,51),np.linspace(-1,1,51))\n",
    "phi=grid2D.X**2+grid2D.Y**2-0.25\n",
    "xl=[(0.5*np.cos(theta),0.5*np.sin(theta)) for theta in np.linspace(0,2*np.pi,101)]\n",
    "Fl=[[x for x,y in xl],[y for x,y in xl]]\n",
    "reinit2D=ReinitializeFMM(grid2D,phi,extend={\"xl\":xl,\"Fl\":Fl})\n",
    "#reinit2D.Fext=[reinit2D.grid.X.copy(),reinit2D.grid.Y.copy()]"
   ]
  },
  {
   "cell_type": "code",
   "execution_count": 14,
   "metadata": {
    "scrolled": false
   },
   "outputs": [
    {
     "data": {
      "text/plain": [
       "(-1.0, 1.0, -1.0, 1.0)"
      ]
     },
     "execution_count": 14,
     "metadata": {},
     "output_type": "execute_result"
    },
    {
     "data": {
      "image/png": "[encoded data removed]",
      "text/plain": [
       "<Figure size 1080x864 with 8 Axes>"
      ]
     },
     "metadata": {
      "needs_background": "light"
     },
     "output_type": "display_data"
    }
   ],
   "source": [
    "plt.figure(figsize=(15,12))\n",
    "plt.suptitle('Initial',fontsize=16)\n",
    "plt.subplot(2,2,1)\n",
    "grid2D.plot(reinit2D.T0)\n",
    "plt.title('T0',fontsize=16)\n",
    "plt.axis('equal')\n",
    "plt.subplot(2,2,2)\n",
    "grid2D.plot(reinit2D.T)\n",
    "plt.title('T',fontsize=16)\n",
    "plt.axis('equal')\n",
    "plt.subplot(2,2,3)\n",
    "grid2D.plot(reinit2D.Fext[0])\n",
    "plt.title('Fext[0]',fontsize=16)\n",
    "plt.axis('equal')\n",
    "plt.subplot(2,2,4)\n",
    "grid2D.plot(reinit2D.Fext[1])\n",
    "plt.title('Fext[1]',fontsize=16)\n",
    "plt.axis('equal')"
   ]
  },
  {
   "cell_type": "code",
   "execution_count": 15,
   "metadata": {},
   "outputs": [
    {
     "name": "stdout",
     "output_type": "stream",
     "text": [
      "Wall time: 1.83 s\n"
     ]
    }
   ],
   "source": [
    "%time reinit2D.loop(vstop=1.0)"
   ]
  },
  {
   "cell_type": "code",
   "execution_count": 16,
   "metadata": {},
   "outputs": [
    {
     "data": {
      "image/png": "[encoded data removed]",
      "text/plain": [
       "<Figure size 432x288 with 2 Axes>"
      ]
     },
     "metadata": {
      "needs_background": "light"
     },
     "output_type": "display_data"
    }
   ],
   "source": [
    "exact=np.sqrt(phi+0.25)-0.5\n",
    "grid2D.plot(np.abs(reinit2D.T-exact))"
   ]
  },
  {
   "cell_type": "code",
   "execution_count": 17,
   "metadata": {
    "scrolled": false
   },
   "outputs": [
    {
     "data": {
      "text/plain": [
       "(-1.0, 1.0, -1.0, 1.0)"
      ]
     },
     "execution_count": 17,
     "metadata": {},
     "output_type": "execute_result"
    },
    {
     "data": {
      "image/png": "[encoded data removed]",
      "text/plain": [
       "<Figure size 1080x864 with 8 Axes>"
      ]
     },
     "metadata": {
      "needs_background": "light"
     },
     "output_type": "display_data"
    }
   ],
   "source": [
    "plt.figure(figsize=(15,12))\n",
    "plt.suptitle('End',fontsize=16)\n",
    "plt.subplot(2,2,1)\n",
    "grid2D.plot(reinit2D.T0)\n",
    "plt.title('T0',fontsize=16)\n",
    "plt.axis('equal')\n",
    "plt.subplot(2,2,2)\n",
    "grid2D.plot(reinit2D.T)\n",
    "plt.title('T',fontsize=16)\n",
    "plt.axis('equal')\n",
    "plt.subplot(2,2,3)\n",
    "grid2D.plot(reinit2D.Fext[0])\n",
    "plt.title('Fext[0]',fontsize=16)\n",
    "plt.axis('equal')\n",
    "plt.subplot(2,2,4)\n",
    "grid2D.plot(reinit2D.Fext[1])\n",
    "plt.title('Fext[1]',fontsize=16)\n",
    "plt.axis('equal')"
   ]
  },
  {
   "cell_type": "code",
   "execution_count": 18,
   "metadata": {},
   "outputs": [
    {
     "data": {
      "text/plain": [
       "0.9132667160155256"
      ]
     },
     "execution_count": 18,
     "metadata": {},
     "output_type": "execute_result"
    },
    {
     "data": {
      "image/png": "[encoded data removed]",
      "text/plain": [
       "<Figure size 864x432 with 4 Axes>"
      ]
     },
     "metadata": {
      "needs_background": "light"
     },
     "output_type": "display_data"
    }
   ],
   "source": [
    "#reinit2D.loop(vstop=0.2)\n",
    "plt.figure(figsize=(12,6))\n",
    "\n",
    "plt.suptitle('Error',fontsize=16)\n",
    "Z=reinit2D.T\n",
    "Z0=np.sqrt(reinit2D.grid.X**2+reinit2D.grid.Y**2)-np.sqrt(0.25)\n",
    "plt.subplot(1,2,1)\n",
    "grid2D.plot(np.where(reinit2D.Status>=0,Z-Z0,np.inf),title='Absolute Error of Fast Marching Method')\n",
    "plt.axis('equal')\n",
    "plt.subplot(1,2,2)\n",
    "grid2D.plot(np.where(reinit2D.Status>=0,np.abs((Z-Z0)/Z0),np.inf),title='Relative Error of Fast Marching Method')\n",
    "plt.axis('equal')\n",
    "np.amax(Z[reinit2D.Status==1])"
   ]
  },
  {
   "cell_type": "markdown",
   "metadata": {},
   "source": [
    "### 3D FMM"
   ]
  },
  {
   "cell_type": "code",
   "execution_count": null,
   "metadata": {},
   "outputs": [],
   "source": [
    "grid3D=GridHex(np.linspace(-1,1,21),np.linspace(-1,1,21),np.linspace(-1,1,21))\n",
    "phi=grid3D.X**2+grid3D.Y**2+grid3D.Z**2-3*0.5**2\n",
    "reinit3D=ReinitializeFMM(grid3D,phi)"
   ]
  },
  {
   "cell_type": "markdown",
   "metadata": {},
   "source": [
    "### 裂纹扩展"
   ]
  },
  {
   "cell_type": "code",
   "execution_count": null,
   "metadata": {},
   "outputs": [],
   "source": [
    "logger.handlers[0].setLevel(logging.WARN)"
   ]
  },
  {
   "cell_type": "code",
   "execution_count": null,
   "metadata": {},
   "outputs": [],
   "source": [
    "Nx,Ny=101,101\n",
    "grid=GridHex(np.linspace(-1,1,Nx),np.linspace(-1,1,Ny))\n",
    "index=(0,0)\n",
    "X=np.full_like(grid.X,np.inf)\n",
    "status=np.full((Nx,Ny),-1,dtype=np.int8)\n",
    "\n",
    "theta=np.pi/4\n",
    "cet=np.array([(seed[ind]+seed[ind+1])/2 for seed,ind in zip(grid.seeds,index)])\n",
    "for i,j in product(*[range(4) for _ in range(2)]):\n",
    "    ind1,ind2=index[0]+i,index[1]+j\n",
    "    status[ind1,ind2]=1\n",
    "    crd=np.array([seed[ind] for seed,ind in zip(grid.seeds,(ind1,ind2))])\n",
    "    X[ind1,ind2]=np.dot(crd-cet,np.array([np.cos(theta),np.sin(theta)]))\n",
    "\n",
    "fmm=ReinitializeFMM(grid,X)"
   ]
  },
  {
   "cell_type": "code",
   "execution_count": 100,
   "metadata": {},
   "outputs": [],
   "source": [
    "fmm.loop(vstop=1.0)"
   ]
  },
  {
   "cell_type": "code",
   "execution_count": 101,
   "metadata": {
    "scrolled": true
   },
   "outputs": [
    {
     "data": {
      "text/plain": [
       "(-1.0, 1.0, -1.0, 1.0)"
      ]
     },
     "execution_count": 101,
     "metadata": {},
     "output_type": "execute_result"
    },
    {
     "data": {
      "image/png": "[encoded data removed]",
      "text/plain": [
       "<Figure size 432x288 with 2 Axes>"
      ]
     },
     "metadata": {
      "needs_background": "light"
     },
     "output_type": "display_data"
    }
   ],
   "source": [
    "#plt.figure(figsize=(5,5))\n",
    "grid.plot(fmm.T)\n",
    "plt.axis('equal')"
   ]
  },
  {
   "cell_type": "code",
   "execution_count": 242,
   "metadata": {
    "scrolled": true
   },
   "outputs": [
    {
     "data": {
      "text/plain": [
       "array([[-0.01414214,  0.        ,  0.01407126,  0.02814217],\n",
       "       [ 0.        ,  0.01414213,  0.02828427,  0.04235518],\n",
       "       [ 0.01407126,  0.02828427,  0.04242641,  0.05653288],\n",
       "       [ 0.02814217,  0.04235518,  0.05653288,  0.07067502]])"
      ]
     },
     "execution_count": 242,
     "metadata": {},
     "output_type": "execute_result"
    }
   ],
   "source": [
    "fmm.T[:4,:4]"
   ]
  },
  {
   "cell_type": "code",
   "execution_count": 243,
   "metadata": {},
   "outputs": [
    {
     "data": {
      "text/plain": [
       "73"
      ]
     },
     "execution_count": 243,
     "metadata": {},
     "output_type": "execute_result"
    }
   ],
   "source": [
    "np.sum(fmm.Status==0)"
   ]
  },
  {
   "cell_type": "markdown",
   "metadata": {},
   "source": [
    "### 直裂纹"
   ]
  },
  {
   "cell_type": "code",
   "execution_count": 325,
   "metadata": {},
   "outputs": [],
   "source": [
    "logger.handlers[0].setLevel(logging.WARN)"
   ]
  },
  {
   "cell_type": "code",
   "execution_count": 19,
   "metadata": {},
   "outputs": [],
   "source": [
    "grid=GridHex(np.linspace(-1,1,11),np.linspace(-1,1,11))\n",
    "exact=grid.Y-0.3\n",
    "accept=np.logical_and(np.abs(exact)<=(2*2/(11-1)+1e-6),grid.X<0.3)\n",
    "fmm=FastMarching(grid,np.where(accept,exact,np.infty),status=accept,V=1.0)"
   ]
  },
  {
   "cell_type": "code",
   "execution_count": 20,
   "metadata": {},
   "outputs": [
    {
     "data": {
      "text/plain": [
       "(-1.0, 1.0, -1.0, 1.0)"
      ]
     },
     "execution_count": 20,
     "metadata": {},
     "output_type": "execute_result"
    },
    {
     "data": {
      "image/png": "[encoded data removed]",
      "text/plain": [
       "<Figure size 432x288 with 2 Axes>"
      ]
     },
     "metadata": {
      "needs_background": "light"
     },
     "output_type": "display_data"
    }
   ],
   "source": [
    "fmm.grid.plot(fmm.T)\n",
    "plt.axis('equal')"
   ]
  },
  {
   "cell_type": "code",
   "execution_count": 21,
   "metadata": {},
   "outputs": [],
   "source": [
    "fmm.loop(vstop=1.0)"
   ]
  },
  {
   "cell_type": "code",
   "execution_count": 22,
   "metadata": {},
   "outputs": [
    {
     "data": {
      "text/plain": [
       "(-1.0, 1.0, -1.0, 1.0)"
      ]
     },
     "execution_count": 22,
     "metadata": {},
     "output_type": "execute_result"
    },
    {
     "data": {
      "image/png": "[encoded data removed]",
      "text/plain": [
       "<Figure size 432x288 with 2 Axes>"
      ]
     },
     "metadata": {
      "needs_background": "light"
     },
     "output_type": "display_data"
    }
   ],
   "source": [
    "fmm.grid.plot(fmm.T)\n",
    "plt.axis('equal')"
   ]
  },
  {
   "cell_type": "markdown",
   "metadata": {},
   "source": [
    "### 圆裂纹"
   ]
  },
  {
   "cell_type": "code",
   "execution_count": 23,
   "metadata": {},
   "outputs": [],
   "source": [
    "grid=GridHex(np.linspace(-1,1,101),np.linspace(-1,1,101))\n",
    "exact=np.sqrt(grid.X**2+grid.Y**2)-0.5\n",
    "accept=exact<=0.15\n",
    "T=np.where(accept,exact,np.infty)\n",
    "status=np.where(accept,1,-1)\n",
    "fmm=FastMarching(grid,T,status=status,V=1.0)"
   ]
  },
  {
   "cell_type": "code",
   "execution_count": 24,
   "metadata": {},
   "outputs": [],
   "source": [
    "fmm.loop(vstop=0.3)"
   ]
  },
  {
   "cell_type": "code",
   "execution_count": 25,
   "metadata": {},
   "outputs": [
    {
     "data": {
      "text/plain": [
       "(-1.0, 1.0, -1.0, 1.0)"
      ]
     },
     "execution_count": 25,
     "metadata": {},
     "output_type": "execute_result"
    },
    {
     "data": {
      "image/png": "[encoded data removed]",
      "text/plain": [
       "<Figure size 432x288 with 2 Axes>"
      ]
     },
     "metadata": {
      "needs_background": "light"
     },
     "output_type": "display_data"
    }
   ],
   "source": [
    "fmm.grid.plot(fmm.T)\n",
    "plt.axis('equal')"
   ]
  },
  {
   "cell_type": "markdown",
   "metadata": {},
   "source": [
    "### 折线裂纹"
   ]
  },
  {
   "cell_type": "code",
   "execution_count": null,
   "metadata": {},
   "outputs": [],
   "source": [
    "logger.handlers[0].setLevel(logging.WARN)"
   ]
  },
  {
   "cell_type": "code",
   "execution_count": 27,
   "metadata": {},
   "outputs": [],
   "source": [
    "grid=GridHex(np.linspace(-1,1,101),np.linspace(-1,1,101))\n",
    "phi,psi=np.where(grid.X<=-0.1,(grid.X+grid.Y+0.1)/np.sqrt(2),grid.Y),grid.X\n",
    "accept=np.abs(phi)<0.2\n",
    "fmm=ReinitializeFMM(grid,phi)"
   ]
  },
  {
   "cell_type": "code",
   "execution_count": 28,
   "metadata": {},
   "outputs": [
    {
     "name": "stdout",
     "output_type": "stream",
     "text": [
      "Wall time: 4.56 s\n"
     ]
    }
   ],
   "source": [
    "%time fmm.loop(vstop=1.0)"
   ]
  },
  {
   "cell_type": "code",
   "execution_count": 29,
   "metadata": {},
   "outputs": [
    {
     "data": {
      "image/png": "[encoded data removed]",
      "text/plain": [
       "<Figure size 576x576 with 2 Axes>"
      ]
     },
     "metadata": {
      "needs_background": "light"
     },
     "output_type": "display_data"
    }
   ],
   "source": [
    "plt.figure(figsize=(8,8))\n",
    "grid.plot(fmm.T)"
   ]
  },
  {
   "cell_type": "markdown",
   "metadata": {},
   "source": [
    "### Crack3D_FMM.py"
   ]
  },
  {
   "cell_type": "code",
   "execution_count": 80,
   "metadata": {},
   "outputs": [],
   "source": [
    "def minmod(a,b):\n",
    "    return a if abs(a)<=abs(b) else b\n",
    "\n",
    "class Crack3D_FMM(FastMarching):\n",
    "    \"\"\"\n",
    "    1. Bærentzen J A. On the implementation of fast marching methods for 3D lattices[J]. 2001.\n",
    "    2. Sukumar N, Chopp D L, Moran B. Extended finite element method and fast marching method for three-dimensional fatigue crack propagation[J]. Engineering Fracture Mechanics, 2003, 70(1): 29-48.\n",
    "    3. Sethian J A. Fast marching methods[J]. SIAM review, 1999, 41(2): 199-235.    \n",
    "    4. Sukumar N, Chopp D L, Bechet E, et al. Three‐dimensional non‐planar crack growth by a coupled extended finite element and fast marching method[J]. International Journal for Numerical Methods in Engineering, 2008, 76(5): 727-748.\n",
    "    5. Chopp D L. Some improvements of the fast marching method[J]. SIAM Journal on Scientific Computing, 2001, 23(1): 230-244.\n",
    "        Give the detail for 2D case\n",
    "    6. Shi J, Chopp D, Lua J, et al. Abaqus implementation of extended finite element method using a level set representation for three-dimensional fatigue crack growth and life predictions[J]. Engineering Fracture Mechanics, 2010, 77(14): 2840-2863.\n",
    "        Give the detail for 3D case\n",
    "    7. Adalsteinsson D , Sethian J A . The Fast Construction of Extension Velocities in Level Set Methods[J]. Journal of Computational Physics, 1999, 148(1):2-22.\n",
    "    \"\"\"\n",
    "    def __init__(self,grid,phi0,psi0,extend=None):\n",
    "        self.logger=logger\n",
    "        \n",
    "        self.grid=grid\n",
    "        self.phi0=phi0\n",
    "        self.phi=phi0.copy()\n",
    "        self.psi0=psi0\n",
    "        self.psi=psi0.copy()\n",
    "\n",
    "        self.phi_psi_cof=[dict(),dict()]\n",
    "        \"\"\"\n",
    "        # used in Reintialization to \n",
    "        if extend is None:\n",
    "            xl,Fl=[],[]\n",
    "        else:\n",
    "            xl,Fl=extend['xl'],extend['Fl']\n",
    "\n",
    "        status,rho,Fext=self.frontInitialize(grid,phi0,psi0,xl,Fl)\n",
    "        super().__init__(grid,rho,status,V=1.0,Fext=Fext)\n",
    "        \"\"\"\n",
    "\n",
    "    def advanceFront(self,xl,Fl,vstop=None):\n",
    "        self.logger.info(\"Start Compute the distance to the crack front and  Extend the tip velocity\")\n",
    "        grid=self.grid\n",
    "        phi,psi=self.phi,self.psi\n",
    "        \n",
    "        status,rho,Fext=self.frontInitialize(grid,phi,psi,xl,Fl)\n",
    "        reinit=FastMarching(grid,rho,status,V=1.0,Fext=Fext)\n",
    "\n",
    "        if vstop is None:\n",
    "            vstop=8*max(np.max(seed[1:]-seed[:-1]) for seed in grid.seeds)\n",
    "        reinit.loop(vstop=vstop)\n",
    "        \n",
    "        self.logger.info(\"End! \")\n",
    "        \n",
    "        rho,Fext=reinit.T,reinit.Fext\n",
    "        phi_n,psi_n=self.phi,self.psi\n",
    "\n",
    "        grad_rho=np.gradient(rho,*grid.seeds)\n",
    "        grad_phi=np.gradient(phi_n,*grid.seeds)\n",
    "\n",
    "        norm_rho=np.sqrt(grad_rho[0]*grad_rho[0]+grad_rho[1]*grad_rho[1]+grad_rho[2]*grad_rho[2])\n",
    "        norm_F=np.sqrt(Fext[0]*Fext[0]+Fext[1]*Fext[1]+Fext[2]*Fext[2])\n",
    "\n",
    "        psi_n_=rho*(grad_rho[0]*Fext[0]+grad_rho[1]*Fext[1]+grad_rho[2]*Fext[2])/(norm_rho*norm_F)\n",
    "\n",
    "        phi_n1=phi_n.copy()\n",
    "        for ind in product(*[range(x) for x in rho.shape]):\n",
    "            p1,p2,p2_1,r=phi_n[ind],psi_n[ind],psi_n_[ind],rho[ind]\n",
    "            if p2_1<=0:\n",
    "                if p2>0:\n",
    "                    phi_n1[ind]=np.sign(p1)*r\n",
    "            else:\n",
    "                F=np.array([Fext[i][ind] for i in range(3)])\n",
    "                g_phi=np.array([grad_phi[i][ind] for i in range(3)])\n",
    "                g_rho=np.array([grad_rho[i][ind] for i in range(3)])\n",
    "\n",
    "                v=np.cross(np.cross(F,g_phi),F)        \n",
    "                x=np.dot(g_rho,v)*(r/(norm_rho[ind]*np.linalg.norm(v)))\n",
    "                \n",
    "                if p2<=0:\n",
    "                    phi_n1[ind]=minmod(p1,x)\n",
    "                else:\n",
    "                    phi_n1[ind]=x\n",
    "\n",
    "        dt=0.1\n",
    "        psi_n1=psi_n_-norm_F*dt\n",
    "        \n",
    "        \n",
    "        #reinit1=ReinitializeFMM(grid,psi_n1)\n",
    "        #reinit1.loop(vstop=vstop)\n",
    "        return rho,Fext,phi_n1,psi_n1\n",
    "        \n",
    "            \n",
    "    def frontInitialize(self,grid,phi,psi,xl,Fl):\n",
    "        \"\"\"\n",
    "        compute \n",
    "            1. the distance to the crack front using tricubic approximation \n",
    "            2. the velocity vector interpolate from the velocity vector `Fl` at crack front `xl`\n",
    "        for those grid points near the crack front (cut by crack front)\n",
    "\n",
    "        Tip Velocity Extension\n",
    "            Ref.1 Section 3.3\n",
    "            Ref.3 Section 3.1.2\n",
    "            Ref.4 \n",
    "        the front velocity data are provided as a list of sample coordinates, Xl , and the corresponding front velocity vector, Fl.\n",
    "          search for the two sample coordinates xl1 and xl2 closest to x,\n",
    "          F_{ijk} =(1−\\alpha)F_{l1} +\\alpha F_{l2 }            \n",
    "\n",
    "        \"\"\"\n",
    "        ndim=grid.ndim\n",
    "        \n",
    "        status=np.full(grid.shape,-1)\n",
    "        rho=np.full(grid.shape,np.inf)\n",
    "        Fext=[np.full(grid.shape,np.inf) for _ in range(len(Fl))]\n",
    "        \n",
    "        extend=(len(Fl)>0)\n",
    "        cub_phi=CubicInterpolate(grid,phi)\n",
    "        cub_psi=CubicInterpolate(grid,psi)\n",
    "\n",
    "        for vindex in product(*[range(grid.shape[i]-1) for i in range(ndim)]):\n",
    "            if grid.isSignChange(vindex,phi) and grid.isSignChange(vindex,psi):\n",
    "                for point in grid.voxelPoints(vindex):\n",
    "                    status[point]=1\n",
    "                    crd=grid.coord(point)\n",
    "                    d=self.cubicDistance(cub_phi,cub_psi,crd)\n",
    "                    rho[point]=min(d,rho[point])\n",
    "                    if extend:\n",
    "                        i1,i2,alpha=closestTwo(xl,crd)\n",
    "                        x1,x2=xl[i1],xl[i2]\n",
    "                        for i in range(len(Fext)):\n",
    "                            Fext[i][point]=(1-alpha)*Fl[i][i1]+alpha*Fl[i][i2]\n",
    "                        self.logger.debug(\"index=%s,crd=%s,x1=%s,x2=%s,alpha=%f\"%(repr(point),repr(crd),repr(x1),repr(x2),alpha))\n",
    "\n",
    "        return status,rho,Fext\n",
    "        \n",
    "\n",
    "    def cubicDistance(self,cub_phi,cub_psi,xs):\n",
    "        \"\"\"\n",
    "        Modified Newton Method for cubic interpolation \n",
    "        introduced in \n",
    "\n",
    "        \"\"\"\n",
    "        grid=self.grid\n",
    "        ndim=grid.ndim\n",
    "        vindex=grid.locate(xs)\n",
    "        bnds=grid.voxelBound(vindex)\n",
    "        vol=np.prod([bnd[1]-bnd[0] for bnd in bnds])\n",
    "        \n",
    "        x0,x=np.array(xs),np.array(xs)\n",
    "        cnt=0\n",
    "        while True:\n",
    "            p,derv_p=cub_phi.interpolate(x)\n",
    "            q,derv_q=cub_psi.interpolate(x)\n",
    "            derv_p=np.array(derv_p)\n",
    "            derv_q=np.array(derv_q)\n",
    "            \n",
    "            derv=p*derv_p+q*derv_q\n",
    "            sqr=np.dot(derv,derv)\n",
    "            \n",
    "            dlt1=-(p**2+q**2)/sqr*derv\n",
    "            dlt1[np.isnan(dlt1)]=0.\n",
    "            \n",
    "            derv=np.cross(derv_p,derv_q)\n",
    "            sqr=np.dot(derv,derv)\n",
    "            dlt2=0.0 #np.dot(x0-x,derv)/sqr*derv\n",
    "            #dlt2[np.isnan(dlt2)]=0.\n",
    "            \n",
    "            x=x+dlt1+dlt2\n",
    "            cnt=cnt+1\n",
    "            #self.logger.debug(\"x=%s;p=%f;q=%f;derv_p=%s;derv_q=%s;dlt1=%s;dlt2=%s\"%(repr(x),p,q,repr(derv_p),repr(derv_q),repr(dlt1),repr(dlt2)))\n",
    "            if(np.linalg.norm(dlt1+dlt2)<(1e-3*vol)):\n",
    "                return np.linalg.norm(x-x0)\n",
    "            if cnt>ITMAX:\n",
    "                self.logger.warning('cubic distance loop %d times %s -> %s'%(ITMAX,x0,x))\n",
    "                return np.linalg.norm(x-x0)\n",
    "        \n",
    "    @staticmethod\n",
    "    def smearedSign(Z,sgnfactor):\n",
    "        return Z/np.sqrt(Z**2+sgnfactor**2)\n",
    "\n",
    "    @staticmethod\n",
    "    def minabs(A,B):\n",
    "        \"\"\"\n",
    "        (2007)Antoine du Chéné, Chohong Min, Frédéric Gibou. Second-Order Accurate Computation of Curvatures in a Level Set Framework Using Novel High-Order Reinitialization Schemes(2007)Antoine du Chéné, Chohong Min, Frédéric Gibou. Second-Order Accurate Computation of Curvatures in a Level Set Framework Using Novel High-Order Reinitialization Schemes\n",
    "        >>> minabs(-1,-2),minabs(1,-2),minabs(-1,2),minabs(1,2)\n",
    "        \"\"\"\n",
    "        return np.where(abs(A)<abs(B),A,B)\n",
    "\n",
    "    @staticmethod\n",
    "    def minmod(A,B):\n",
    "        \"\"\"\n",
    "        (2007)Antoine du Chéné, Chohong Min, Frédéric Gibou. Second-Order Accurate Computation of Curvatures in a Level Set Framework Using Novel High-Order Reinitialization Schemes\n",
    "        >>> minmod(np.linspace(0,1,11),-0.5),minmod(np.linspace(0,1,11),0.5)\n",
    "        \"\"\"\n",
    "        mask1=(A*B)>0\n",
    "        mask2=abs(A)>abs(B)\n",
    "        return B*np.logical_and(mask1,mask2)+A*np.logical_and(mask1,np.logical_not(mask2))"
   ]
  },
  {
   "cell_type": "code",
   "execution_count": 53,
   "metadata": {},
   "outputs": [],
   "source": [
    "ch.setLevel(logging.WARN)"
   ]
  },
  {
   "cell_type": "code",
   "execution_count": 91,
   "metadata": {},
   "outputs": [],
   "source": [
    "grid=GridHex(np.linspace(-1,1,51),np.linspace(-1,1,51),np.linspace(-1,1,2))\n",
    "phi0=grid.Y-0.2\n",
    "psi0=grid.X-0.0\n",
    "\n",
    "crack=Crack3D_FMM(grid,phi0,psi0)"
   ]
  },
  {
   "cell_type": "code",
   "execution_count": 92,
   "metadata": {},
   "outputs": [
    {
     "name": "stderr",
     "output_type": "stream",
     "text": [
      "C:\\Programs\\Anaconda3\\lib\\site-packages\\ipykernel_launcher.py:156: RuntimeWarning: invalid value encountered in double_scalars\n",
      "C:\\Programs\\Anaconda3\\lib\\site-packages\\ipykernel_launcher.py:60: RuntimeWarning: invalid value encountered in add\n",
      "C:\\Programs\\Anaconda3\\lib\\site-packages\\ipykernel_launcher.py:60: RuntimeWarning: invalid value encountered in multiply\n",
      "C:\\Programs\\Anaconda3\\lib\\site-packages\\ipykernel_launcher.py:60: RuntimeWarning: invalid value encountered in true_divide\n"
     ]
    },
    {
     "name": "stdout",
     "output_type": "stream",
     "text": [
      "Wall time: 2.11 s\n"
     ]
    }
   ],
   "source": [
    "xl=[(0,0.2,x) for x in np.linspace(-1,1,21)]\n",
    "Fl=[[1.0 for x in xl],\n",
    "    [0.0 for x in xl],\n",
    "    [0.0 for x in xl]]\n",
    "\n",
    "%time rho,Fext,phi_n1,psi_n1=crack.advanceFront(xl,Fl,vstop=0.4)"
   ]
  },
  {
   "cell_type": "code",
   "execution_count": null,
   "metadata": {},
   "outputs": [],
   "source": []
  },
  {
   "cell_type": "code",
   "execution_count": 105,
   "metadata": {
    "scrolled": false
   },
   "outputs": [
    {
     "data": {
      "image/png": "[encoded data removed]",
      "text/plain": [
       "<Figure size 1296x1296 with 16 Axes>"
      ]
     },
     "metadata": {
      "needs_background": "light"
     },
     "output_type": "display_data"
    }
   ],
   "source": [
    "slc=(slice(None),slice(None),1)\n",
    "grad_rho=np.gradient(rho,*grid.seeds)\n",
    "Xs=[#rho,*grad_rho,\n",
    "    crack.phi,crack.psi,\n",
    "    phi_n1,psi_n1,\n",
    "    rho,*grad_rho\n",
    "   ]\n",
    "subsize=(int((len(Xs)+2)/3),3)\n",
    "plt.figure(figsize=tuple(6*x for x in subsize[-1::-1]))\n",
    "for i,X in enumerate(Xs):\n",
    "    plt.subplot(*subsize,i+1)\n",
    "    plt.contourf(grid.X[slc],grid.Y[slc],X[slc])\n",
    "    plt.axis('equal')\n",
    "    plt.colorbar()"
   ]
  },
  {
   "cell_type": "code",
   "execution_count": 114,
   "metadata": {},
   "outputs": [
    {
     "name": "stderr",
     "output_type": "stream",
     "text": [
      "C:\\Programs\\Anaconda3\\lib\\site-packages\\ipykernel_launcher.py:2: RuntimeWarning: invalid value encountered in true_divide\n",
      "  \n"
     ]
    },
    {
     "data": {
      "text/plain": [
       "array([[-3.8624e-03, -2.0295e-04,  1.5178e-03, -8.3267e-17,  1.5178e-03, -2.0295e-04, -3.8624e-03],\n",
       "       [-6.3569e-03, -1.6198e-03,  9.0032e-04, -2.7756e-17,  9.0032e-04, -1.6198e-03, -6.3569e-03],\n",
       "       [-9.6586e-03, -3.7084e-03, -1.5712e-04, -1.3878e-17, -1.5712e-04, -3.7084e-03, -9.6586e-03],\n",
       "       [-1.3521e-02, -6.4879e-03, -2.0439e-03,  0.0000e+00, -2.0439e-03, -6.4879e-03, -1.3521e-02],\n",
       "       [-1.4986e-02, -5.9356e-03,  0.0000e+00,  6.9389e-18,  0.0000e+00, -5.9356e-03, -1.4986e-02],\n",
       "       [ 0.0000e+00,  0.0000e+00,  0.0000e+00,  2.3110e-18,  0.0000e+00,  0.0000e+00,  0.0000e+00],\n",
       "       [ 1.4986e-02,  5.9356e-03, -1.3878e-17,  0.0000e+00,  0.0000e+00,  5.9356e-03,  1.4986e-02],\n",
       "       [ 1.3521e-02,  6.4879e-03,  2.0439e-03, -1.3878e-17,  2.0439e-03,  6.4879e-03,  1.3521e-02],\n",
       "       [ 9.6586e-03,  3.7084e-03,  1.5712e-04, -4.1633e-17,  1.5712e-04,  3.7084e-03,  9.6586e-03],\n",
       "       [ 6.3569e-03,  1.6198e-03, -9.0032e-04, -5.5511e-17, -9.0032e-04,  1.6198e-03,  6.3569e-03],\n",
       "       [ 3.8624e-03,  2.0295e-04, -1.5178e-03, -8.3267e-17, -1.5178e-03,  2.0295e-04,  3.8624e-03]])"
      ]
     },
     "execution_count": 114,
     "metadata": {},
     "output_type": "execute_result"
    },
    {
     "data": {
      "image/png": "[encoded data removed]",
      "text/plain": [
       "<Figure size 432x288 with 2 Axes>"
      ]
     },
     "metadata": {
      "needs_background": "light"
     },
     "output_type": "display_data"
    }
   ],
   "source": [
    "slc=(slice(20,31),slice(27,34),0)\n",
    "X=rho*grad_rho[0]/norm_rho-grid.X\n",
    "plt.contourf(grid.X[slc],grid.Y[slc],X[slc])\n",
    "plt.colorbar()\n",
    "X[slc]"
   ]
  },
  {
   "cell_type": "code",
   "execution_count": 94,
   "metadata": {},
   "outputs": [
    {
     "name": "stderr",
     "output_type": "stream",
     "text": [
      "C:\\Programs\\Anaconda3\\lib\\site-packages\\ipykernel_launcher.py:9: RuntimeWarning: invalid value encountered in add\n",
      "  if __name__ == '__main__':\n",
      "C:\\Programs\\Anaconda3\\lib\\site-packages\\ipykernel_launcher.py:9: RuntimeWarning: invalid value encountered in multiply\n",
      "  if __name__ == '__main__':\n",
      "C:\\Programs\\Anaconda3\\lib\\site-packages\\ipykernel_launcher.py:9: RuntimeWarning: invalid value encountered in true_divide\n",
      "  if __name__ == '__main__':\n"
     ]
    }
   ],
   "source": [
    "phi_n,psi_n=crack.phi,crack.psi\n",
    "\n",
    "grad_rho=np.gradient(rho,*grid.seeds)\n",
    "grad_phi=np.gradient(phi_n,*grid.seeds)\n",
    "\n",
    "norm_rho=np.sqrt(grad_rho[0]*grad_rho[0]+grad_rho[1]*grad_rho[1]+grad_rho[2]*grad_rho[2])\n",
    "norm_F=np.sqrt(Fext[0]*Fext[0]+Fext[1]*Fext[1]+Fext[2]*Fext[2])\n",
    "\n",
    "psi_n_=rho*(grad_rho[0]*Fext[0]+grad_rho[1]*Fext[1]+grad_rho[2]*Fext[2])/(norm_rho*norm_F)"
   ]
  },
  {
   "cell_type": "code",
   "execution_count": 95,
   "metadata": {},
   "outputs": [
    {
     "data": {
      "text/plain": [
       "(array([[2.4827e-01, 2.2636e-01, 2.0953e-01, 2.0000e-01, 2.0953e-01, 2.2636e-01, 2.4827e-01],\n",
       "        [2.1480e-01, 1.9007e-01, 1.7069e-01, 1.6000e-01, 1.7069e-01, 1.9007e-01, 2.1480e-01],\n",
       "        [1.8336e-01, 1.5508e-01, 1.3214e-01, 1.2000e-01, 1.3214e-01, 1.5508e-01, 1.8336e-01],\n",
       "        [1.5508e-01, 1.2231e-01, 9.4028e-02, 8.0000e-02, 9.4028e-02, 1.2231e-01, 1.5508e-01],\n",
       "        [1.3214e-01, 9.4028e-02, 5.6569e-02, 4.0000e-02, 5.6569e-02, 9.4028e-02, 1.3214e-01],\n",
       "        [1.2000e-01, 8.0000e-02, 4.0000e-02, 5.5511e-17, 4.0000e-02, 8.0000e-02, 1.2000e-01],\n",
       "        [1.3214e-01, 9.4028e-02, 5.6569e-02, 4.0000e-02, 5.6569e-02, 9.4028e-02, 1.3214e-01],\n",
       "        [1.5508e-01, 1.2231e-01, 9.4028e-02, 8.0000e-02, 9.4028e-02, 1.2231e-01, 1.5508e-01],\n",
       "        [1.8336e-01, 1.5508e-01, 1.3214e-01, 1.2000e-01, 1.3214e-01, 1.5508e-01, 1.8336e-01],\n",
       "        [2.1480e-01, 1.9007e-01, 1.7069e-01, 1.6000e-01, 1.7069e-01, 1.9007e-01, 2.1480e-01],\n",
       "        [2.4827e-01, 2.2636e-01, 2.0953e-01, 2.0000e-01, 2.0953e-01, 2.2636e-01, 2.4827e-01]]),\n",
       " array([[-0.2 , -0.2 , -0.2 , -0.2 , -0.2 , -0.2 , -0.2 ],\n",
       "        [-0.16, -0.16, -0.16, -0.16, -0.16, -0.16, -0.16],\n",
       "        [-0.12, -0.12, -0.12, -0.12, -0.12, -0.12, -0.12],\n",
       "        [-0.08, -0.08, -0.08, -0.08, -0.08, -0.08, -0.08],\n",
       "        [-0.04, -0.04, -0.04, -0.04, -0.04, -0.04, -0.04],\n",
       "        [ 0.  ,  0.  ,  0.  ,  0.  ,  0.  ,  0.  ,  0.  ],\n",
       "        [ 0.04,  0.04,  0.04,  0.04,  0.04,  0.04,  0.04],\n",
       "        [ 0.08,  0.08,  0.08,  0.08,  0.08,  0.08,  0.08],\n",
       "        [ 0.12,  0.12,  0.12,  0.12,  0.12,  0.12,  0.12],\n",
       "        [ 0.16,  0.16,  0.16,  0.16,  0.16,  0.16,  0.16],\n",
       "        [ 0.2 ,  0.2 ,  0.2 ,  0.2 ,  0.2 ,  0.2 ,  0.2 ]]),\n",
       " array([[-2.0386e-01, -2.0020e-01, -1.9848e-01, -2.0000e-01, -1.9848e-01, -2.0020e-01, -2.0386e-01],\n",
       "        [-1.6636e-01, -1.6162e-01, -1.5910e-01, -1.6000e-01, -1.5910e-01, -1.6162e-01, -1.6636e-01],\n",
       "        [-1.2966e-01, -1.2371e-01, -1.2016e-01, -1.2000e-01, -1.2016e-01, -1.2371e-01, -1.2966e-01],\n",
       "        [-9.3521e-02, -8.6488e-02, -8.2044e-02, -8.0000e-02, -8.2044e-02, -8.6488e-02, -9.3521e-02],\n",
       "        [-5.4986e-02, -4.5936e-02, -4.0000e-02, -4.0000e-02, -4.0000e-02, -4.5936e-02, -5.4986e-02],\n",
       "        [ 0.0000e+00,  0.0000e+00,  0.0000e+00,  2.3110e-18,  0.0000e+00,  0.0000e+00,  0.0000e+00],\n",
       "        [ 5.4986e-02,  4.5936e-02,  4.0000e-02,  4.0000e-02,  4.0000e-02,  4.5936e-02,  5.4986e-02],\n",
       "        [ 9.3521e-02,  8.6488e-02,  8.2044e-02,  8.0000e-02,  8.2044e-02,  8.6488e-02,  9.3521e-02],\n",
       "        [ 1.2966e-01,  1.2371e-01,  1.2016e-01,  1.2000e-01,  1.2016e-01,  1.2371e-01,  1.2966e-01],\n",
       "        [ 1.6636e-01,  1.6162e-01,  1.5910e-01,  1.6000e-01,  1.5910e-01,  1.6162e-01,  1.6636e-01],\n",
       "        [ 2.0386e-01,  2.0020e-01,  1.9848e-01,  2.0000e-01,  1.9848e-01,  2.0020e-01,  2.0386e-01]]))"
      ]
     },
     "execution_count": 95,
     "metadata": {},
     "output_type": "execute_result"
    }
   ],
   "source": [
    "slc=(slice(20,31),slice(27,34),0)\n",
    "rho[slc],psi_n[slc],psi_n_[slc]"
   ]
  },
  {
   "cell_type": "code",
   "execution_count": 101,
   "metadata": {},
   "outputs": [
    {
     "data": {
      "text/plain": [
       "array([[-1.2000e-01, -8.0000e-02, -4.0000e-02, -5.5511e-17,  4.0000e-02,  8.0000e-02,  1.2000e-01],\n",
       "       [-1.2000e-01, -8.0000e-02, -4.0000e-02, -5.5511e-17,  4.0000e-02,  8.0000e-02,  1.2000e-01],\n",
       "       [-1.2000e-01, -8.0000e-02, -4.0000e-02, -5.5511e-17,  4.0000e-02,  8.0000e-02,  1.2000e-01],\n",
       "       [-1.2000e-01, -8.0000e-02, -4.0000e-02, -5.5511e-17,  4.0000e-02,  8.0000e-02,  1.2000e-01],\n",
       "       [-1.2000e-01, -8.0000e-02, -4.0000e-02, -5.5511e-17,  4.0000e-02,  8.0000e-02,  1.2000e-01],\n",
       "       [-1.2000e-01, -8.0000e-02, -4.0000e-02, -5.5463e-17,  4.0000e-02,  8.0000e-02,  1.2000e-01],\n",
       "       [-1.2016e-01, -8.2044e-02, -4.0000e-02, -3.5527e-17,  4.0000e-02,  8.2044e-02,  1.2016e-01],\n",
       "       [-1.2371e-01, -8.6488e-02, -4.5936e-02, -3.5527e-17,  4.5936e-02,  8.6488e-02,  1.2371e-01],\n",
       "       [-1.2966e-01, -9.3521e-02, -5.4986e-02, -7.9936e-17,  5.4986e-02,  9.3521e-02,  1.2966e-01],\n",
       "       [-1.3589e-01, -1.0003e-01, -6.1817e-02, -2.1316e-16,  6.1817e-02,  1.0003e-01,  1.3589e-01],\n",
       "       [-1.4170e-01, -1.0563e-01, -6.7152e-02, -7.1054e-16,  6.7152e-02,  1.0563e-01,  1.4170e-01]])"
      ]
     },
     "execution_count": 101,
     "metadata": {},
     "output_type": "execute_result"
    }
   ],
   "source": [
    "phi_n1[slc]"
   ]
  },
  {
   "cell_type": "code",
   "execution_count": 115,
   "metadata": {},
   "outputs": [
    {
     "data": {
      "text/plain": [
       "(array([[-8.5396e-01, -9.1769e-01, -9.7390e-01, -1.0000e+00, -9.7390e-01, -9.1769e-01, -8.5396e-01],\n",
       "        [-8.1130e-01, -8.9099e-01, -9.6741e-01, -1.0000e+00, -9.6741e-01, -8.9099e-01, -8.1130e-01],\n",
       "        [-7.4652e-01, -8.4698e-01, -9.5824e-01, -1.0000e+00, -9.5824e-01, -8.4698e-01, -7.4652e-01],\n",
       "        [-6.4030e-01, -7.6316e-01, -9.4466e-01, -1.0000e+00, -9.4466e-01, -7.6316e-01, -6.4030e-01],\n",
       "        [-4.3851e-01, -5.2890e-01, -6.7535e-01, -1.0000e+00, -6.7535e-01, -5.2890e-01, -4.3851e-01],\n",
       "        [ 0.0000e+00,  0.0000e+00,  0.0000e+00,  5.5511e-17,  0.0000e+00,  0.0000e+00,  0.0000e+00],\n",
       "        [ 4.3851e-01,  5.2890e-01,  6.7535e-01,  1.0000e+00,  6.7535e-01,  5.2890e-01,  4.3851e-01],\n",
       "        [ 6.4030e-01,  7.6316e-01,  9.4466e-01,  1.0000e+00,  9.4466e-01,  7.6316e-01,  6.4030e-01],\n",
       "        [ 7.4652e-01,  8.4698e-01,  9.5824e-01,  1.0000e+00,  9.5824e-01,  8.4698e-01,  7.4652e-01],\n",
       "        [ 8.1130e-01,  8.9099e-01,  9.6741e-01,  1.0000e+00,  9.6741e-01,  8.9099e-01,  8.1130e-01],\n",
       "        [ 8.5396e-01,  9.1769e-01,  9.7390e-01,  1.0000e+00,  9.7390e-01,  9.1769e-01,  8.5396e-01]]),\n",
       " array([[-5.9354e-01, -4.8418e-01, -3.2949e-01, -2.6645e-15,  3.2949e-01,  4.8418e-01,  5.9354e-01],\n",
       "        [-6.6271e-01, -5.5145e-01, -3.7588e-01,  4.4409e-16,  3.7588e-01,  5.5145e-01,  6.6271e-01],\n",
       "        [-7.4652e-01, -6.4030e-01, -4.3851e-01, -4.4409e-16,  4.3851e-01,  6.4030e-01,  7.4652e-01],\n",
       "        [-8.4698e-01, -7.6316e-01, -5.2890e-01, -1.1102e-15,  5.2890e-01,  7.6316e-01,  8.4698e-01],\n",
       "        [-9.5824e-01, -9.4466e-01, -6.7535e-01, -8.8818e-16,  6.7535e-01,  9.4466e-01,  9.5824e-01],\n",
       "        [-1.0000e+00, -1.0000e+00, -1.0000e+00, -1.3323e-15,  1.0000e+00,  1.0000e+00,  1.0000e+00],\n",
       "        [-9.5824e-01, -9.4466e-01, -6.7535e-01, -8.8818e-16,  6.7535e-01,  9.4466e-01,  9.5824e-01],\n",
       "        [-8.4698e-01, -7.6316e-01, -5.2890e-01, -4.4409e-16,  5.2890e-01,  7.6316e-01,  8.4698e-01],\n",
       "        [-7.4652e-01, -6.4030e-01, -4.3851e-01, -6.6613e-16,  4.3851e-01,  6.4030e-01,  7.4652e-01],\n",
       "        [-6.6271e-01, -5.5145e-01, -3.7588e-01, -1.3323e-15,  3.7588e-01,  5.5145e-01,  6.6271e-01],\n",
       "        [-5.9354e-01, -4.8418e-01, -3.2949e-01, -3.5527e-15,  3.2949e-01,  4.8418e-01,  5.9354e-01]]),\n",
       " array([[ 1.3878e-17,  1.3878e-17,  0.0000e+00,  0.0000e+00, -2.7756e-17, -2.7756e-17, -2.7756e-17],\n",
       "        [ 2.7756e-17, -4.1633e-17,  0.0000e+00,  0.0000e+00, -5.5511e-17, -4.1633e-17, -4.1633e-17],\n",
       "        [-8.3267e-17, -8.3267e-17,  0.0000e+00,  0.0000e+00, -2.7756e-17, -4.1633e-17, -1.3878e-17],\n",
       "        [-1.3878e-17, -1.3878e-17, -6.9389e-18,  0.0000e+00,  0.0000e+00,  0.0000e+00,  0.0000e+00],\n",
       "        [-2.7756e-17, -6.9389e-18,  0.0000e+00,  0.0000e+00,  0.0000e+00, -6.9389e-18,  0.0000e+00],\n",
       "        [ 0.0000e+00,  0.0000e+00,  0.0000e+00,  0.0000e+00,  0.0000e+00,  0.0000e+00,  0.0000e+00],\n",
       "        [-2.7756e-17, -6.9389e-18,  0.0000e+00,  0.0000e+00,  0.0000e+00, -6.9389e-18,  0.0000e+00],\n",
       "        [ 0.0000e+00, -6.9389e-18,  0.0000e+00,  0.0000e+00,  0.0000e+00, -4.8572e-17, -6.9389e-17],\n",
       "        [ 0.0000e+00,  0.0000e+00, -2.7756e-17,  0.0000e+00,  0.0000e+00, -8.3267e-17, -2.7756e-17],\n",
       "        [-6.9389e-17,  2.7756e-17, -4.1633e-17,  0.0000e+00,  0.0000e+00, -8.3267e-17, -1.2490e-16],\n",
       "        [-5.5511e-17, -1.3878e-17, -1.2490e-16, -4.1633e-17,  1.3878e-17,  4.1633e-17,  1.2490e-16]]))"
      ]
     },
     "execution_count": 115,
     "metadata": {},
     "output_type": "execute_result"
    }
   ],
   "source": [
    "grad_rho[0][slc],grad_rho[1][slc],grad_rho[2][slc]"
   ]
  },
  {
   "cell_type": "code",
   "execution_count": null,
   "metadata": {},
   "outputs": [],
   "source": []
  },
  {
   "cell_type": "code",
   "execution_count": 46,
   "metadata": {},
   "outputs": [],
   "source": [
    "np.set_printoptions(linewidth=np.nan,precision=4)"
   ]
  },
  {
   "cell_type": "markdown",
   "metadata": {},
   "source": [
    "## 性能对比"
   ]
  },
  {
   "cell_type": "code",
   "execution_count": 69,
   "metadata": {},
   "outputs": [
    {
     "name": "stdout",
     "output_type": "stream",
     "text": [
      "7.78 µs ± 1.55 µs per loop (mean ± std. dev. of 7 runs, 100 loops each)\n",
      "36.4 µs ± 5.26 µs per loop (mean ± std. dev. of 7 runs, 100 loops each)\n"
     ]
    }
   ],
   "source": [
    "def f(seed,x):\n",
    "    for i in range(len(seed)-1): \n",
    "        if seed[i]>=x: \n",
    "            return i-1\n",
    "\n",
    "seed=np.linspace(-1,1,21)\n",
    "%timeit -n100 f(seed,0.31)\n",
    "\n",
    "%timeit -n100 l=seed>=0.31;np.argwhere(np.logical_xor(l[1:],l[:-1]))"
   ]
  },
  {
   "cell_type": "code",
   "execution_count": 65,
   "metadata": {},
   "outputs": [
    {
     "name": "stdout",
     "output_type": "stream",
     "text": [
      "5.53 µs ± 2.54 µs per loop (mean ± std. dev. of 7 runs, 1000 loops each)\n",
      "18.7 µs ± 3.63 µs per loop (mean ± std. dev. of 7 runs, 1000 loops each)\n"
     ]
    }
   ],
   "source": [
    "x=[1,1,1]\n",
    "pt=[0,0,0]\n",
    "%timeit -n1000 sum(((x[j]-pt[j])**2 for j in range(len(x))))**0.5\n",
    "x=np.asarray(x)\n",
    "%timeit -n1000 np.linalg.norm(np.array(pt)-x)"
   ]
  },
  {
   "cell_type": "code",
   "execution_count": 189,
   "metadata": {},
   "outputs": [],
   "source": [
    "from scipy import optimize"
   ]
  },
  {
   "cell_type": "code",
   "execution_count": 206,
   "metadata": {},
   "outputs": [],
   "source": [
    "res=optimize.minimize(fun=lambda x:x[0]**2+x[1]**2,jac=lambda x: np.array((2*x[0],2*x[1])),method='CG',x0=[1,1])"
   ]
  },
  {
   "cell_type": "code",
   "execution_count": 212,
   "metadata": {},
   "outputs": [
    {
     "data": {
      "text/plain": [
       "     fun: 1.6338860400683195e-17\n",
       "     jac: array([5.71644302e-09, 5.71644302e-09])\n",
       " message: 'Optimization terminated successfully.'\n",
       "    nfev: 6\n",
       "     nit: 3\n",
       "    njev: 6\n",
       "  status: 0\n",
       " success: True\n",
       "       x: array([2.85822151e-09, 2.85822151e-09])"
      ]
     },
     "execution_count": 212,
     "metadata": {},
     "output_type": "execute_result"
    }
   ],
   "source": [
    "res"
   ]
  },
  {
   "cell_type": "code",
   "execution_count": 222,
   "metadata": {},
   "outputs": [
    {
     "data": {
      "text/plain": [
       "array([2.85822151e-09, 2.85822151e-09, 0.00000000e+00])"
      ]
     },
     "execution_count": 222,
     "metadata": {},
     "output_type": "execute_result"
    }
   ],
   "source": [
    "np.concatenate([res.x,[0]])"
   ]
  }
 ],
 "metadata": {
  "kernelspec": {
   "display_name": "Python 3",
   "language": "python",
   "name": "python3"
  },
  "language_info": {
   "codemirror_mode": {
    "name": "ipython",
    "version": 3
   },
   "file_extension": ".py",
   "mimetype": "text/x-python",
   "name": "python",
   "nbconvert_exporter": "python",
   "pygments_lexer": "ipython3",
   "version": "3.7.1"
  }
 },
 "nbformat": 4,
 "nbformat_minor": 2
}
